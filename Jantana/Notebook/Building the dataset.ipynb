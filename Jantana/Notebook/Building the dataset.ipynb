{
 "cells": [
  {
   "cell_type": "code",
   "execution_count": 1,
   "metadata": {},
   "outputs": [],
   "source": [
    "import pandas as pd\n",
    "import matplotlib.pyplot as plt"
   ]
  },
  {
   "cell_type": "markdown",
   "metadata": {},
   "source": [
    "# Building the dataset\n",
    "\n",
    "- generate regression dataset\n",
    "- generate classification dataset"
   ]
  },
  {
   "cell_type": "markdown",
   "metadata": {},
   "source": [
    "## 1. Regression Dataset"
   ]
  },
  {
   "cell_type": "code",
   "execution_count": 2,
   "metadata": {
    "scrolled": true
   },
   "outputs": [],
   "source": [
    "from sklearn.datasets import make_regression"
   ]
  },
  {
   "cell_type": "code",
   "execution_count": 3,
   "metadata": {},
   "outputs": [],
   "source": [
    "# generate regression dataset\n",
    "X, y = make_regression(n_samples=1000, n_features=1, noise=100, shuffle=True, random_state=27)"
   ]
  },
  {
   "cell_type": "code",
   "execution_count": 4,
   "metadata": {},
   "outputs": [],
   "source": [
    "df = pd.DataFrame(X, index=range(len(X)), columns=[\"X\"])\n",
    "df[\"Y\"] = y"
   ]
  },
  {
   "cell_type": "code",
   "execution_count": 18,
   "metadata": {
    "scrolled": true
   },
   "outputs": [
    {
     "data": {
      "text/html": [
       "<div>\n",
       "<style scoped>\n",
       "    .dataframe tbody tr th:only-of-type {\n",
       "        vertical-align: middle;\n",
       "    }\n",
       "\n",
       "    .dataframe tbody tr th {\n",
       "        vertical-align: top;\n",
       "    }\n",
       "\n",
       "    .dataframe thead th {\n",
       "        text-align: right;\n",
       "    }\n",
       "</style>\n",
       "<table border=\"1\" class=\"dataframe\">\n",
       "  <thead>\n",
       "    <tr style=\"text-align: right;\">\n",
       "      <th></th>\n",
       "      <th>X1</th>\n",
       "      <th>X2</th>\n",
       "      <th>X3</th>\n",
       "      <th>Y</th>\n",
       "    </tr>\n",
       "  </thead>\n",
       "  <tbody>\n",
       "    <tr>\n",
       "      <th>0</th>\n",
       "      <td>-2.166068</td>\n",
       "      <td>-1.247767</td>\n",
       "      <td>0.285685</td>\n",
       "      <td>-184.980982</td>\n",
       "    </tr>\n",
       "    <tr>\n",
       "      <th>1</th>\n",
       "      <td>0.154733</td>\n",
       "      <td>0.562757</td>\n",
       "      <td>1.033058</td>\n",
       "      <td>136.596165</td>\n",
       "    </tr>\n",
       "    <tr>\n",
       "      <th>2</th>\n",
       "      <td>-0.144426</td>\n",
       "      <td>0.591353</td>\n",
       "      <td>-0.037168</td>\n",
       "      <td>10.231184</td>\n",
       "    </tr>\n",
       "    <tr>\n",
       "      <th>3</th>\n",
       "      <td>1.501099</td>\n",
       "      <td>0.195870</td>\n",
       "      <td>1.901946</td>\n",
       "      <td>307.014161</td>\n",
       "    </tr>\n",
       "    <tr>\n",
       "      <th>4</th>\n",
       "      <td>1.056678</td>\n",
       "      <td>0.056822</td>\n",
       "      <td>-0.020623</td>\n",
       "      <td>78.958628</td>\n",
       "    </tr>\n",
       "  </tbody>\n",
       "</table>\n",
       "</div>"
      ],
      "text/plain": [
       "         X1        X2        X3           Y\n",
       "0 -2.166068 -1.247767  0.285685 -184.980982\n",
       "1  0.154733  0.562757  1.033058  136.596165\n",
       "2 -0.144426  0.591353 -0.037168   10.231184\n",
       "3  1.501099  0.195870  1.901946  307.014161\n",
       "4  1.056678  0.056822 -0.020623   78.958628"
      ]
     },
     "execution_count": 18,
     "metadata": {},
     "output_type": "execute_result"
    }
   ],
   "source": [
    "df.head()"
   ]
  },
  {
   "cell_type": "code",
   "execution_count": 19,
   "metadata": {},
   "outputs": [],
   "source": [
    "df.to_csv(\"dataset/reg_uni.csv\")"
   ]
  },
  {
   "cell_type": "code",
   "execution_count": 20,
   "metadata": {},
   "outputs": [
    {
     "ename": "ValueError",
     "evalue": "x and y must be the same size",
     "output_type": "error",
     "traceback": [
      "\u001b[1;31m---------------------------------------------------------------------------\u001b[0m",
      "\u001b[1;31mValueError\u001b[0m                                Traceback (most recent call last)",
      "\u001b[1;32m<ipython-input-20-dc9d845251df>\u001b[0m in \u001b[0;36m<module>\u001b[1;34m\u001b[0m\n\u001b[0;32m      1\u001b[0m \u001b[1;31m# plot regression dataset\u001b[0m\u001b[1;33m\u001b[0m\u001b[1;33m\u001b[0m\u001b[1;33m\u001b[0m\u001b[0m\n\u001b[0;32m      2\u001b[0m \u001b[0mplt\u001b[0m\u001b[1;33m.\u001b[0m\u001b[0mfigure\u001b[0m\u001b[1;33m(\u001b[0m\u001b[0mfigsize\u001b[0m\u001b[1;33m=\u001b[0m\u001b[1;33m(\u001b[0m\u001b[1;36m10\u001b[0m\u001b[1;33m,\u001b[0m\u001b[1;36m10\u001b[0m\u001b[1;33m)\u001b[0m\u001b[1;33m)\u001b[0m\u001b[1;33m\u001b[0m\u001b[1;33m\u001b[0m\u001b[0m\n\u001b[1;32m----> 3\u001b[1;33m \u001b[0mplt\u001b[0m\u001b[1;33m.\u001b[0m\u001b[0mscatter\u001b[0m\u001b[1;33m(\u001b[0m\u001b[0mX\u001b[0m\u001b[1;33m,\u001b[0m\u001b[0my\u001b[0m\u001b[1;33m)\u001b[0m\u001b[1;33m\u001b[0m\u001b[1;33m\u001b[0m\u001b[0m\n\u001b[0m\u001b[0;32m      4\u001b[0m \u001b[0mplt\u001b[0m\u001b[1;33m.\u001b[0m\u001b[0mshow\u001b[0m\u001b[1;33m(\u001b[0m\u001b[1;33m)\u001b[0m\u001b[1;33m\u001b[0m\u001b[1;33m\u001b[0m\u001b[0m\n",
      "\u001b[1;32m~\\miniconda3\\lib\\site-packages\\matplotlib\\pyplot.py\u001b[0m in \u001b[0;36mscatter\u001b[1;34m(x, y, s, c, marker, cmap, norm, vmin, vmax, alpha, linewidths, verts, edgecolors, plotnonfinite, data, **kwargs)\u001b[0m\n\u001b[0;32m   2814\u001b[0m         \u001b[0mverts\u001b[0m\u001b[1;33m=\u001b[0m\u001b[0mverts\u001b[0m\u001b[1;33m,\u001b[0m \u001b[0medgecolors\u001b[0m\u001b[1;33m=\u001b[0m\u001b[0medgecolors\u001b[0m\u001b[1;33m,\u001b[0m\u001b[1;33m\u001b[0m\u001b[1;33m\u001b[0m\u001b[0m\n\u001b[0;32m   2815\u001b[0m         plotnonfinite=plotnonfinite, **({\"data\": data} if data is not\n\u001b[1;32m-> 2816\u001b[1;33m         None else {}), **kwargs)\n\u001b[0m\u001b[0;32m   2817\u001b[0m     \u001b[0msci\u001b[0m\u001b[1;33m(\u001b[0m\u001b[0m__ret\u001b[0m\u001b[1;33m)\u001b[0m\u001b[1;33m\u001b[0m\u001b[1;33m\u001b[0m\u001b[0m\n\u001b[0;32m   2818\u001b[0m     \u001b[1;32mreturn\u001b[0m \u001b[0m__ret\u001b[0m\u001b[1;33m\u001b[0m\u001b[1;33m\u001b[0m\u001b[0m\n",
      "\u001b[1;32m~\\miniconda3\\lib\\site-packages\\matplotlib\\__init__.py\u001b[0m in \u001b[0;36minner\u001b[1;34m(ax, data, *args, **kwargs)\u001b[0m\n\u001b[0;32m   1563\u001b[0m     \u001b[1;32mdef\u001b[0m \u001b[0minner\u001b[0m\u001b[1;33m(\u001b[0m\u001b[0max\u001b[0m\u001b[1;33m,\u001b[0m \u001b[1;33m*\u001b[0m\u001b[0margs\u001b[0m\u001b[1;33m,\u001b[0m \u001b[0mdata\u001b[0m\u001b[1;33m=\u001b[0m\u001b[1;32mNone\u001b[0m\u001b[1;33m,\u001b[0m \u001b[1;33m**\u001b[0m\u001b[0mkwargs\u001b[0m\u001b[1;33m)\u001b[0m\u001b[1;33m:\u001b[0m\u001b[1;33m\u001b[0m\u001b[1;33m\u001b[0m\u001b[0m\n\u001b[0;32m   1564\u001b[0m         \u001b[1;32mif\u001b[0m \u001b[0mdata\u001b[0m \u001b[1;32mis\u001b[0m \u001b[1;32mNone\u001b[0m\u001b[1;33m:\u001b[0m\u001b[1;33m\u001b[0m\u001b[1;33m\u001b[0m\u001b[0m\n\u001b[1;32m-> 1565\u001b[1;33m             \u001b[1;32mreturn\u001b[0m \u001b[0mfunc\u001b[0m\u001b[1;33m(\u001b[0m\u001b[0max\u001b[0m\u001b[1;33m,\u001b[0m \u001b[1;33m*\u001b[0m\u001b[0mmap\u001b[0m\u001b[1;33m(\u001b[0m\u001b[0msanitize_sequence\u001b[0m\u001b[1;33m,\u001b[0m \u001b[0margs\u001b[0m\u001b[1;33m)\u001b[0m\u001b[1;33m,\u001b[0m \u001b[1;33m**\u001b[0m\u001b[0mkwargs\u001b[0m\u001b[1;33m)\u001b[0m\u001b[1;33m\u001b[0m\u001b[1;33m\u001b[0m\u001b[0m\n\u001b[0m\u001b[0;32m   1566\u001b[0m \u001b[1;33m\u001b[0m\u001b[0m\n\u001b[0;32m   1567\u001b[0m         \u001b[0mbound\u001b[0m \u001b[1;33m=\u001b[0m \u001b[0mnew_sig\u001b[0m\u001b[1;33m.\u001b[0m\u001b[0mbind\u001b[0m\u001b[1;33m(\u001b[0m\u001b[0max\u001b[0m\u001b[1;33m,\u001b[0m \u001b[1;33m*\u001b[0m\u001b[0margs\u001b[0m\u001b[1;33m,\u001b[0m \u001b[1;33m**\u001b[0m\u001b[0mkwargs\u001b[0m\u001b[1;33m)\u001b[0m\u001b[1;33m\u001b[0m\u001b[1;33m\u001b[0m\u001b[0m\n",
      "\u001b[1;32m~\\miniconda3\\lib\\site-packages\\matplotlib\\cbook\\deprecation.py\u001b[0m in \u001b[0;36mwrapper\u001b[1;34m(*args, **kwargs)\u001b[0m\n\u001b[0;32m    356\u001b[0m                 \u001b[1;34mf\"%(removal)s.  If any parameter follows {name!r}, they \"\u001b[0m\u001b[1;33m\u001b[0m\u001b[1;33m\u001b[0m\u001b[0m\n\u001b[0;32m    357\u001b[0m                 f\"should be pass as keyword, not positionally.\")\n\u001b[1;32m--> 358\u001b[1;33m         \u001b[1;32mreturn\u001b[0m \u001b[0mfunc\u001b[0m\u001b[1;33m(\u001b[0m\u001b[1;33m*\u001b[0m\u001b[0margs\u001b[0m\u001b[1;33m,\u001b[0m \u001b[1;33m**\u001b[0m\u001b[0mkwargs\u001b[0m\u001b[1;33m)\u001b[0m\u001b[1;33m\u001b[0m\u001b[1;33m\u001b[0m\u001b[0m\n\u001b[0m\u001b[0;32m    359\u001b[0m \u001b[1;33m\u001b[0m\u001b[0m\n\u001b[0;32m    360\u001b[0m     \u001b[1;32mreturn\u001b[0m \u001b[0mwrapper\u001b[0m\u001b[1;33m\u001b[0m\u001b[1;33m\u001b[0m\u001b[0m\n",
      "\u001b[1;32m~\\miniconda3\\lib\\site-packages\\matplotlib\\axes\\_axes.py\u001b[0m in \u001b[0;36mscatter\u001b[1;34m(self, x, y, s, c, marker, cmap, norm, vmin, vmax, alpha, linewidths, verts, edgecolors, plotnonfinite, **kwargs)\u001b[0m\n\u001b[0;32m   4389\u001b[0m         \u001b[0my\u001b[0m \u001b[1;33m=\u001b[0m \u001b[0mnp\u001b[0m\u001b[1;33m.\u001b[0m\u001b[0mma\u001b[0m\u001b[1;33m.\u001b[0m\u001b[0mravel\u001b[0m\u001b[1;33m(\u001b[0m\u001b[0my\u001b[0m\u001b[1;33m)\u001b[0m\u001b[1;33m\u001b[0m\u001b[1;33m\u001b[0m\u001b[0m\n\u001b[0;32m   4390\u001b[0m         \u001b[1;32mif\u001b[0m \u001b[0mx\u001b[0m\u001b[1;33m.\u001b[0m\u001b[0msize\u001b[0m \u001b[1;33m!=\u001b[0m \u001b[0my\u001b[0m\u001b[1;33m.\u001b[0m\u001b[0msize\u001b[0m\u001b[1;33m:\u001b[0m\u001b[1;33m\u001b[0m\u001b[1;33m\u001b[0m\u001b[0m\n\u001b[1;32m-> 4391\u001b[1;33m             \u001b[1;32mraise\u001b[0m \u001b[0mValueError\u001b[0m\u001b[1;33m(\u001b[0m\u001b[1;34m\"x and y must be the same size\"\u001b[0m\u001b[1;33m)\u001b[0m\u001b[1;33m\u001b[0m\u001b[1;33m\u001b[0m\u001b[0m\n\u001b[0m\u001b[0;32m   4392\u001b[0m \u001b[1;33m\u001b[0m\u001b[0m\n\u001b[0;32m   4393\u001b[0m         \u001b[1;32mif\u001b[0m \u001b[0ms\u001b[0m \u001b[1;32mis\u001b[0m \u001b[1;32mNone\u001b[0m\u001b[1;33m:\u001b[0m\u001b[1;33m\u001b[0m\u001b[1;33m\u001b[0m\u001b[0m\n",
      "\u001b[1;31mValueError\u001b[0m: x and y must be the same size"
     ]
    },
    {
     "data": {
      "image/png": "[encoded data removed]",
      "text/plain": [
       "<Figure size 720x720 with 1 Axes>"
      ]
     },
     "metadata": {
      "needs_background": "light"
     },
     "output_type": "display_data"
    }
   ],
   "source": [
    "# plot regression dataset\n",
    "plt.figure(figsize=(10,10))\n",
    "plt.scatter(X,y)\n",
    "plt.show()"
   ]
  },
  {
   "cell_type": "code",
   "execution_count": null,
   "metadata": {},
   "outputs": [],
   "source": []
  },
  {
   "cell_type": "code",
   "execution_count": 21,
   "metadata": {},
   "outputs": [],
   "source": [
    "# generate regression dataset\n",
    "X, y = make_regression(n_samples=50, n_features=3, noise=0.1, shuffle=True, random_state=27)"
   ]
  },
  {
   "cell_type": "code",
   "execution_count": 22,
   "metadata": {},
   "outputs": [
    {
     "data": {
      "text/plain": [
       "(50, 3)"
      ]
     },
     "execution_count": 22,
     "metadata": {},
     "output_type": "execute_result"
    }
   ],
   "source": [
    "X.shape"
   ]
  },
  {
   "cell_type": "code",
   "execution_count": 23,
   "metadata": {},
   "outputs": [
    {
     "data": {
      "text/html": [
       "<div>\n",
       "<style scoped>\n",
       "    .dataframe tbody tr th:only-of-type {\n",
       "        vertical-align: middle;\n",
       "    }\n",
       "\n",
       "    .dataframe tbody tr th {\n",
       "        vertical-align: top;\n",
       "    }\n",
       "\n",
       "    .dataframe thead th {\n",
       "        text-align: right;\n",
       "    }\n",
       "</style>\n",
       "<table border=\"1\" class=\"dataframe\">\n",
       "  <thead>\n",
       "    <tr style=\"text-align: right;\">\n",
       "      <th></th>\n",
       "      <th>X1</th>\n",
       "      <th>X2</th>\n",
       "      <th>X3</th>\n",
       "      <th>Y</th>\n",
       "    </tr>\n",
       "  </thead>\n",
       "  <tbody>\n",
       "    <tr>\n",
       "      <th>0</th>\n",
       "      <td>-2.166068</td>\n",
       "      <td>-1.247767</td>\n",
       "      <td>0.285685</td>\n",
       "      <td>-184.980982</td>\n",
       "    </tr>\n",
       "    <tr>\n",
       "      <th>1</th>\n",
       "      <td>0.154733</td>\n",
       "      <td>0.562757</td>\n",
       "      <td>1.033058</td>\n",
       "      <td>136.596165</td>\n",
       "    </tr>\n",
       "    <tr>\n",
       "      <th>2</th>\n",
       "      <td>-0.144426</td>\n",
       "      <td>0.591353</td>\n",
       "      <td>-0.037168</td>\n",
       "      <td>10.231184</td>\n",
       "    </tr>\n",
       "    <tr>\n",
       "      <th>3</th>\n",
       "      <td>1.501099</td>\n",
       "      <td>0.195870</td>\n",
       "      <td>1.901946</td>\n",
       "      <td>307.014161</td>\n",
       "    </tr>\n",
       "    <tr>\n",
       "      <th>4</th>\n",
       "      <td>1.056678</td>\n",
       "      <td>0.056822</td>\n",
       "      <td>-0.020623</td>\n",
       "      <td>78.958628</td>\n",
       "    </tr>\n",
       "  </tbody>\n",
       "</table>\n",
       "</div>"
      ],
      "text/plain": [
       "         X1        X2        X3           Y\n",
       "0 -2.166068 -1.247767  0.285685 -184.980982\n",
       "1  0.154733  0.562757  1.033058  136.596165\n",
       "2 -0.144426  0.591353 -0.037168   10.231184\n",
       "3  1.501099  0.195870  1.901946  307.014161\n",
       "4  1.056678  0.056822 -0.020623   78.958628"
      ]
     },
     "execution_count": 23,
     "metadata": {},
     "output_type": "execute_result"
    }
   ],
   "source": [
    "df = pd.DataFrame(dict(X1=X[:,0], X2=X[:, 1], X3=X[:,2], Y=y))\n",
    "df.head()"
   ]
  },
  {
   "cell_type": "code",
   "execution_count": 24,
   "metadata": {},
   "outputs": [
    {
     "data": {
      "image/png": "[encoded data removed]",
      "text/plain": [
       "<Figure size 720x720 with 1 Axes>"
      ]
     },
     "metadata": {
      "needs_background": "light"
     },
     "output_type": "display_data"
    }
   ],
   "source": [
    "# plot regression dataset\n",
    "plt.figure(figsize=(10,10))\n",
    "plt.scatter(df[\"X1\"], df[\"Y\"], color=\"r\")\n",
    "plt.scatter(df[\"X2\"], df[\"Y\"], color=\"g\")\n",
    "plt.scatter(df[\"X3\"], df[\"Y\"], color=\"b\")\n",
    "plt.show()"
   ]
  },
  {
   "cell_type": "code",
   "execution_count": 25,
   "metadata": {},
   "outputs": [],
   "source": [
    "df.to_csv(\"dataset/reg_mult.csv\")"
   ]
  },
  {
   "cell_type": "markdown",
   "metadata": {},
   "source": [
    "## 2. Classification dataset"
   ]
  },
  {
   "cell_type": "markdown",
   "metadata": {},
   "source": [
    "## 2.1 make_blobs"
   ]
  },
  {
   "cell_type": "code",
   "execution_count": 26,
   "metadata": {},
   "outputs": [],
   "source": [
    "from sklearn.datasets import make_blobs"
   ]
  },
  {
   "cell_type": "code",
   "execution_count": 27,
   "metadata": {},
   "outputs": [],
   "source": [
    "X, y = make_blobs(n_samples=100, centers=3, n_features=2)"
   ]
  },
  {
   "cell_type": "code",
   "execution_count": 28,
   "metadata": {},
   "outputs": [
    {
     "data": {
      "text/html": [
       "<div>\n",
       "<style scoped>\n",
       "    .dataframe tbody tr th:only-of-type {\n",
       "        vertical-align: middle;\n",
       "    }\n",
       "\n",
       "    .dataframe tbody tr th {\n",
       "        vertical-align: top;\n",
       "    }\n",
       "\n",
       "    .dataframe thead th {\n",
       "        text-align: right;\n",
       "    }\n",
       "</style>\n",
       "<table border=\"1\" class=\"dataframe\">\n",
       "  <thead>\n",
       "    <tr style=\"text-align: right;\">\n",
       "      <th></th>\n",
       "      <th>x</th>\n",
       "      <th>y</th>\n",
       "      <th>label</th>\n",
       "    </tr>\n",
       "  </thead>\n",
       "  <tbody>\n",
       "    <tr>\n",
       "      <th>0</th>\n",
       "      <td>3.369095</td>\n",
       "      <td>-7.869191</td>\n",
       "      <td>1</td>\n",
       "    </tr>\n",
       "    <tr>\n",
       "      <th>1</th>\n",
       "      <td>7.549231</td>\n",
       "      <td>-6.239032</td>\n",
       "      <td>0</td>\n",
       "    </tr>\n",
       "    <tr>\n",
       "      <th>2</th>\n",
       "      <td>8.276812</td>\n",
       "      <td>-6.270538</td>\n",
       "      <td>0</td>\n",
       "    </tr>\n",
       "    <tr>\n",
       "      <th>3</th>\n",
       "      <td>2.115624</td>\n",
       "      <td>-6.230533</td>\n",
       "      <td>1</td>\n",
       "    </tr>\n",
       "    <tr>\n",
       "      <th>4</th>\n",
       "      <td>1.941792</td>\n",
       "      <td>-6.149929</td>\n",
       "      <td>1</td>\n",
       "    </tr>\n",
       "  </tbody>\n",
       "</table>\n",
       "</div>"
      ],
      "text/plain": [
       "          x         y  label\n",
       "0  3.369095 -7.869191      1\n",
       "1  7.549231 -6.239032      0\n",
       "2  8.276812 -6.270538      0\n",
       "3  2.115624 -6.230533      1\n",
       "4  1.941792 -6.149929      1"
      ]
     },
     "execution_count": 28,
     "metadata": {},
     "output_type": "execute_result"
    }
   ],
   "source": [
    "df = pd.DataFrame(dict(x=X[:,0], y=X[:,1], label=y))\n",
    "df.head()"
   ]
  },
  {
   "cell_type": "code",
   "execution_count": 29,
   "metadata": {},
   "outputs": [
    {
     "data": {
      "image/png": "[encoded data removed]",
      "text/plain": [
       "<Figure size 720x576 with 1 Axes>"
      ]
     },
     "metadata": {
      "needs_background": "light"
     },
     "output_type": "display_data"
    }
   ],
   "source": [
    "# group dataset by label\n",
    "grouped = df.groupby('label')\n",
    "\n",
    "# plot classification dataset\n",
    "colors = {0:'red', 1:'blue', 2:'green'}\n",
    "fig, ax = plt.subplots()\n",
    "for key, group in grouped:\n",
    "    group.plot(ax=ax, kind='scatter', x='x', y='y', label=key, color=colors[key], figsize=(10,8))\n",
    "plt.show()"
   ]
  },
  {
   "cell_type": "code",
   "execution_count": 30,
   "metadata": {},
   "outputs": [],
   "source": [
    "df.to_csv(\"dataset/class_blobs.csv\")"
   ]
  },
  {
   "cell_type": "markdown",
   "metadata": {},
   "source": [
    "## 2.2 make_moons"
   ]
  },
  {
   "cell_type": "code",
   "execution_count": 31,
   "metadata": {},
   "outputs": [],
   "source": [
    "from sklearn.datasets import make_moons"
   ]
  },
  {
   "cell_type": "code",
   "execution_count": 32,
   "metadata": {},
   "outputs": [],
   "source": [
    "X, y = make_moons(n_samples=500, noise=0.1)"
   ]
  },
  {
   "cell_type": "code",
   "execution_count": 33,
   "metadata": {},
   "outputs": [
    {
     "data": {
      "text/plain": [
       "array([[-0.41678176,  0.72993376],\n",
       "       [ 0.93041915, -0.57923455],\n",
       "       [ 0.05639246,  0.12849658],\n",
       "       [ 0.12504094, -0.28186468],\n",
       "       [ 2.04292741,  0.33830206],\n",
       "       [ 1.04634349,  0.19444948],\n",
       "       [ 1.86924282, -0.17119534],\n",
       "       [-0.2270199 ,  0.92412816],\n",
       "       [-0.13306435,  1.10841562],\n",
       "       [-0.9288884 ,  0.03955835],\n",
       "       [ 1.96477104,  0.45139766],\n",
       "       [ 2.09807459,  0.26027615],\n",
       "       [ 0.20724163, -0.26926913],\n",
       "       [ 0.57439885,  0.68347272],\n",
       "       [ 0.83357349, -0.33553046],\n",
       "       [ 2.04848573,  0.20046096],\n",
       "       [ 0.80495941, -0.35973539],\n",
       "       [-0.87194145,  0.05734741],\n",
       "       [ 0.69870188,  0.57821366],\n",
       "       [ 1.95195731,  0.04350592],\n",
       "       [ 0.72939671, -0.29228026],\n",
       "       [ 1.85520982, -0.14434098],\n",
       "       [ 0.38086064, -0.32391529],\n",
       "       [-0.75499345,  0.62613869],\n",
       "       [ 0.19501959,  1.03050147],\n",
       "       [ 0.80534945,  0.58482107],\n",
       "       [ 0.36636557, -0.3286756 ],\n",
       "       [-0.72732895,  0.82408646],\n",
       "       [ 1.04579462,  0.258787  ],\n",
       "       [ 0.7024678 ,  0.55614096],\n",
       "       [ 0.59886438,  0.81974073],\n",
       "       [ 2.20908601,  0.25698585],\n",
       "       [ 1.24112359, -0.25095599],\n",
       "       [ 0.99384799,  0.17579276],\n",
       "       [ 0.111606  ,  0.20729218],\n",
       "       [ 1.10627547,  0.09142796],\n",
       "       [ 0.59155587,  1.00727162],\n",
       "       [-1.02554725,  0.60821706],\n",
       "       [ 1.00974148,  0.50098176],\n",
       "       [-0.26696291,  0.85008613],\n",
       "       [ 0.24938661,  0.88765908],\n",
       "       [ 0.46806313, -0.34268237],\n",
       "       [ 0.25780951,  0.83683188],\n",
       "       [ 1.78812657, -0.41955864],\n",
       "       [ 0.56937793, -0.11849525],\n",
       "       [ 0.40129186, -0.49291843],\n",
       "       [-0.11714336,  0.94366138],\n",
       "       [ 0.70883624, -0.41203131],\n",
       "       [ 1.21411968, -0.55799458],\n",
       "       [ 0.13028491,  0.06944599],\n",
       "       [ 1.21773658, -0.43011416],\n",
       "       [ 0.87233189, -0.34193907],\n",
       "       [-0.037887  ,  0.51702023],\n",
       "       [-0.55571492,  0.67054904],\n",
       "       [ 1.48489022, -0.4304087 ],\n",
       "       [-0.40530105,  0.99902826],\n",
       "       [ 0.43406507,  0.81460985],\n",
       "       [ 1.14758677, -0.28006017],\n",
       "       [-0.43067316,  1.04060116],\n",
       "       [-0.10981496,  0.98708969],\n",
       "       [-0.92866033,  0.21609783],\n",
       "       [ 0.30304425, -0.09827387],\n",
       "       [ 0.64295748,  0.93330294],\n",
       "       [-0.57751325,  0.96992984],\n",
       "       [ 0.8643599 ,  0.5388036 ],\n",
       "       [-0.91536845,  0.34119061],\n",
       "       [ 1.96964027,  0.18127671],\n",
       "       [-0.80308423,  0.62763345],\n",
       "       [ 1.9264727 ,  0.16594343],\n",
       "       [ 0.98723507, -0.39544478],\n",
       "       [ 0.90997824, -0.46869995],\n",
       "       [ 1.19922756, -0.36021873],\n",
       "       [ 0.06338643,  0.12256338],\n",
       "       [ 2.21617229,  0.41410743],\n",
       "       [ 0.97791493,  0.29099362],\n",
       "       [ 1.80564627, -0.13939305],\n",
       "       [ 0.97039733,  0.39580107],\n",
       "       [-0.5797662 ,  0.71057767],\n",
       "       [-0.49819252,  0.81712827],\n",
       "       [ 0.65203114, -0.45073673],\n",
       "       [-0.84928349,  0.26355007],\n",
       "       [-0.94400272,  0.27239998],\n",
       "       [ 0.03980316,  1.13495725],\n",
       "       [-0.94075477,  0.15913033],\n",
       "       [-0.15264667,  0.9102938 ],\n",
       "       [-0.189561  ,  1.03695693],\n",
       "       [ 1.72858081,  0.18791742],\n",
       "       [-0.09061426,  1.04995345],\n",
       "       [-0.95056812,  0.00353549],\n",
       "       [ 1.04519017,  0.41364087],\n",
       "       [-0.87221578,  0.78105681],\n",
       "       [ 1.95982387, -0.16253162],\n",
       "       [ 0.16503913,  0.91023865],\n",
       "       [ 0.2554973 ,  0.3377613 ],\n",
       "       [-0.31682151,  1.00953027],\n",
       "       [ 0.98787035, -0.39809258],\n",
       "       [ 1.30186821, -0.5109467 ],\n",
       "       [ 1.33817714, -0.53612223],\n",
       "       [ 0.98314114,  0.14266519],\n",
       "       [-0.6955525 ,  0.77623999],\n",
       "       [-0.26867032,  1.11149868],\n",
       "       [-0.63167246,  0.74780411],\n",
       "       [ 0.34514844, -0.35313175],\n",
       "       [ 0.05623657,  0.92926247],\n",
       "       [ 0.71680639,  0.75678553],\n",
       "       [ 0.56818409, -0.55257476],\n",
       "       [ 0.81060707, -0.38931765],\n",
       "       [ 0.34536393, -0.15344622],\n",
       "       [ 0.54229426, -0.49401888],\n",
       "       [ 0.71780265,  0.38820792],\n",
       "       [ 0.63454759, -0.57638822],\n",
       "       [ 0.05549664,  0.52262533],\n",
       "       [ 0.71221854,  0.68132749],\n",
       "       [ 0.98938954, -0.45149947],\n",
       "       [ 0.8742381 ,  0.59456998],\n",
       "       [-0.9731715 ,  0.50174253],\n",
       "       [ 1.81924302, -0.18871111],\n",
       "       [ 0.48157615, -0.26047429],\n",
       "       [ 0.80502432,  0.47755183],\n",
       "       [-0.0042525 ,  0.15855712],\n",
       "       [ 1.17626908, -0.61851794],\n",
       "       [ 1.65144008, -0.00784675],\n",
       "       [ 1.05469876, -0.39324727],\n",
       "       [ 0.03759906,  0.27715041],\n",
       "       [ 0.40022193,  0.93052169],\n",
       "       [ 0.79139916,  0.41747844],\n",
       "       [ 0.16328998,  0.05696565],\n",
       "       [-0.81432464,  0.28377766],\n",
       "       [ 0.46320541, -0.13531849],\n",
       "       [ 1.09376063, -0.43114096],\n",
       "       [ 0.02253634,  1.1033944 ],\n",
       "       [ 2.08910308,  0.36971645],\n",
       "       [-0.76433359,  0.40763815],\n",
       "       [ 1.93689073,  0.36248607],\n",
       "       [ 0.06173574,  0.1015053 ],\n",
       "       [ 0.42651728,  1.01838059],\n",
       "       [ 0.51252014,  0.99974036],\n",
       "       [-0.75324039,  0.38631769],\n",
       "       [ 1.98725731,  0.19566389],\n",
       "       [ 0.11394886, -0.17793178],\n",
       "       [-0.6283657 ,  0.58313469],\n",
       "       [ 1.97900199,  0.04597947],\n",
       "       [ 1.8917138 ,  0.32027712],\n",
       "       [ 1.01332787,  0.22390846],\n",
       "       [-1.05380953,  0.16350799],\n",
       "       [-0.24460508,  1.0364376 ],\n",
       "       [-1.07356764,  0.01836525],\n",
       "       [-0.90296802,  0.41071534],\n",
       "       [ 0.09416608,  0.17713841],\n",
       "       [ 0.30474575, -0.1970742 ],\n",
       "       [ 0.93248272,  0.4099703 ],\n",
       "       [ 0.5971392 , -0.33770258],\n",
       "       [-0.08444759,  0.96047343],\n",
       "       [-0.2981624 ,  1.00248398],\n",
       "       [-0.62678067,  0.53655679],\n",
       "       [ 0.60233498,  0.45299523],\n",
       "       [-0.09407489,  0.34433324],\n",
       "       [ 0.54842935, -0.37271352],\n",
       "       [-0.60942131,  0.83170535],\n",
       "       [ 2.19412388,  0.22708587],\n",
       "       [-0.82724177, -0.03612124],\n",
       "       [ 0.72311455, -0.41259977],\n",
       "       [-0.60493362,  1.14488707],\n",
       "       [ 0.94352707,  0.65404045],\n",
       "       [ 1.31053788, -0.46483941],\n",
       "       [-0.44960335,  0.8823703 ],\n",
       "       [ 0.78240619, -0.36233148],\n",
       "       [ 0.17653311,  0.25000182],\n",
       "       [ 1.50339086, -0.39745316],\n",
       "       [ 1.14129923, -0.57136911],\n",
       "       [ 0.18762108, -0.11378637],\n",
       "       [ 1.0694734 ,  0.14864324],\n",
       "       [ 0.41004083, -0.27596815],\n",
       "       [ 0.31467076,  0.77974202],\n",
       "       [-1.03065193,  0.2609328 ],\n",
       "       [ 0.99880049,  0.05782876],\n",
       "       [ 1.71523395,  0.00898409],\n",
       "       [-0.98905382,  0.07487412],\n",
       "       [-1.02159559,  0.08183046],\n",
       "       [ 0.38311142,  1.05545659],\n",
       "       [ 1.08890683, -0.62101199],\n",
       "       [ 1.01614091,  0.25937924],\n",
       "       [ 1.39276551, -0.27194181],\n",
       "       [ 0.59374831,  0.8165248 ],\n",
       "       [ 0.17131736, -0.03691302],\n",
       "       [-0.9855142 ,  0.22810967],\n",
       "       [-0.07504355,  0.27163418],\n",
       "       [-0.63718633,  0.51343575],\n",
       "       [ 0.30379037, -0.25855839],\n",
       "       [-0.24559763,  1.00731286],\n",
       "       [-0.38786367,  0.85857939],\n",
       "       [ 0.96181656, -0.0149512 ],\n",
       "       [ 0.10239229,  1.10436642],\n",
       "       [-0.85266597,  0.32849995],\n",
       "       [-1.08122489,  0.3300649 ],\n",
       "       [-0.00945689,  1.09550406],\n",
       "       [ 1.90160915, -0.27179871],\n",
       "       [ 1.91885189,  0.0858591 ],\n",
       "       [-0.40950919,  0.88358858],\n",
       "       [-0.8618223 ,  0.64426082],\n",
       "       [ 1.92688878,  0.22813712],\n",
       "       [ 0.92653571,  0.51107372],\n",
       "       [-1.07412005,  0.10338762],\n",
       "       [-0.08799984,  0.53128721],\n",
       "       [ 2.05213638,  0.15727237],\n",
       "       [ 0.57634781,  0.83265552],\n",
       "       [ 1.9334346 ,  0.52120761],\n",
       "       [ 1.96339897, -0.02533989],\n",
       "       [ 1.03074152, -0.21930183],\n",
       "       [ 0.50379725, -0.44197598],\n",
       "       [ 0.0953945 ,  0.37387521],\n",
       "       [ 0.01810839,  0.2947503 ],\n",
       "       [-0.09378916,  0.27450576],\n",
       "       [-0.04355789,  0.23954661],\n",
       "       [ 1.76838084,  0.05469137],\n",
       "       [-0.01280187,  0.11871268],\n",
       "       [ 0.78413445, -0.39499059],\n",
       "       [-0.82216018,  0.03113755],\n",
       "       [ 0.35089768, -0.48664389],\n",
       "       [-0.69146831,  1.07989377],\n",
       "       [ 1.25214209, -0.29346446],\n",
       "       [ 2.00621279,  0.32034754],\n",
       "       [ 0.32003612,  0.89935798],\n",
       "       [ 1.93300302, -0.07962888],\n",
       "       [ 0.91508594,  0.72752129],\n",
       "       [ 0.22735834, -0.17418856],\n",
       "       [ 1.9135279 ,  0.67670599],\n",
       "       [-0.74567499,  0.53960414],\n",
       "       [ 0.67402975,  0.59402199],\n",
       "       [ 0.5171231 ,  0.89549128],\n",
       "       [ 1.71777307, -0.1184931 ],\n",
       "       [-0.89906244,  0.61076185],\n",
       "       [ 0.4528845 , -0.40852526],\n",
       "       [-0.4397915 ,  0.87306956],\n",
       "       [-0.66416414,  0.61477044],\n",
       "       [ 1.11843271, -0.50530321],\n",
       "       [ 0.60580341,  0.76271816],\n",
       "       [ 1.56500925, -0.51341665],\n",
       "       [ 1.17366177, -0.63079821],\n",
       "       [ 1.4440911 , -0.48410013],\n",
       "       [-0.09693492,  0.39109721],\n",
       "       [ 1.45663786, -0.28287154],\n",
       "       [ 1.96636026,  0.3222808 ],\n",
       "       [ 0.07420714,  1.02487933],\n",
       "       [-1.07751573,  0.02951104],\n",
       "       [ 0.3903039 ,  0.67532771],\n",
       "       [ 1.39156579, -0.36667309],\n",
       "       [-0.01816123,  0.83009656],\n",
       "       [ 0.22606838,  0.15120929],\n",
       "       [-0.7901776 ,  0.8027646 ],\n",
       "       [-0.06319397,  0.03857543],\n",
       "       [ 1.91493828,  0.51680234],\n",
       "       [ 0.99226666, -0.27299574],\n",
       "       [ 1.1239648 ,  0.21160925],\n",
       "       [-0.43629621,  0.86803811],\n",
       "       [ 0.35945696, -0.33163039],\n",
       "       [ 0.06497621,  0.50081729],\n",
       "       [-0.07947286,  0.42239059],\n",
       "       [ 0.97951921, -0.29440458],\n",
       "       [ 1.04027743,  0.50030448],\n",
       "       [-0.32174331,  0.87520946],\n",
       "       [-0.01132302,  0.43374792],\n",
       "       [ 0.12722955,  0.9998125 ],\n",
       "       [-1.01895302,  0.5755142 ],\n",
       "       [ 0.71122017,  0.92348831],\n",
       "       [ 0.19079635,  0.06665296],\n",
       "       [ 0.18946936, -0.10029375],\n",
       "       [ 1.77348337, -0.17033379],\n",
       "       [-0.19570401,  0.93377687],\n",
       "       [ 0.8649531 ,  0.12739562],\n",
       "       [ 1.29649696, -0.57854798],\n",
       "       [ 1.02738584,  0.27737825],\n",
       "       [-0.41008273,  0.78632375],\n",
       "       [ 1.09596972, -0.56154134],\n",
       "       [ 0.87543931, -0.41313674],\n",
       "       [ 1.94028393,  0.37888   ],\n",
       "       [ 0.0683633 ,  1.13559683],\n",
       "       [ 0.93779824,  0.27683832],\n",
       "       [-0.74117835,  0.76217587],\n",
       "       [ 0.49851014,  0.60222724],\n",
       "       [ 0.18098334,  0.41402507],\n",
       "       [ 0.35046666,  0.96217093],\n",
       "       [ 1.79489679, -0.1107063 ],\n",
       "       [ 1.17637435, -0.3760764 ],\n",
       "       [ 0.5505275 , -0.46668375],\n",
       "       [-0.19961619,  1.07100948],\n",
       "       [ 1.94110016,  0.5791355 ],\n",
       "       [ 0.63290292,  0.91070018],\n",
       "       [ 1.94365256,  0.44991547],\n",
       "       [ 1.49203487, -0.44956899],\n",
       "       [ 0.76992615, -0.40879282],\n",
       "       [ 1.76583861, -0.23747647],\n",
       "       [ 1.80448198, -0.00588302],\n",
       "       [ 1.23901657, -0.36140981],\n",
       "       [ 1.23352778, -0.49456026],\n",
       "       [ 0.87048601,  0.40414862],\n",
       "       [ 0.62197445,  0.76048587],\n",
       "       [ 0.29509697,  0.03488071],\n",
       "       [ 1.68500436, -0.30092932],\n",
       "       [ 0.85508474,  0.48585718],\n",
       "       [ 1.96436649,  0.3003796 ],\n",
       "       [ 1.88581046, -0.10810289],\n",
       "       [ 0.7690987 ,  0.47691378],\n",
       "       [ 1.62903239, -0.52394925],\n",
       "       [ 1.03361078,  0.42962596],\n",
       "       [ 1.01647529,  0.15806612],\n",
       "       [-0.55425121,  0.80818988],\n",
       "       [ 0.78390749, -0.47878306],\n",
       "       [ 1.73531011,  0.11255079],\n",
       "       [ 1.12841374,  0.14269273],\n",
       "       [ 0.43458925,  0.89225179],\n",
       "       [-0.86266321,  0.20172826],\n",
       "       [-0.53578773,  0.7047461 ],\n",
       "       [ 0.65770024, -0.57545841],\n",
       "       [-0.16311119,  0.9777279 ],\n",
       "       [-0.99167577,  0.16105522],\n",
       "       [ 0.23221467,  0.28223684],\n",
       "       [ 0.16713792,  0.37057262],\n",
       "       [ 1.6486855 , -0.08675429],\n",
       "       [ 0.73718897,  0.69795238],\n",
       "       [ 1.35366377, -0.47791306],\n",
       "       [ 1.73558465, -0.26270491],\n",
       "       [-0.59829435,  0.84683952],\n",
       "       [ 1.62297582, -0.39364964],\n",
       "       [ 0.10443464,  0.8672504 ],\n",
       "       [-0.50002359,  1.00316188],\n",
       "       [ 0.54339319,  0.81020066],\n",
       "       [-0.55025583,  0.92457279],\n",
       "       [-1.10082313,  0.25063638],\n",
       "       [ 0.58122005, -0.3365388 ],\n",
       "       [ 0.85028711,  0.10802349],\n",
       "       [ 0.45938429,  0.58033096],\n",
       "       [ 1.95437112,  0.36854984],\n",
       "       [ 1.22268074, -0.36117642],\n",
       "       [ 0.20676267, -0.24918895],\n",
       "       [ 0.42179858,  1.11181717],\n",
       "       [-0.37749072,  0.91586305],\n",
       "       [ 0.55955392,  0.80943357],\n",
       "       [-0.03156082,  1.15034764],\n",
       "       [ 1.13043007, -0.53827457],\n",
       "       [ 1.084537  ,  0.31188603],\n",
       "       [ 1.26040623, -0.37719023],\n",
       "       [ 0.10771388,  0.34259658],\n",
       "       [-0.84914378,  0.40570501],\n",
       "       [ 0.64955283,  0.89277047],\n",
       "       [ 1.94333336,  0.07731186],\n",
       "       [ 0.86604274,  0.59169157],\n",
       "       [ 1.96320678,  0.24738596],\n",
       "       [-0.20917052,  1.10293817],\n",
       "       [ 0.32371795,  0.9821053 ],\n",
       "       [-0.72158258,  0.46548936],\n",
       "       [ 1.26204144, -0.16861123],\n",
       "       [ 0.77723618,  0.52619935],\n",
       "       [ 0.22122985,  0.94617459],\n",
       "       [ 1.66201044, -0.15667806],\n",
       "       [ 0.19582347,  0.0222142 ],\n",
       "       [-1.04043078,  0.22527841],\n",
       "       [ 1.21472458, -0.30614779],\n",
       "       [ 0.06167432,  0.23107118],\n",
       "       [ 0.5361932 , -0.41957969],\n",
       "       [ 2.03620628,  0.15729535],\n",
       "       [ 1.13598572, -0.54024349],\n",
       "       [-0.72894139,  0.95185632],\n",
       "       [ 0.41837857, -0.10616806],\n",
       "       [-0.92952107,  0.70127578],\n",
       "       [ 0.93707393,  0.57814102],\n",
       "       [-0.56778312,  0.85394151],\n",
       "       [ 0.21795536, -0.03447483],\n",
       "       [ 0.99000393, -0.44234933],\n",
       "       [-0.12459534,  0.404662  ],\n",
       "       [ 1.48792115, -0.39633067],\n",
       "       [ 0.37430381, -0.11146669],\n",
       "       [-0.74027622,  0.65404866],\n",
       "       [-0.88701642,  0.52282476],\n",
       "       [-0.43432732,  0.99697483],\n",
       "       [ 0.08341713,  0.1575691 ],\n",
       "       [ 2.06537584,  0.0915553 ],\n",
       "       [ 2.00703805,  0.15969348],\n",
       "       [-0.35129722,  0.94456699],\n",
       "       [ 0.57948342, -0.49694429],\n",
       "       [-0.03678775,  1.11450948],\n",
       "       [ 0.64433201,  0.81113515],\n",
       "       [ 0.34188784,  0.92942602],\n",
       "       [ 0.13364565,  0.3750297 ],\n",
       "       [ 0.58135439,  0.76149821],\n",
       "       [ 0.97256024, -0.47473852],\n",
       "       [-0.94763645,  0.16992893],\n",
       "       [ 1.72779148, -0.26560197],\n",
       "       [ 1.75163972, -0.36648865],\n",
       "       [-0.54902794,  0.88084867],\n",
       "       [ 0.18044524,  0.0495795 ],\n",
       "       [ 0.22243386,  0.9269034 ],\n",
       "       [-0.89750044,  0.38182519],\n",
       "       [-0.48709054,  0.99656182],\n",
       "       [-0.8017201 ,  0.42138212],\n",
       "       [ 0.82649115, -0.42653615],\n",
       "       [ 1.54015751, -0.3521185 ],\n",
       "       [ 1.4564423 , -0.5253287 ],\n",
       "       [ 1.7875888 , -0.14292072],\n",
       "       [-0.0995998 ,  0.86112113],\n",
       "       [ 1.78570198, -0.03857145],\n",
       "       [ 1.16031929, -0.07775469],\n",
       "       [ 0.38697152, -0.22392646],\n",
       "       [ 1.6278469 , -0.29497392],\n",
       "       [ 0.24333592, -0.21252709],\n",
       "       [-0.83536307,  0.45823137],\n",
       "       [ 0.38763692,  0.85751754],\n",
       "       [ 1.89837391,  0.00238611],\n",
       "       [-0.93683654,  0.0993447 ],\n",
       "       [ 0.77029548,  0.90023821],\n",
       "       [ 1.92364676,  0.04727093],\n",
       "       [ 0.3929303 , -0.0568884 ],\n",
       "       [ 0.89048579,  0.22575669],\n",
       "       [-0.97865622,  0.46936152],\n",
       "       [-0.95896496,  0.2105321 ],\n",
       "       [ 0.54343591, -0.51258588],\n",
       "       [ 0.97736751,  0.15983989],\n",
       "       [ 0.00621569,  1.01409839],\n",
       "       [ 0.47948393, -0.28209248],\n",
       "       [ 0.83968199,  0.62808232],\n",
       "       [ 0.19671296, -0.30381913],\n",
       "       [ 0.19876568,  1.12789505],\n",
       "       [ 1.63106507, -0.26645858],\n",
       "       [ 0.83548419, -0.46564029],\n",
       "       [ 1.72403264, -0.07209001],\n",
       "       [ 1.65643317, -0.28089706],\n",
       "       [ 0.25915751,  0.96263483],\n",
       "       [-1.15552279, -0.13792101],\n",
       "       [-0.13316049,  0.862069  ],\n",
       "       [ 0.25507224, -0.17851308],\n",
       "       [ 0.79209485, -0.33879478],\n",
       "       [ 0.51302671,  0.82529538],\n",
       "       [ 0.10714345, -0.21824353],\n",
       "       [ 2.11379257,  0.10400317],\n",
       "       [ 0.08490421,  0.06098166],\n",
       "       [-0.72739229,  0.53741171],\n",
       "       [ 0.34057436, -0.31476131],\n",
       "       [ 0.11618271,  1.0850209 ],\n",
       "       [ 1.82159548, -0.21574371],\n",
       "       [ 0.7794462 ,  0.41392235],\n",
       "       [ 1.67617193, -0.52803734],\n",
       "       [ 0.62679401,  0.61099748],\n",
       "       [ 2.02290957,  0.44920901],\n",
       "       [ 0.70151267,  0.5254533 ],\n",
       "       [-0.0107864 ,  0.35819153],\n",
       "       [ 0.33449294, -0.317095  ],\n",
       "       [-0.02668672,  0.41582901],\n",
       "       [ 2.02786303,  0.3358127 ],\n",
       "       [ 0.90186494,  0.31360314],\n",
       "       [ 0.90358127, -0.47726092],\n",
       "       [ 0.10696977,  1.02783445],\n",
       "       [-0.61816652,  0.70529481],\n",
       "       [ 0.48392978, -0.11218013],\n",
       "       [-0.91725058,  0.61201521],\n",
       "       [ 0.60935602,  0.81998182],\n",
       "       [ 0.62319672,  0.80060227],\n",
       "       [ 0.22252485, -0.00812164],\n",
       "       [ 1.26407225, -0.42302783],\n",
       "       [ 1.03191835,  0.09537316],\n",
       "       [ 0.42399255,  1.04917262],\n",
       "       [ 1.57407491, -0.135624  ],\n",
       "       [ 1.17188478, -0.58926391],\n",
       "       [-0.54455383,  0.39544926],\n",
       "       [ 0.8162948 , -0.38072327],\n",
       "       [ 0.09046143,  1.07449462],\n",
       "       [-0.01801112,  1.07966502],\n",
       "       [ 0.19630746,  0.25440418],\n",
       "       [ 0.61758756,  0.87810565],\n",
       "       [-0.27424512,  0.98373078],\n",
       "       [ 1.06449326,  0.32668681],\n",
       "       [-0.61870179,  0.68078703],\n",
       "       [ 0.68238856,  0.61579243],\n",
       "       [-0.25519321,  1.09911301],\n",
       "       [-0.01532217,  0.03900262],\n",
       "       [-0.98353153,  0.58584999],\n",
       "       [-0.60384174,  0.72431543],\n",
       "       [ 0.27832374,  0.83517153],\n",
       "       [-0.78620821,  0.43403521],\n",
       "       [-0.5552809 ,  0.83255354],\n",
       "       [ 0.87802263,  0.55206557],\n",
       "       [ 0.95111602,  0.0696869 ],\n",
       "       [ 1.50066379, -0.33668801],\n",
       "       [ 1.69071453, -0.07513689],\n",
       "       [ 1.14011809, -0.44191814],\n",
       "       [ 1.70246444, -0.08252304],\n",
       "       [ 0.1155579 ,  1.12594992],\n",
       "       [ 0.64344554, -0.58109094],\n",
       "       [ 1.46303859, -0.53318746],\n",
       "       [ 1.77999912,  0.44679335],\n",
       "       [-0.04504296,  1.09149995],\n",
       "       [ 0.91758321, -0.59733588],\n",
       "       [ 1.27512644, -0.2384027 ],\n",
       "       [-0.96817681,  0.14311532],\n",
       "       [ 0.94757556, -0.04107812],\n",
       "       [ 0.08946548,  0.0265783 ],\n",
       "       [ 0.8906292 ,  0.73728759],\n",
       "       [ 0.4195367 ,  0.95859735],\n",
       "       [ 0.05643002,  0.04411849],\n",
       "       [ 1.49314037, -0.2839861 ],\n",
       "       [ 0.84326149, -0.60366286]])"
      ]
     },
     "execution_count": 33,
     "metadata": {},
     "output_type": "execute_result"
    }
   ],
   "source": [
    "X"
   ]
  },
  {
   "cell_type": "code",
   "execution_count": 34,
   "metadata": {},
   "outputs": [],
   "source": [
    "df = pd.DataFrame(dict(x=X[:,0], y=X[:,1], label=y))"
   ]
  },
  {
   "cell_type": "code",
   "execution_count": 35,
   "metadata": {},
   "outputs": [
    {
     "data": {
      "image/png": "[encoded data removed]",
      "text/plain": [
       "<Figure size 720x576 with 1 Axes>"
      ]
     },
     "metadata": {
      "needs_background": "light"
     },
     "output_type": "display_data"
    }
   ],
   "source": [
    "# group dataset by label\n",
    "grouped = df.groupby('label')\n",
    "\n",
    "# plot classification dataset\n",
    "colors = {0:'red', 1:'blue'}\n",
    "fig, ax = plt.subplots()\n",
    "for key, group in grouped:\n",
    "    group.plot(ax=ax, kind='scatter', x='x', y='y', label=key, color=colors[key], figsize=(10,8))\n",
    "plt.show()"
   ]
  },
  {
   "cell_type": "code",
   "execution_count": 36,
   "metadata": {},
   "outputs": [],
   "source": [
    "df.to_csv(\"dataset/class_moons.csv\")"
   ]
  },
  {
   "cell_type": "markdown",
   "metadata": {},
   "source": [
    "## 2.3 make_circles"
   ]
  },
  {
   "cell_type": "code",
   "execution_count": 37,
   "metadata": {},
   "outputs": [],
   "source": [
    "from sklearn.datasets import make_circles"
   ]
  },
  {
   "cell_type": "code",
   "execution_count": 38,
   "metadata": {},
   "outputs": [],
   "source": [
    "X, y = make_circles(n_samples=500, noise=0.05)"
   ]
  },
  {
   "cell_type": "code",
   "execution_count": 39,
   "metadata": {},
   "outputs": [
    {
     "data": {
      "text/html": [
       "<div>\n",
       "<style scoped>\n",
       "    .dataframe tbody tr th:only-of-type {\n",
       "        vertical-align: middle;\n",
       "    }\n",
       "\n",
       "    .dataframe tbody tr th {\n",
       "        vertical-align: top;\n",
       "    }\n",
       "\n",
       "    .dataframe thead th {\n",
       "        text-align: right;\n",
       "    }\n",
       "</style>\n",
       "<table border=\"1\" class=\"dataframe\">\n",
       "  <thead>\n",
       "    <tr style=\"text-align: right;\">\n",
       "      <th></th>\n",
       "      <th>x</th>\n",
       "      <th>y</th>\n",
       "      <th>label</th>\n",
       "    </tr>\n",
       "  </thead>\n",
       "  <tbody>\n",
       "    <tr>\n",
       "      <th>0</th>\n",
       "      <td>-0.656436</td>\n",
       "      <td>-0.819249</td>\n",
       "      <td>0</td>\n",
       "    </tr>\n",
       "    <tr>\n",
       "      <th>1</th>\n",
       "      <td>0.536463</td>\n",
       "      <td>-0.858640</td>\n",
       "      <td>0</td>\n",
       "    </tr>\n",
       "    <tr>\n",
       "      <th>2</th>\n",
       "      <td>-0.149176</td>\n",
       "      <td>-0.793745</td>\n",
       "      <td>1</td>\n",
       "    </tr>\n",
       "    <tr>\n",
       "      <th>3</th>\n",
       "      <td>-0.287421</td>\n",
       "      <td>-0.743281</td>\n",
       "      <td>1</td>\n",
       "    </tr>\n",
       "    <tr>\n",
       "      <th>4</th>\n",
       "      <td>-0.190615</td>\n",
       "      <td>-0.963594</td>\n",
       "      <td>0</td>\n",
       "    </tr>\n",
       "  </tbody>\n",
       "</table>\n",
       "</div>"
      ],
      "text/plain": [
       "          x         y  label\n",
       "0 -0.656436 -0.819249      0\n",
       "1  0.536463 -0.858640      0\n",
       "2 -0.149176 -0.793745      1\n",
       "3 -0.287421 -0.743281      1\n",
       "4 -0.190615 -0.963594      0"
      ]
     },
     "execution_count": 39,
     "metadata": {},
     "output_type": "execute_result"
    }
   ],
   "source": [
    "# scatter plot, dots colored by class value\n",
    "df = pd.DataFrame(dict(x=X[:,0], y=X[:,1], label=y))\n",
    "df.head()"
   ]
  },
  {
   "cell_type": "code",
   "execution_count": 40,
   "metadata": {},
   "outputs": [
    {
     "data": {
      "image/png": "[encoded data removed]",
      "text/plain": [
       "<Figure size 720x576 with 1 Axes>"
      ]
     },
     "metadata": {
      "needs_background": "light"
     },
     "output_type": "display_data"
    }
   ],
   "source": [
    "# group dataset by label\n",
    "grouped = df.groupby('label')\n",
    "\n",
    "# plot classification dataset\n",
    "colors = {0:'red', 1:'blue'}\n",
    "fig, ax = plt.subplots()\n",
    "for key, group in grouped:\n",
    "    group.plot(ax=ax, kind='scatter', x='x', y='y', label=key, color=colors[key], figsize=(10,8))\n",
    "plt.show()"
   ]
  },
  {
   "cell_type": "code",
   "execution_count": 41,
   "metadata": {},
   "outputs": [],
   "source": [
    "df.to_csv(\"dataset/class_circles.csv\")"
   ]
  },
  {
   "cell_type": "code",
   "execution_count": null,
   "metadata": {},
   "outputs": [],
   "source": []
  },
  {
   "cell_type": "code",
   "execution_count": null,
   "metadata": {},
   "outputs": [],
   "source": []
  }
 ],
 "metadata": {
  "kernelspec": {
   "display_name": "Python 3",
   "language": "python",
   "name": "python3"
  },
  "language_info": {
   "codemirror_mode": {
    "name": "ipython",
    "version": 3
   },
   "file_extension": ".py",
   "mimetype": "text/x-python",
   "name": "python",
   "nbconvert_exporter": "python",
   "pygments_lexer": "ipython3",
   "version": "3.7.7"
  }
 },
 "nbformat": 4,
 "nbformat_minor": 4
}
