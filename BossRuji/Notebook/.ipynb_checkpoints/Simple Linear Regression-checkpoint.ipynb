{
 "cells": [
  {
   "cell_type": "markdown",
   "metadata": {},
   "source": [
    "# Simple Linear Regression"
   ]
  },
  {
   "cell_type": "code",
   "execution_count": 1,
   "metadata": {},
   "outputs": [],
   "source": [
    "# Basic Library\n",
    "import pandas as pd\n",
    "import numpy as np\n",
    "import matplotlib.pyplot as plt\n",
    "%matplotlib inline"
   ]
  },
  {
   "cell_type": "markdown",
   "metadata": {},
   "source": [
    "----"
   ]
  },
  {
   "cell_type": "markdown",
   "metadata": {},
   "source": [
    "## Load Dataset"
   ]
  },
  {
   "cell_type": "code",
   "execution_count": 6,
   "metadata": {},
   "outputs": [],
   "source": [
    "df  = pd.read_csv(\"dataset/student_scores.csv\")"
   ]
  },
  {
   "cell_type": "code",
   "execution_count": 7,
   "metadata": {},
   "outputs": [
    {
     "data": {
      "text/plain": [
       "(25, 2)"
      ]
     },
     "execution_count": 7,
     "metadata": {},
     "output_type": "execute_result"
    }
   ],
   "source": [
    "# shape\n",
    "df.shape"
   ]
  },
  {
   "cell_type": "code",
   "execution_count": 8,
   "metadata": {},
   "outputs": [
    {
     "data": {
      "text/html": [
       "<div>\n",
       "<style scoped>\n",
       "    .dataframe tbody tr th:only-of-type {\n",
       "        vertical-align: middle;\n",
       "    }\n",
       "\n",
       "    .dataframe tbody tr th {\n",
       "        vertical-align: top;\n",
       "    }\n",
       "\n",
       "    .dataframe thead th {\n",
       "        text-align: right;\n",
       "    }\n",
       "</style>\n",
       "<table border=\"1\" class=\"dataframe\">\n",
       "  <thead>\n",
       "    <tr style=\"text-align: right;\">\n",
       "      <th></th>\n",
       "      <th>Hours</th>\n",
       "      <th>Scores</th>\n",
       "    </tr>\n",
       "  </thead>\n",
       "  <tbody>\n",
       "    <tr>\n",
       "      <th>0</th>\n",
       "      <td>2.5</td>\n",
       "      <td>21</td>\n",
       "    </tr>\n",
       "    <tr>\n",
       "      <th>1</th>\n",
       "      <td>5.1</td>\n",
       "      <td>47</td>\n",
       "    </tr>\n",
       "    <tr>\n",
       "      <th>2</th>\n",
       "      <td>3.2</td>\n",
       "      <td>27</td>\n",
       "    </tr>\n",
       "    <tr>\n",
       "      <th>3</th>\n",
       "      <td>8.5</td>\n",
       "      <td>75</td>\n",
       "    </tr>\n",
       "    <tr>\n",
       "      <th>4</th>\n",
       "      <td>3.5</td>\n",
       "      <td>30</td>\n",
       "    </tr>\n",
       "  </tbody>\n",
       "</table>\n",
       "</div>"
      ],
      "text/plain": [
       "   Hours  Scores\n",
       "0    2.5      21\n",
       "1    5.1      47\n",
       "2    3.2      27\n",
       "3    8.5      75\n",
       "4    3.5      30"
      ]
     },
     "execution_count": 8,
     "metadata": {},
     "output_type": "execute_result"
    }
   ],
   "source": [
    "# top 5 rows in dataframe\n",
    "df.head()"
   ]
  },
  {
   "cell_type": "code",
   "execution_count": 11,
   "metadata": {},
   "outputs": [
    {
     "name": "stdout",
     "output_type": "stream",
     "text": [
      "<class 'pandas.core.frame.DataFrame'>\n",
      "RangeIndex: 25 entries, 0 to 24\n",
      "Data columns (total 2 columns):\n",
      " #   Column  Non-Null Count  Dtype  \n",
      "---  ------  --------------  -----  \n",
      " 0   Hours   25 non-null     float64\n",
      " 1   Scores  25 non-null     int64  \n",
      "dtypes: float64(1), int64(1)\n",
      "memory usage: 528.0 bytes\n"
     ]
    }
   ],
   "source": [
    "df.info()"
   ]
  },
  {
   "cell_type": "code",
   "execution_count": 12,
   "metadata": {},
   "outputs": [
    {
     "data": {
      "text/html": [
       "<div>\n",
       "<style scoped>\n",
       "    .dataframe tbody tr th:only-of-type {\n",
       "        vertical-align: middle;\n",
       "    }\n",
       "\n",
       "    .dataframe tbody tr th {\n",
       "        vertical-align: top;\n",
       "    }\n",
       "\n",
       "    .dataframe thead th {\n",
       "        text-align: right;\n",
       "    }\n",
       "</style>\n",
       "<table border=\"1\" class=\"dataframe\">\n",
       "  <thead>\n",
       "    <tr style=\"text-align: right;\">\n",
       "      <th></th>\n",
       "      <th>count</th>\n",
       "      <th>mean</th>\n",
       "      <th>std</th>\n",
       "      <th>min</th>\n",
       "      <th>25%</th>\n",
       "      <th>50%</th>\n",
       "      <th>75%</th>\n",
       "      <th>max</th>\n",
       "    </tr>\n",
       "  </thead>\n",
       "  <tbody>\n",
       "    <tr>\n",
       "      <th>Hours</th>\n",
       "      <td>25.0</td>\n",
       "      <td>5.012</td>\n",
       "      <td>2.525094</td>\n",
       "      <td>1.1</td>\n",
       "      <td>2.7</td>\n",
       "      <td>4.8</td>\n",
       "      <td>7.4</td>\n",
       "      <td>9.2</td>\n",
       "    </tr>\n",
       "    <tr>\n",
       "      <th>Scores</th>\n",
       "      <td>25.0</td>\n",
       "      <td>51.480</td>\n",
       "      <td>25.286887</td>\n",
       "      <td>17.0</td>\n",
       "      <td>30.0</td>\n",
       "      <td>47.0</td>\n",
       "      <td>75.0</td>\n",
       "      <td>95.0</td>\n",
       "    </tr>\n",
       "  </tbody>\n",
       "</table>\n",
       "</div>"
      ],
      "text/plain": [
       "        count    mean        std   min   25%   50%   75%   max\n",
       "Hours    25.0   5.012   2.525094   1.1   2.7   4.8   7.4   9.2\n",
       "Scores   25.0  51.480  25.286887  17.0  30.0  47.0  75.0  95.0"
      ]
     },
     "execution_count": 12,
     "metadata": {},
     "output_type": "execute_result"
    }
   ],
   "source": [
    "# statistical details\n",
    "df.describe().T"
   ]
  },
  {
   "cell_type": "code",
   "execution_count": 13,
   "metadata": {},
   "outputs": [
    {
     "data": {
      "image/png": "[encoded data removed]",
      "text/plain": [
       "<Figure size 648x648 with 1 Axes>"
      ]
     },
     "metadata": {
      "needs_background": "light"
     },
     "output_type": "display_data"
    }
   ],
   "source": [
    "# plot 2-D graph find any relationship between the data\n",
    "df.plot(x='Hours', y='Scores', style='o', figsize=(9,9))\n",
    "plt.title('Hours Vs. Scores', fontsize=20)\n",
    "plt.xlabel('Hours', fontsize=20)\n",
    "plt.ylabel('Scores', fontsize=20)\n",
    "plt.show()"
   ]
  },
  {
   "cell_type": "code",
   "execution_count": 14,
   "metadata": {},
   "outputs": [
    {
     "ename": "KeyError",
     "evalue": "'Ho'",
     "output_type": "error",
     "traceback": [
      "\u001b[1;31m---------------------------------------------------------------------------\u001b[0m",
      "\u001b[1;31mKeyError\u001b[0m                                  Traceback (most recent call last)",
      "\u001b[1;32mc:\\users\\enruj\\envs\\jupyterenv\\lib\\site-packages\\pandas\\core\\indexes\\base.py\u001b[0m in \u001b[0;36mget_loc\u001b[1;34m(self, key, method, tolerance)\u001b[0m\n\u001b[0;32m   2645\u001b[0m             \u001b[1;32mtry\u001b[0m\u001b[1;33m:\u001b[0m\u001b[1;33m\u001b[0m\u001b[1;33m\u001b[0m\u001b[0m\n\u001b[1;32m-> 2646\u001b[1;33m                 \u001b[1;32mreturn\u001b[0m \u001b[0mself\u001b[0m\u001b[1;33m.\u001b[0m\u001b[0m_engine\u001b[0m\u001b[1;33m.\u001b[0m\u001b[0mget_loc\u001b[0m\u001b[1;33m(\u001b[0m\u001b[0mkey\u001b[0m\u001b[1;33m)\u001b[0m\u001b[1;33m\u001b[0m\u001b[1;33m\u001b[0m\u001b[0m\n\u001b[0m\u001b[0;32m   2647\u001b[0m             \u001b[1;32mexcept\u001b[0m \u001b[0mKeyError\u001b[0m\u001b[1;33m:\u001b[0m\u001b[1;33m\u001b[0m\u001b[1;33m\u001b[0m\u001b[0m\n",
      "\u001b[1;32mpandas\\_libs\\index.pyx\u001b[0m in \u001b[0;36mpandas._libs.index.IndexEngine.get_loc\u001b[1;34m()\u001b[0m\n",
      "\u001b[1;32mpandas\\_libs\\index.pyx\u001b[0m in \u001b[0;36mpandas._libs.index.IndexEngine.get_loc\u001b[1;34m()\u001b[0m\n",
      "\u001b[1;32mpandas\\_libs\\hashtable_class_helper.pxi\u001b[0m in \u001b[0;36mpandas._libs.hashtable.PyObjectHashTable.get_item\u001b[1;34m()\u001b[0m\n",
      "\u001b[1;32mpandas\\_libs\\hashtable_class_helper.pxi\u001b[0m in \u001b[0;36mpandas._libs.hashtable.PyObjectHashTable.get_item\u001b[1;34m()\u001b[0m\n",
      "\u001b[1;31mKeyError\u001b[0m: 'Ho'",
      "\nDuring handling of the above exception, another exception occurred:\n",
      "\u001b[1;31mKeyError\u001b[0m                                  Traceback (most recent call last)",
      "\u001b[1;32m<ipython-input-14-48d1ab2080cd>\u001b[0m in \u001b[0;36m<module>\u001b[1;34m\u001b[0m\n\u001b[0;32m      1\u001b[0m \u001b[1;31m# Preparing the Data\u001b[0m\u001b[1;33m\u001b[0m\u001b[1;33m\u001b[0m\u001b[1;33m\u001b[0m\u001b[0m\n\u001b[1;32m----> 2\u001b[1;33m \u001b[0mX\u001b[0m \u001b[1;33m=\u001b[0m \u001b[0mdf\u001b[0m\u001b[1;33m[\u001b[0m\u001b[1;34m\"Ho\"\u001b[0m\u001b[1;33m]\u001b[0m\u001b[1;33m.\u001b[0m\u001b[0mvalues\u001b[0m\u001b[1;33m\u001b[0m\u001b[1;33m\u001b[0m\u001b[0m\n\u001b[0m\u001b[0;32m      3\u001b[0m \u001b[0my\u001b[0m \u001b[1;33m=\u001b[0m \u001b[0mdf\u001b[0m\u001b[1;33m[\u001b[0m\u001b[1;34m\"Y\"\u001b[0m\u001b[1;33m]\u001b[0m\u001b[1;33m.\u001b[0m\u001b[0mvalues\u001b[0m\u001b[1;33m\u001b[0m\u001b[1;33m\u001b[0m\u001b[0m\n",
      "\u001b[1;32mc:\\users\\enruj\\envs\\jupyterenv\\lib\\site-packages\\pandas\\core\\frame.py\u001b[0m in \u001b[0;36m__getitem__\u001b[1;34m(self, key)\u001b[0m\n\u001b[0;32m   2798\u001b[0m             \u001b[1;32mif\u001b[0m \u001b[0mself\u001b[0m\u001b[1;33m.\u001b[0m\u001b[0mcolumns\u001b[0m\u001b[1;33m.\u001b[0m\u001b[0mnlevels\u001b[0m \u001b[1;33m>\u001b[0m \u001b[1;36m1\u001b[0m\u001b[1;33m:\u001b[0m\u001b[1;33m\u001b[0m\u001b[1;33m\u001b[0m\u001b[0m\n\u001b[0;32m   2799\u001b[0m                 \u001b[1;32mreturn\u001b[0m \u001b[0mself\u001b[0m\u001b[1;33m.\u001b[0m\u001b[0m_getitem_multilevel\u001b[0m\u001b[1;33m(\u001b[0m\u001b[0mkey\u001b[0m\u001b[1;33m)\u001b[0m\u001b[1;33m\u001b[0m\u001b[1;33m\u001b[0m\u001b[0m\n\u001b[1;32m-> 2800\u001b[1;33m             \u001b[0mindexer\u001b[0m \u001b[1;33m=\u001b[0m \u001b[0mself\u001b[0m\u001b[1;33m.\u001b[0m\u001b[0mcolumns\u001b[0m\u001b[1;33m.\u001b[0m\u001b[0mget_loc\u001b[0m\u001b[1;33m(\u001b[0m\u001b[0mkey\u001b[0m\u001b[1;33m)\u001b[0m\u001b[1;33m\u001b[0m\u001b[1;33m\u001b[0m\u001b[0m\n\u001b[0m\u001b[0;32m   2801\u001b[0m             \u001b[1;32mif\u001b[0m \u001b[0mis_integer\u001b[0m\u001b[1;33m(\u001b[0m\u001b[0mindexer\u001b[0m\u001b[1;33m)\u001b[0m\u001b[1;33m:\u001b[0m\u001b[1;33m\u001b[0m\u001b[1;33m\u001b[0m\u001b[0m\n\u001b[0;32m   2802\u001b[0m                 \u001b[0mindexer\u001b[0m \u001b[1;33m=\u001b[0m \u001b[1;33m[\u001b[0m\u001b[0mindexer\u001b[0m\u001b[1;33m]\u001b[0m\u001b[1;33m\u001b[0m\u001b[1;33m\u001b[0m\u001b[0m\n",
      "\u001b[1;32mc:\\users\\enruj\\envs\\jupyterenv\\lib\\site-packages\\pandas\\core\\indexes\\base.py\u001b[0m in \u001b[0;36mget_loc\u001b[1;34m(self, key, method, tolerance)\u001b[0m\n\u001b[0;32m   2646\u001b[0m                 \u001b[1;32mreturn\u001b[0m \u001b[0mself\u001b[0m\u001b[1;33m.\u001b[0m\u001b[0m_engine\u001b[0m\u001b[1;33m.\u001b[0m\u001b[0mget_loc\u001b[0m\u001b[1;33m(\u001b[0m\u001b[0mkey\u001b[0m\u001b[1;33m)\u001b[0m\u001b[1;33m\u001b[0m\u001b[1;33m\u001b[0m\u001b[0m\n\u001b[0;32m   2647\u001b[0m             \u001b[1;32mexcept\u001b[0m \u001b[0mKeyError\u001b[0m\u001b[1;33m:\u001b[0m\u001b[1;33m\u001b[0m\u001b[1;33m\u001b[0m\u001b[0m\n\u001b[1;32m-> 2648\u001b[1;33m                 \u001b[1;32mreturn\u001b[0m \u001b[0mself\u001b[0m\u001b[1;33m.\u001b[0m\u001b[0m_engine\u001b[0m\u001b[1;33m.\u001b[0m\u001b[0mget_loc\u001b[0m\u001b[1;33m(\u001b[0m\u001b[0mself\u001b[0m\u001b[1;33m.\u001b[0m\u001b[0m_maybe_cast_indexer\u001b[0m\u001b[1;33m(\u001b[0m\u001b[0mkey\u001b[0m\u001b[1;33m)\u001b[0m\u001b[1;33m)\u001b[0m\u001b[1;33m\u001b[0m\u001b[1;33m\u001b[0m\u001b[0m\n\u001b[0m\u001b[0;32m   2649\u001b[0m         \u001b[0mindexer\u001b[0m \u001b[1;33m=\u001b[0m \u001b[0mself\u001b[0m\u001b[1;33m.\u001b[0m\u001b[0mget_indexer\u001b[0m\u001b[1;33m(\u001b[0m\u001b[1;33m[\u001b[0m\u001b[0mkey\u001b[0m\u001b[1;33m]\u001b[0m\u001b[1;33m,\u001b[0m \u001b[0mmethod\u001b[0m\u001b[1;33m=\u001b[0m\u001b[0mmethod\u001b[0m\u001b[1;33m,\u001b[0m \u001b[0mtolerance\u001b[0m\u001b[1;33m=\u001b[0m\u001b[0mtolerance\u001b[0m\u001b[1;33m)\u001b[0m\u001b[1;33m\u001b[0m\u001b[1;33m\u001b[0m\u001b[0m\n\u001b[0;32m   2650\u001b[0m         \u001b[1;32mif\u001b[0m \u001b[0mindexer\u001b[0m\u001b[1;33m.\u001b[0m\u001b[0mndim\u001b[0m \u001b[1;33m>\u001b[0m \u001b[1;36m1\u001b[0m \u001b[1;32mor\u001b[0m \u001b[0mindexer\u001b[0m\u001b[1;33m.\u001b[0m\u001b[0msize\u001b[0m \u001b[1;33m>\u001b[0m \u001b[1;36m1\u001b[0m\u001b[1;33m:\u001b[0m\u001b[1;33m\u001b[0m\u001b[1;33m\u001b[0m\u001b[0m\n",
      "\u001b[1;32mpandas\\_libs\\index.pyx\u001b[0m in \u001b[0;36mpandas._libs.index.IndexEngine.get_loc\u001b[1;34m()\u001b[0m\n",
      "\u001b[1;32mpandas\\_libs\\index.pyx\u001b[0m in \u001b[0;36mpandas._libs.index.IndexEngine.get_loc\u001b[1;34m()\u001b[0m\n",
      "\u001b[1;32mpandas\\_libs\\hashtable_class_helper.pxi\u001b[0m in \u001b[0;36mpandas._libs.hashtable.PyObjectHashTable.get_item\u001b[1;34m()\u001b[0m\n",
      "\u001b[1;32mpandas\\_libs\\hashtable_class_helper.pxi\u001b[0m in \u001b[0;36mpandas._libs.hashtable.PyObjectHashTable.get_item\u001b[1;34m()\u001b[0m\n",
      "\u001b[1;31mKeyError\u001b[0m: 'Ho'"
     ]
    }
   ],
   "source": [
    "# Preparing the Data\n",
    "X = df[\"Ho\"].values\n",
    "y = df[\"Y\"].values"
   ]
  },
  {
   "cell_type": "markdown",
   "metadata": {},
   "source": [
    "## split this data into training and test sets"
   ]
  },
  {
   "cell_type": "code",
   "execution_count": 51,
   "metadata": {},
   "outputs": [],
   "source": [
    "from sklearn.model_selection import train_test_split"
   ]
  },
  {
   "cell_type": "code",
   "execution_count": 52,
   "metadata": {},
   "outputs": [],
   "source": [
    "X_train, X_test, y_train, y_test = train_test_split(X, y, test_size=0.2, random_state=0)"
   ]
  },
  {
   "cell_type": "markdown",
   "metadata": {},
   "source": [
    "## Modelling"
   ]
  },
  {
   "cell_type": "code",
   "execution_count": 53,
   "metadata": {},
   "outputs": [],
   "source": [
    "from sklearn.linear_model import LinearRegression"
   ]
  },
  {
   "cell_type": "code",
   "execution_count": 54,
   "metadata": {},
   "outputs": [
    {
     "data": {
      "text/plain": [
       "LinearRegression()"
      ]
     },
     "execution_count": 54,
     "metadata": {},
     "output_type": "execute_result"
    }
   ],
   "source": [
    "model = LinearRegression()\n",
    "model"
   ]
  },
  {
   "cell_type": "markdown",
   "metadata": {},
   "source": [
    "## Train model"
   ]
  },
  {
   "cell_type": "code",
   "execution_count": 55,
   "metadata": {},
   "outputs": [
    {
     "ename": "ValueError",
     "evalue": "Expected 2D array, got 1D array instead:\narray=[ 0.11947343  0.5773723  -0.95985466 -0.28642774 -0.89067748  1.09021136\n  0.82684954 -1.70358749 -0.65706313  2.48518255  0.84252238  0.03152016\n  0.30763474 -0.47424871  0.60581164  0.3105841   0.23641917  1.39050267\n  0.20824474 -0.60540865  0.61138366  0.06227937  0.11856951  0.55944866\n -0.26700359 -0.18361915 -0.47022569 -1.77305609 -3.34150345  0.50100369\n  0.76113001 -0.83707783 -0.55401904  0.239872    2.39337231  0.18155842\n -1.07806357 -0.50941703 -2.17688615  0.39717707 -0.60036917 -0.39298962\n  0.54849862  0.75244404  0.22340565 -0.77152375  0.64842454 -0.25078665\n -0.07568551  1.05667825 -2.40336798 -0.226937    0.82105655 -0.47345217\n  0.41991704 -0.23925428 -1.44362603 -0.89770719  1.52651795  0.33282019\n -1.06044466  1.3453783   0.57315594  0.92867614 -2.30666878  0.57758016\n -0.6206406  -0.35709796 -0.66806832 -1.19985786  0.17014134 -0.68786326\n  0.00849681  1.07811426 -0.8689024  -0.54585317 -1.7453828   1.25362359\n -1.26249998  1.26600328 -0.41413637  0.80712633  0.76542551  1.69063461\n  1.06615716 -0.62691772 -0.9719271   0.78978693  1.9528145   0.74227388\n -0.22283871  0.18043253 -2.03636495  0.40976835  0.89386131  1.20758876\n  2.07954788 -0.15273292  1.41298889 -1.45976414 -1.65626211  0.19992625\n -0.03986665  0.61743164  1.13985643  1.02094614  0.00873201  2.24788076\n -1.37868031  2.37009469  1.32655808 -1.27489939 -0.53045651 -1.26929223\n -1.47952898 -0.05419848  0.82990944 -0.23678037  0.56935217  0.13889729\n -0.99530901  0.72544035 -1.71989707 -0.68389093  0.31979547 -1.2776532\n  0.55551314 -1.06451349  1.45471118  0.3958776  -0.36647411 -1.3825875\n -1.46026267  2.00302005 -1.19158378  0.06961903 -1.18596298  0.60321692\n  1.15170034  0.79973968  0.0046112   0.7605297  -0.99519228  0.71517115\n  1.01305513 -0.09317957 -1.0858828  -0.79955277 -1.34395164  0.19587018\n  0.06533141  0.67813747 -1.2480478   0.807959    0.96164398 -0.79658205\n  0.82685132  0.38757784 -0.40384869 -0.03622126  1.29274718  0.69785512\n  0.11609873 -2.58179631  1.83463045  0.82658491  1.16843681 -0.36980115\n -0.26142354  0.37674294  0.79337468  1.90194636  0.94661997  1.64447014\n  0.39714751 -1.06023175 -0.32598574  0.14050179  1.56177921  0.88005547\n  0.65067827  1.23574529 -1.30810329  0.77294633 -1.19899413 -1.09391719\n -0.61978288 -0.89542115 -0.9756159   0.17591181 -0.44580009 -0.86062863\n -1.33606192 -0.14527828 -1.57121219  0.2106603  -0.25323085  1.17412334\n -0.33180862  0.52833506  0.08465965 -0.46400466 -0.58928791 -1.60533281\n -0.8505634   1.10056217  1.95332646  2.75837867 -1.12887337  2.62140351\n  1.25615208 -1.13311408 -0.09054531 -0.76595262  0.40405928 -0.5579043\n  0.52571792  0.5913527   0.14692528 -0.73517655 -0.11647319 -2.62169056\n -0.71730819  0.44958027  1.52675315 -0.52148047  0.07863711 -1.11507676\n  1.47950924  1.54403205 -0.92362153  1.28534225  0.25169121 -0.56113918\n  0.3881355  -0.8844265   0.61907566  0.41838832  0.25807776  0.15061938\n -0.80651897  0.90093846 -0.19112886 -2.22570855 -0.57722657 -1.6166392\n -1.51996125 -2.08951967  0.09890315 -1.3511168  -1.50884303  0.19559004\n  0.11982463 -0.77780991 -1.67221349 -0.85337641  0.03825448  0.0815112\n -0.92839828 -0.57922135  0.42584254  1.19546794  0.29077483 -1.37265838\n -0.356205    1.80932844  0.41332774  0.53856293 -0.62713234  0.78158598\n -1.20795799 -0.15169884 -1.10906228 -1.52519648  1.39500022 -0.07566957\n  2.03389178 -0.612569    0.9819164  -0.25587843  2.57186778 -0.54324389\n  0.45646271  1.98592776 -0.23231835  0.6268797   0.49472616  0.4223647\n  0.73876472 -2.04255214 -1.31053963  0.31580882  0.77322804  1.10255068\n -0.18563412  0.62433694  0.26432361  0.51764959 -1.3740559  -0.25597247\n -1.7958329   1.10894289 -0.5641239   0.58146877  0.38289393  0.20839166\n  1.94215143 -0.27548308 -0.56639888  0.07466151 -1.15646826  0.27106616\n  2.48550106  0.79658723  1.52331962  0.36591727 -0.33237836  1.65588777\n -0.80136138 -1.00742444  1.80317302  0.51978011 -0.507376   -0.4488066\n -0.16800526 -0.42393858 -0.18513255  0.39599855 -0.76605679 -0.0322152\n -1.07020216 -0.36220511  0.72515181  0.16909366 -0.45911796  1.07373529\n -1.97778766 -0.78719937  0.68033242 -0.72152762 -1.19525479  1.529206\n  1.56984596 -0.5481795  -0.34016437  0.72306177 -1.81530047  0.22514192\n  1.13773918  0.32784416 -1.81935322  0.01353328 -0.71443438 -0.57419503\n  0.20048245 -1.16910886  0.23566528 -1.23370216 -0.21076989  0.48550104\n -0.14159627 -0.30023172 -1.36967895  1.25634798 -0.01720623 -2.16606772\n -0.30703693  0.14912049  0.64600738 -0.79456753 -0.38427343 -0.76489816\n -0.02062256  0.37622609  1.69386475  0.07795582 -0.3745439   0.16684864\n -1.02512987  0.96562586 -0.08301352 -0.27868444 -1.06842084  0.62090065\n -1.00768365  1.45057825 -1.16754329  1.20918866 -0.44745203  0.94416908\n -0.27988059 -0.51134021  1.22618323  0.73210204  0.11114419 -0.08357939\n  0.18440437  0.17774409 -1.34006125 -0.39535091 -0.76321742 -0.19338003\n  1.73338949 -0.24841661  1.01643612 -0.00718979  3.13230978 -0.26254478\n  1.28560542  0.16583468  0.99682355  1.1969489   2.15129771  0.45872878\n  0.24283197 -0.79459121 -0.96088065 -1.85494364 -1.28581314 -0.32416004\n -1.06374335 -0.19863324  0.81627848 -1.64861081  0.06412938 -0.52979139\n -0.26009568  0.85256311  0.38431069 -0.77670193  0.15473337  0.29919419\n -2.26199059  1.05207393  0.10104819 -0.45467734  1.04863661  0.56930859\n -0.69597486  0.42224065  0.40378189  0.27804961 -0.33168631  0.15658051\n  0.04707893  0.05376099  1.63950625 -1.05323564 -0.40746269  0.51871475\n  1.38061585  0.011041    0.11927136  0.10855871  0.83488025 -0.16175115\n -1.21752084 -1.17348617  1.39147602  1.41240007 -0.19556439 -0.92922918\n -1.93549453 -0.75559139  0.93369754  0.12075769 -1.1658869  -0.29124335\n  0.60589989 -1.42698795  1.21705366  0.29502831 -1.26048303 -2.33922294\n -1.83345874  0.08953332 -0.9371673  -0.17927633 -0.63937531 -0.31924517\n  1.27933523 -1.37313848  0.2150255   2.0884185   0.42632772  0.21549853\n  1.05598528 -1.11016394 -1.16179543 -0.05931556 -1.5489216  -0.93167613\n -1.86946492 -1.02271868 -0.37387366  0.34185532 -0.76853247 -0.87406257\n -0.76937191 -0.18493882  0.68404113  0.67963785 -0.22837101 -0.3763784\n -0.912047    1.90363729 -0.11073337  0.09401811 -0.30355338  0.04177794\n -1.10082252 -0.50714     1.83308629 -1.38554664 -0.44113677  0.76782353\n -2.24943346 -0.71140997  0.78656257  0.05682191  2.4656869  -0.80305695\n  0.28844507  2.92750811 -0.41765453 -1.69781258 -0.84322883 -0.97375271\n  0.35439631  0.61768238  0.79793351  2.63535526 -0.66241164 -0.862012\n  0.29974108 -0.47057518 -2.17368518  0.44324437 -2.31160827  0.47720869\n -0.22698337  1.30472736  0.24951199  1.61828497  0.9723139   0.85635461\n -0.13673966 -0.20615036 -0.57769542  0.3758681  -0.1705928   1.23717755\n -0.38480299 -1.14162821 -1.56042204  0.70649474  0.44251527  0.88826864\n  1.03305764 -1.23778844 -0.01243761  1.99810011 -0.87496338  1.01894543\n -0.85577993 -0.08678211 -1.47502632 -0.13485633 -0.50397397 -0.43441866\n  1.09257661 -0.58779397  0.56889998  1.39770946 -0.52544176  0.97982911\n  0.79215622  1.19916366  0.9241907   0.75382774  0.08618354 -0.03589005\n -0.29164113 -0.85717278 -0.02939077  0.18930886 -0.23384311 -0.24301128\n  0.99394311 -0.84310413  0.4615638  -0.62065592  0.67050738  0.16360819\n -1.043927   -0.47911962  0.32558253  1.58287866 -0.18298522 -1.59231727\n  0.02638996 -1.26788754 -0.03133922  0.13385816  2.22294105  0.32272679\n  1.23803612 -0.16297557  1.71491972 -0.04527544  0.01452633  0.02744417\n -0.22477493  1.08985667 -0.59215439  1.30040943  0.71640379 -0.19490884\n -1.43412637 -0.20026452  0.24460963  1.09951356 -0.45990201 -1.64878663\n -0.22691103  0.40292731 -0.62998181 -1.94281024 -0.92465453  0.83780462\n  0.44802622  0.94186106  0.11087203  0.45855514  0.67298043 -1.46443461\n -0.23739459  0.89579199  0.64821053 -0.52294631 -0.12622395 -0.98423333\n -1.14850834 -0.02418244  0.34450906  0.04399784  1.1723037   0.46012695\n -0.48191628 -1.34685614  1.96140423  0.61001596 -0.20417735 -0.4545531\n -0.79976692 -0.24922664  0.67750871 -0.25064088 -1.02871182 -1.14756201\n -1.60762337 -1.97067635  1.02357032 -0.77309476 -0.13047608 -0.32616535\n  0.52213862  1.47826672 -0.11656511 -1.87356176  0.10527957  2.13226168\n  0.78669271  1.7710633   0.7120469  -1.68763149 -1.00532486  0.49260297\n  0.90448664 -2.96664398 -0.30417703  0.82816091  1.50109911  1.95195436\n  0.66029331 -2.1232319   1.76995976  1.54398737 -1.175286    1.71742738\n -0.33917935 -0.94109253 -0.09565202  1.04587858 -0.10872742 -0.14899666\n  0.57882893  0.12967446  0.26645247  0.32015964  0.16723202 -0.56295159\n -0.99733348  0.01269755 -0.12519399  0.69391983  0.17663637 -0.10355189\n -0.08633291 -1.03839145 -1.81567351 -0.15476582  0.85342104 -1.23085374\n  0.66096789  0.38240221  0.10931735  0.68295698 -0.05124532  0.8116816\n -1.79668938 -1.51162892 -1.07788489  1.40159867 -0.1760983   0.79432802\n -1.705819    0.69363494 -0.66622606  1.53874405  0.72241364 -1.07193018\n  1.28600429 -2.28780331  0.31887468  1.70129816  0.08144175 -1.22588348\n  2.7713859  -0.61216397 -1.54132321  1.94351086 -0.17204431  0.62476374\n  0.60929863 -0.34801966 -0.62114767 -0.39648432  0.33751299 -2.46954433\n  0.61724445 -1.44839915  0.60435512 -0.33284246  0.59350143  0.78038462\n -2.45259246 -0.02621805 -1.13318674 -0.17128691 -0.66139246  0.07904498\n -1.29008362 -2.56391561 -1.21869467 -0.22865476  0.08658051  0.0497744\n -0.80951195  1.6100544  -0.8995923  -1.31881963 -0.42749872 -0.03716775\n -1.21337474  0.18297568 -0.57372335 -0.93935031 -1.43696283  0.47508511\n -0.94239586 -0.16210217  1.56371452  0.33451634 -0.68134564  0.76742569\n  0.44592425 -1.52120902  0.39363339 -1.41341267  0.30780684  0.28563031\n -1.21985579  1.85612714  0.85157316  1.43044795 -0.0415369  -0.40251935\n -0.16556674  0.69577713].\nReshape your data either using array.reshape(-1, 1) if your data has a single feature or array.reshape(1, -1) if it contains a single sample.",
     "output_type": "error",
     "traceback": [
      "\u001b[1;31m---------------------------------------------------------------------------\u001b[0m",
      "\u001b[1;31mValueError\u001b[0m                                Traceback (most recent call last)",
      "\u001b[1;32m<ipython-input-55-d768f88d541e>\u001b[0m in \u001b[0;36m<module>\u001b[1;34m\u001b[0m\n\u001b[1;32m----> 1\u001b[1;33m \u001b[0mmodel\u001b[0m\u001b[1;33m.\u001b[0m\u001b[0mfit\u001b[0m\u001b[1;33m(\u001b[0m\u001b[0mX_train\u001b[0m\u001b[1;33m,\u001b[0m \u001b[0my_train\u001b[0m\u001b[1;33m)\u001b[0m\u001b[1;33m\u001b[0m\u001b[1;33m\u001b[0m\u001b[0m\n\u001b[0m",
      "\u001b[1;32m~\\AppData\\Roaming\\Python\\Python37\\site-packages\\sklearn\\linear_model\\_base.py\u001b[0m in \u001b[0;36mfit\u001b[1;34m(self, X, y, sample_weight)\u001b[0m\n\u001b[0;32m    504\u001b[0m         \u001b[0mn_jobs_\u001b[0m \u001b[1;33m=\u001b[0m \u001b[0mself\u001b[0m\u001b[1;33m.\u001b[0m\u001b[0mn_jobs\u001b[0m\u001b[1;33m\u001b[0m\u001b[1;33m\u001b[0m\u001b[0m\n\u001b[0;32m    505\u001b[0m         X, y = self._validate_data(X, y, accept_sparse=['csr', 'csc', 'coo'],\n\u001b[1;32m--> 506\u001b[1;33m                                    y_numeric=True, multi_output=True)\n\u001b[0m\u001b[0;32m    507\u001b[0m \u001b[1;33m\u001b[0m\u001b[0m\n\u001b[0;32m    508\u001b[0m         \u001b[1;32mif\u001b[0m \u001b[0msample_weight\u001b[0m \u001b[1;32mis\u001b[0m \u001b[1;32mnot\u001b[0m \u001b[1;32mNone\u001b[0m\u001b[1;33m:\u001b[0m\u001b[1;33m\u001b[0m\u001b[1;33m\u001b[0m\u001b[0m\n",
      "\u001b[1;32m~\\AppData\\Roaming\\Python\\Python37\\site-packages\\sklearn\\base.py\u001b[0m in \u001b[0;36m_validate_data\u001b[1;34m(self, X, y, reset, validate_separately, **check_params)\u001b[0m\n\u001b[0;32m    430\u001b[0m                 \u001b[0my\u001b[0m \u001b[1;33m=\u001b[0m \u001b[0mcheck_array\u001b[0m\u001b[1;33m(\u001b[0m\u001b[0my\u001b[0m\u001b[1;33m,\u001b[0m \u001b[1;33m**\u001b[0m\u001b[0mcheck_y_params\u001b[0m\u001b[1;33m)\u001b[0m\u001b[1;33m\u001b[0m\u001b[1;33m\u001b[0m\u001b[0m\n\u001b[0;32m    431\u001b[0m             \u001b[1;32melse\u001b[0m\u001b[1;33m:\u001b[0m\u001b[1;33m\u001b[0m\u001b[1;33m\u001b[0m\u001b[0m\n\u001b[1;32m--> 432\u001b[1;33m                 \u001b[0mX\u001b[0m\u001b[1;33m,\u001b[0m \u001b[0my\u001b[0m \u001b[1;33m=\u001b[0m \u001b[0mcheck_X_y\u001b[0m\u001b[1;33m(\u001b[0m\u001b[0mX\u001b[0m\u001b[1;33m,\u001b[0m \u001b[0my\u001b[0m\u001b[1;33m,\u001b[0m \u001b[1;33m**\u001b[0m\u001b[0mcheck_params\u001b[0m\u001b[1;33m)\u001b[0m\u001b[1;33m\u001b[0m\u001b[1;33m\u001b[0m\u001b[0m\n\u001b[0m\u001b[0;32m    433\u001b[0m             \u001b[0mout\u001b[0m \u001b[1;33m=\u001b[0m \u001b[0mX\u001b[0m\u001b[1;33m,\u001b[0m \u001b[0my\u001b[0m\u001b[1;33m\u001b[0m\u001b[1;33m\u001b[0m\u001b[0m\n\u001b[0;32m    434\u001b[0m \u001b[1;33m\u001b[0m\u001b[0m\n",
      "\u001b[1;32m~\\AppData\\Roaming\\Python\\Python37\\site-packages\\sklearn\\utils\\validation.py\u001b[0m in \u001b[0;36minner_f\u001b[1;34m(*args, **kwargs)\u001b[0m\n\u001b[0;32m     71\u001b[0m                           FutureWarning)\n\u001b[0;32m     72\u001b[0m         \u001b[0mkwargs\u001b[0m\u001b[1;33m.\u001b[0m\u001b[0mupdate\u001b[0m\u001b[1;33m(\u001b[0m\u001b[1;33m{\u001b[0m\u001b[0mk\u001b[0m\u001b[1;33m:\u001b[0m \u001b[0marg\u001b[0m \u001b[1;32mfor\u001b[0m \u001b[0mk\u001b[0m\u001b[1;33m,\u001b[0m \u001b[0marg\u001b[0m \u001b[1;32min\u001b[0m \u001b[0mzip\u001b[0m\u001b[1;33m(\u001b[0m\u001b[0msig\u001b[0m\u001b[1;33m.\u001b[0m\u001b[0mparameters\u001b[0m\u001b[1;33m,\u001b[0m \u001b[0margs\u001b[0m\u001b[1;33m)\u001b[0m\u001b[1;33m}\u001b[0m\u001b[1;33m)\u001b[0m\u001b[1;33m\u001b[0m\u001b[1;33m\u001b[0m\u001b[0m\n\u001b[1;32m---> 73\u001b[1;33m         \u001b[1;32mreturn\u001b[0m \u001b[0mf\u001b[0m\u001b[1;33m(\u001b[0m\u001b[1;33m**\u001b[0m\u001b[0mkwargs\u001b[0m\u001b[1;33m)\u001b[0m\u001b[1;33m\u001b[0m\u001b[1;33m\u001b[0m\u001b[0m\n\u001b[0m\u001b[0;32m     74\u001b[0m     \u001b[1;32mreturn\u001b[0m \u001b[0minner_f\u001b[0m\u001b[1;33m\u001b[0m\u001b[1;33m\u001b[0m\u001b[0m\n\u001b[0;32m     75\u001b[0m \u001b[1;33m\u001b[0m\u001b[0m\n",
      "\u001b[1;32m~\\AppData\\Roaming\\Python\\Python37\\site-packages\\sklearn\\utils\\validation.py\u001b[0m in \u001b[0;36mcheck_X_y\u001b[1;34m(X, y, accept_sparse, accept_large_sparse, dtype, order, copy, force_all_finite, ensure_2d, allow_nd, multi_output, ensure_min_samples, ensure_min_features, y_numeric, estimator)\u001b[0m\n\u001b[0;32m    801\u001b[0m                     \u001b[0mensure_min_samples\u001b[0m\u001b[1;33m=\u001b[0m\u001b[0mensure_min_samples\u001b[0m\u001b[1;33m,\u001b[0m\u001b[1;33m\u001b[0m\u001b[1;33m\u001b[0m\u001b[0m\n\u001b[0;32m    802\u001b[0m                     \u001b[0mensure_min_features\u001b[0m\u001b[1;33m=\u001b[0m\u001b[0mensure_min_features\u001b[0m\u001b[1;33m,\u001b[0m\u001b[1;33m\u001b[0m\u001b[1;33m\u001b[0m\u001b[0m\n\u001b[1;32m--> 803\u001b[1;33m                     estimator=estimator)\n\u001b[0m\u001b[0;32m    804\u001b[0m     \u001b[1;32mif\u001b[0m \u001b[0mmulti_output\u001b[0m\u001b[1;33m:\u001b[0m\u001b[1;33m\u001b[0m\u001b[1;33m\u001b[0m\u001b[0m\n\u001b[0;32m    805\u001b[0m         y = check_array(y, accept_sparse='csr', force_all_finite=True,\n",
      "\u001b[1;32m~\\AppData\\Roaming\\Python\\Python37\\site-packages\\sklearn\\utils\\validation.py\u001b[0m in \u001b[0;36minner_f\u001b[1;34m(*args, **kwargs)\u001b[0m\n\u001b[0;32m     71\u001b[0m                           FutureWarning)\n\u001b[0;32m     72\u001b[0m         \u001b[0mkwargs\u001b[0m\u001b[1;33m.\u001b[0m\u001b[0mupdate\u001b[0m\u001b[1;33m(\u001b[0m\u001b[1;33m{\u001b[0m\u001b[0mk\u001b[0m\u001b[1;33m:\u001b[0m \u001b[0marg\u001b[0m \u001b[1;32mfor\u001b[0m \u001b[0mk\u001b[0m\u001b[1;33m,\u001b[0m \u001b[0marg\u001b[0m \u001b[1;32min\u001b[0m \u001b[0mzip\u001b[0m\u001b[1;33m(\u001b[0m\u001b[0msig\u001b[0m\u001b[1;33m.\u001b[0m\u001b[0mparameters\u001b[0m\u001b[1;33m,\u001b[0m \u001b[0margs\u001b[0m\u001b[1;33m)\u001b[0m\u001b[1;33m}\u001b[0m\u001b[1;33m)\u001b[0m\u001b[1;33m\u001b[0m\u001b[1;33m\u001b[0m\u001b[0m\n\u001b[1;32m---> 73\u001b[1;33m         \u001b[1;32mreturn\u001b[0m \u001b[0mf\u001b[0m\u001b[1;33m(\u001b[0m\u001b[1;33m**\u001b[0m\u001b[0mkwargs\u001b[0m\u001b[1;33m)\u001b[0m\u001b[1;33m\u001b[0m\u001b[1;33m\u001b[0m\u001b[0m\n\u001b[0m\u001b[0;32m     74\u001b[0m     \u001b[1;32mreturn\u001b[0m \u001b[0minner_f\u001b[0m\u001b[1;33m\u001b[0m\u001b[1;33m\u001b[0m\u001b[0m\n\u001b[0;32m     75\u001b[0m \u001b[1;33m\u001b[0m\u001b[0m\n",
      "\u001b[1;32m~\\AppData\\Roaming\\Python\\Python37\\site-packages\\sklearn\\utils\\validation.py\u001b[0m in \u001b[0;36mcheck_array\u001b[1;34m(array, accept_sparse, accept_large_sparse, dtype, order, copy, force_all_finite, ensure_2d, allow_nd, ensure_min_samples, ensure_min_features, estimator)\u001b[0m\n\u001b[0;32m    622\u001b[0m                     \u001b[1;34m\"Reshape your data either using array.reshape(-1, 1) if \"\u001b[0m\u001b[1;33m\u001b[0m\u001b[1;33m\u001b[0m\u001b[0m\n\u001b[0;32m    623\u001b[0m                     \u001b[1;34m\"your data has a single feature or array.reshape(1, -1) \"\u001b[0m\u001b[1;33m\u001b[0m\u001b[1;33m\u001b[0m\u001b[0m\n\u001b[1;32m--> 624\u001b[1;33m                     \"if it contains a single sample.\".format(array))\n\u001b[0m\u001b[0;32m    625\u001b[0m \u001b[1;33m\u001b[0m\u001b[0m\n\u001b[0;32m    626\u001b[0m         \u001b[1;31m# in the future np.flexible dtypes will be handled like object dtypes\u001b[0m\u001b[1;33m\u001b[0m\u001b[1;33m\u001b[0m\u001b[1;33m\u001b[0m\u001b[0m\n",
      "\u001b[1;31mValueError\u001b[0m: Expected 2D array, got 1D array instead:\narray=[ 0.11947343  0.5773723  -0.95985466 -0.28642774 -0.89067748  1.09021136\n  0.82684954 -1.70358749 -0.65706313  2.48518255  0.84252238  0.03152016\n  0.30763474 -0.47424871  0.60581164  0.3105841   0.23641917  1.39050267\n  0.20824474 -0.60540865  0.61138366  0.06227937  0.11856951  0.55944866\n -0.26700359 -0.18361915 -0.47022569 -1.77305609 -3.34150345  0.50100369\n  0.76113001 -0.83707783 -0.55401904  0.239872    2.39337231  0.18155842\n -1.07806357 -0.50941703 -2.17688615  0.39717707 -0.60036917 -0.39298962\n  0.54849862  0.75244404  0.22340565 -0.77152375  0.64842454 -0.25078665\n -0.07568551  1.05667825 -2.40336798 -0.226937    0.82105655 -0.47345217\n  0.41991704 -0.23925428 -1.44362603 -0.89770719  1.52651795  0.33282019\n -1.06044466  1.3453783   0.57315594  0.92867614 -2.30666878  0.57758016\n -0.6206406  -0.35709796 -0.66806832 -1.19985786  0.17014134 -0.68786326\n  0.00849681  1.07811426 -0.8689024  -0.54585317 -1.7453828   1.25362359\n -1.26249998  1.26600328 -0.41413637  0.80712633  0.76542551  1.69063461\n  1.06615716 -0.62691772 -0.9719271   0.78978693  1.9528145   0.74227388\n -0.22283871  0.18043253 -2.03636495  0.40976835  0.89386131  1.20758876\n  2.07954788 -0.15273292  1.41298889 -1.45976414 -1.65626211  0.19992625\n -0.03986665  0.61743164  1.13985643  1.02094614  0.00873201  2.24788076\n -1.37868031  2.37009469  1.32655808 -1.27489939 -0.53045651 -1.26929223\n -1.47952898 -0.05419848  0.82990944 -0.23678037  0.56935217  0.13889729\n -0.99530901  0.72544035 -1.71989707 -0.68389093  0.31979547 -1.2776532\n  0.55551314 -1.06451349  1.45471118  0.3958776  -0.36647411 -1.3825875\n -1.46026267  2.00302005 -1.19158378  0.06961903 -1.18596298  0.60321692\n  1.15170034  0.79973968  0.0046112   0.7605297  -0.99519228  0.71517115\n  1.01305513 -0.09317957 -1.0858828  -0.79955277 -1.34395164  0.19587018\n  0.06533141  0.67813747 -1.2480478   0.807959    0.96164398 -0.79658205\n  0.82685132  0.38757784 -0.40384869 -0.03622126  1.29274718  0.69785512\n  0.11609873 -2.58179631  1.83463045  0.82658491  1.16843681 -0.36980115\n -0.26142354  0.37674294  0.79337468  1.90194636  0.94661997  1.64447014\n  0.39714751 -1.06023175 -0.32598574  0.14050179  1.56177921  0.88005547\n  0.65067827  1.23574529 -1.30810329  0.77294633 -1.19899413 -1.09391719\n -0.61978288 -0.89542115 -0.9756159   0.17591181 -0.44580009 -0.86062863\n -1.33606192 -0.14527828 -1.57121219  0.2106603  -0.25323085  1.17412334\n -0.33180862  0.52833506  0.08465965 -0.46400466 -0.58928791 -1.60533281\n -0.8505634   1.10056217  1.95332646  2.75837867 -1.12887337  2.62140351\n  1.25615208 -1.13311408 -0.09054531 -0.76595262  0.40405928 -0.5579043\n  0.52571792  0.5913527   0.14692528 -0.73517655 -0.11647319 -2.62169056\n -0.71730819  0.44958027  1.52675315 -0.52148047  0.07863711 -1.11507676\n  1.47950924  1.54403205 -0.92362153  1.28534225  0.25169121 -0.56113918\n  0.3881355  -0.8844265   0.61907566  0.41838832  0.25807776  0.15061938\n -0.80651897  0.90093846 -0.19112886 -2.22570855 -0.57722657 -1.6166392\n -1.51996125 -2.08951967  0.09890315 -1.3511168  -1.50884303  0.19559004\n  0.11982463 -0.77780991 -1.67221349 -0.85337641  0.03825448  0.0815112\n -0.92839828 -0.57922135  0.42584254  1.19546794  0.29077483 -1.37265838\n -0.356205    1.80932844  0.41332774  0.53856293 -0.62713234  0.78158598\n -1.20795799 -0.15169884 -1.10906228 -1.52519648  1.39500022 -0.07566957\n  2.03389178 -0.612569    0.9819164  -0.25587843  2.57186778 -0.54324389\n  0.45646271  1.98592776 -0.23231835  0.6268797   0.49472616  0.4223647\n  0.73876472 -2.04255214 -1.31053963  0.31580882  0.77322804  1.10255068\n -0.18563412  0.62433694  0.26432361  0.51764959 -1.3740559  -0.25597247\n -1.7958329   1.10894289 -0.5641239   0.58146877  0.38289393  0.20839166\n  1.94215143 -0.27548308 -0.56639888  0.07466151 -1.15646826  0.27106616\n  2.48550106  0.79658723  1.52331962  0.36591727 -0.33237836  1.65588777\n -0.80136138 -1.00742444  1.80317302  0.51978011 -0.507376   -0.4488066\n -0.16800526 -0.42393858 -0.18513255  0.39599855 -0.76605679 -0.0322152\n -1.07020216 -0.36220511  0.72515181  0.16909366 -0.45911796  1.07373529\n -1.97778766 -0.78719937  0.68033242 -0.72152762 -1.19525479  1.529206\n  1.56984596 -0.5481795  -0.34016437  0.72306177 -1.81530047  0.22514192\n  1.13773918  0.32784416 -1.81935322  0.01353328 -0.71443438 -0.57419503\n  0.20048245 -1.16910886  0.23566528 -1.23370216 -0.21076989  0.48550104\n -0.14159627 -0.30023172 -1.36967895  1.25634798 -0.01720623 -2.16606772\n -0.30703693  0.14912049  0.64600738 -0.79456753 -0.38427343 -0.76489816\n -0.02062256  0.37622609  1.69386475  0.07795582 -0.3745439   0.16684864\n -1.02512987  0.96562586 -0.08301352 -0.27868444 -1.06842084  0.62090065\n -1.00768365  1.45057825 -1.16754329  1.20918866 -0.44745203  0.94416908\n -0.27988059 -0.51134021  1.22618323  0.73210204  0.11114419 -0.08357939\n  0.18440437  0.17774409 -1.34006125 -0.39535091 -0.76321742 -0.19338003\n  1.73338949 -0.24841661  1.01643612 -0.00718979  3.13230978 -0.26254478\n  1.28560542  0.16583468  0.99682355  1.1969489   2.15129771  0.45872878\n  0.24283197 -0.79459121 -0.96088065 -1.85494364 -1.28581314 -0.32416004\n -1.06374335 -0.19863324  0.81627848 -1.64861081  0.06412938 -0.52979139\n -0.26009568  0.85256311  0.38431069 -0.77670193  0.15473337  0.29919419\n -2.26199059  1.05207393  0.10104819 -0.45467734  1.04863661  0.56930859\n -0.69597486  0.42224065  0.40378189  0.27804961 -0.33168631  0.15658051\n  0.04707893  0.05376099  1.63950625 -1.05323564 -0.40746269  0.51871475\n  1.38061585  0.011041    0.11927136  0.10855871  0.83488025 -0.16175115\n -1.21752084 -1.17348617  1.39147602  1.41240007 -0.19556439 -0.92922918\n -1.93549453 -0.75559139  0.93369754  0.12075769 -1.1658869  -0.29124335\n  0.60589989 -1.42698795  1.21705366  0.29502831 -1.26048303 -2.33922294\n -1.83345874  0.08953332 -0.9371673  -0.17927633 -0.63937531 -0.31924517\n  1.27933523 -1.37313848  0.2150255   2.0884185   0.42632772  0.21549853\n  1.05598528 -1.11016394 -1.16179543 -0.05931556 -1.5489216  -0.93167613\n -1.86946492 -1.02271868 -0.37387366  0.34185532 -0.76853247 -0.87406257\n -0.76937191 -0.18493882  0.68404113  0.67963785 -0.22837101 -0.3763784\n -0.912047    1.90363729 -0.11073337  0.09401811 -0.30355338  0.04177794\n -1.10082252 -0.50714     1.83308629 -1.38554664 -0.44113677  0.76782353\n -2.24943346 -0.71140997  0.78656257  0.05682191  2.4656869  -0.80305695\n  0.28844507  2.92750811 -0.41765453 -1.69781258 -0.84322883 -0.97375271\n  0.35439631  0.61768238  0.79793351  2.63535526 -0.66241164 -0.862012\n  0.29974108 -0.47057518 -2.17368518  0.44324437 -2.31160827  0.47720869\n -0.22698337  1.30472736  0.24951199  1.61828497  0.9723139   0.85635461\n -0.13673966 -0.20615036 -0.57769542  0.3758681  -0.1705928   1.23717755\n -0.38480299 -1.14162821 -1.56042204  0.70649474  0.44251527  0.88826864\n  1.03305764 -1.23778844 -0.01243761  1.99810011 -0.87496338  1.01894543\n -0.85577993 -0.08678211 -1.47502632 -0.13485633 -0.50397397 -0.43441866\n  1.09257661 -0.58779397  0.56889998  1.39770946 -0.52544176  0.97982911\n  0.79215622  1.19916366  0.9241907   0.75382774  0.08618354 -0.03589005\n -0.29164113 -0.85717278 -0.02939077  0.18930886 -0.23384311 -0.24301128\n  0.99394311 -0.84310413  0.4615638  -0.62065592  0.67050738  0.16360819\n -1.043927   -0.47911962  0.32558253  1.58287866 -0.18298522 -1.59231727\n  0.02638996 -1.26788754 -0.03133922  0.13385816  2.22294105  0.32272679\n  1.23803612 -0.16297557  1.71491972 -0.04527544  0.01452633  0.02744417\n -0.22477493  1.08985667 -0.59215439  1.30040943  0.71640379 -0.19490884\n -1.43412637 -0.20026452  0.24460963  1.09951356 -0.45990201 -1.64878663\n -0.22691103  0.40292731 -0.62998181 -1.94281024 -0.92465453  0.83780462\n  0.44802622  0.94186106  0.11087203  0.45855514  0.67298043 -1.46443461\n -0.23739459  0.89579199  0.64821053 -0.52294631 -0.12622395 -0.98423333\n -1.14850834 -0.02418244  0.34450906  0.04399784  1.1723037   0.46012695\n -0.48191628 -1.34685614  1.96140423  0.61001596 -0.20417735 -0.4545531\n -0.79976692 -0.24922664  0.67750871 -0.25064088 -1.02871182 -1.14756201\n -1.60762337 -1.97067635  1.02357032 -0.77309476 -0.13047608 -0.32616535\n  0.52213862  1.47826672 -0.11656511 -1.87356176  0.10527957  2.13226168\n  0.78669271  1.7710633   0.7120469  -1.68763149 -1.00532486  0.49260297\n  0.90448664 -2.96664398 -0.30417703  0.82816091  1.50109911  1.95195436\n  0.66029331 -2.1232319   1.76995976  1.54398737 -1.175286    1.71742738\n -0.33917935 -0.94109253 -0.09565202  1.04587858 -0.10872742 -0.14899666\n  0.57882893  0.12967446  0.26645247  0.32015964  0.16723202 -0.56295159\n -0.99733348  0.01269755 -0.12519399  0.69391983  0.17663637 -0.10355189\n -0.08633291 -1.03839145 -1.81567351 -0.15476582  0.85342104 -1.23085374\n  0.66096789  0.38240221  0.10931735  0.68295698 -0.05124532  0.8116816\n -1.79668938 -1.51162892 -1.07788489  1.40159867 -0.1760983   0.79432802\n -1.705819    0.69363494 -0.66622606  1.53874405  0.72241364 -1.07193018\n  1.28600429 -2.28780331  0.31887468  1.70129816  0.08144175 -1.22588348\n  2.7713859  -0.61216397 -1.54132321  1.94351086 -0.17204431  0.62476374\n  0.60929863 -0.34801966 -0.62114767 -0.39648432  0.33751299 -2.46954433\n  0.61724445 -1.44839915  0.60435512 -0.33284246  0.59350143  0.78038462\n -2.45259246 -0.02621805 -1.13318674 -0.17128691 -0.66139246  0.07904498\n -1.29008362 -2.56391561 -1.21869467 -0.22865476  0.08658051  0.0497744\n -0.80951195  1.6100544  -0.8995923  -1.31881963 -0.42749872 -0.03716775\n -1.21337474  0.18297568 -0.57372335 -0.93935031 -1.43696283  0.47508511\n -0.94239586 -0.16210217  1.56371452  0.33451634 -0.68134564  0.76742569\n  0.44592425 -1.52120902  0.39363339 -1.41341267  0.30780684  0.28563031\n -1.21985579  1.85612714  0.85157316  1.43044795 -0.0415369  -0.40251935\n -0.16556674  0.69577713].\nReshape your data either using array.reshape(-1, 1) if your data has a single feature or array.reshape(1, -1) if it contains a single sample."
     ]
    }
   ],
   "source": [
    "model.fit(X_train, y_train)"
   ]
  },
  {
   "cell_type": "markdown",
   "metadata": {},
   "source": [
    "### Reshape Feature"
   ]
  },
  {
   "cell_type": "code",
   "execution_count": 56,
   "metadata": {},
   "outputs": [],
   "source": [
    "X = X.reshape(-1, 1)"
   ]
  },
  {
   "cell_type": "code",
   "execution_count": 57,
   "metadata": {},
   "outputs": [],
   "source": [
    "X_train, X_test, y_train, y_test = train_test_split(X, y, test_size=0.2, random_state=0)"
   ]
  },
  {
   "cell_type": "markdown",
   "metadata": {},
   "source": [
    "## Train model"
   ]
  },
  {
   "cell_type": "code",
   "execution_count": 58,
   "metadata": {
    "scrolled": true
   },
   "outputs": [
    {
     "data": {
      "text/plain": [
       "LinearRegression()"
      ]
     },
     "execution_count": 58,
     "metadata": {},
     "output_type": "execute_result"
    }
   ],
   "source": [
    "model.fit(X_train, y_train)"
   ]
  },
  {
   "cell_type": "code",
   "execution_count": 59,
   "metadata": {},
   "outputs": [
    {
     "data": {
      "text/plain": [
       "0.5445070277480026"
      ]
     },
     "execution_count": 59,
     "metadata": {},
     "output_type": "execute_result"
    }
   ],
   "source": [
    "model.score(X_test, y_test)"
   ]
  },
  {
   "attachments": {
    "image.png": {
     "image/png": "[encoded data removed]"
    }
   },
   "cell_type": "markdown",
   "metadata": {},
   "source": [
    "![image.png](attachment:image.png)"
   ]
  },
  {
   "cell_type": "code",
   "execution_count": 60,
   "metadata": {},
   "outputs": [
    {
     "name": "stdout",
     "output_type": "stream",
     "text": [
      "2.9010584281485494\n"
     ]
    }
   ],
   "source": [
    "print(model.intercept_)"
   ]
  },
  {
   "cell_type": "code",
   "execution_count": 61,
   "metadata": {},
   "outputs": [
    {
     "name": "stdout",
     "output_type": "stream",
     "text": [
      "[87.09297492]\n"
     ]
    }
   ],
   "source": [
    "print(model.coef_)"
   ]
  },
  {
   "cell_type": "code",
   "execution_count": 62,
   "metadata": {},
   "outputs": [
    {
     "data": {
      "text/plain": [
       "array([ -94.55230516,   71.22522154,  -77.04873037,  104.94233131,\n",
       "         81.50301242,   30.73511521,  -31.06203335, -139.17014999,\n",
       "          2.60030974,  -22.93323746,  161.84630301,  -64.73964981,\n",
       "        -34.90467292, -105.7706856 ,  -74.74878206,  -21.81626999,\n",
       "        -85.55517949,  -66.68592378,   77.9391234 ,  118.39229201,\n",
       "         52.40984961,   84.61137033,  124.57362836,   -4.10968176,\n",
       "         27.16141303,  125.26709209,   20.73628253,  -52.69050852,\n",
       "        118.15607752,  124.29790251,  -12.77117769,  -61.59290344,\n",
       "        224.92202814,   49.67236986,  145.01814902,   22.16942677,\n",
       "          4.4607274 ,   -3.49965486,   34.9529235 ,  112.88763646,\n",
       "        -72.83228677,  -39.3957511 ,  -34.31037771,  -35.0747394 ,\n",
       "        -32.02054458,   81.13161971,  -91.46224722,  119.91787428,\n",
       "        -71.3439708 ,   35.20776168,  250.32332807,  -85.02418333,\n",
       "         78.71646297, -131.44362231,   68.73329571,   25.01022312,\n",
       "         68.78702591, -137.19484924,    5.71476449,  141.35457076,\n",
       "         19.86996651,  -45.53179285,  -22.56903671,  -25.28076119,\n",
       "       -114.87001981,   27.83098725,  181.03899476,    3.74831226,\n",
       "        103.15438476,  -87.29266369,  -20.13662092,   55.12676707,\n",
       "         30.39616622,   79.71830089,  -63.73255251, -182.51975646,\n",
       "         57.45275719,   95.29238567,  -40.61609579,   39.42792711,\n",
       "       -147.99765715,  -40.95203925, -235.43306849,  -77.35812799,\n",
       "        -69.73623431,  -31.05596895,   -0.38151578,  -75.57037857,\n",
       "        141.75150531,   51.71260461,   36.95105969, -115.71944952,\n",
       "        -17.11717826,  -85.61565001,  -12.00359043,   54.90584235,\n",
       "        139.87697013,   -9.67744302,  -65.63839064,  -51.17733638,\n",
       "         95.25232091, -116.48607859,  -25.92787124,   19.83538329,\n",
       "         32.82768025, -118.71335035,   59.46321805,  -51.8622043 ,\n",
       "          6.20454277,   78.33786977,   -5.37191607,  137.21501509,\n",
       "         10.0366145 ,   28.20946619,   39.78938667,  -10.42943603,\n",
       "        -56.52245515,  -57.7136859 ,   61.16205418,  -51.81299587,\n",
       "         22.74105153,   24.61956066,   27.78217688,  -63.50703648,\n",
       "        -98.92967545,   48.40882525,   43.9384097 , -180.79417977,\n",
       "        -43.9292148 ,  152.62556263,   51.07077988,  -58.38570244,\n",
       "        -21.65910632,  -99.22754312,  -55.50365325,  188.05172023,\n",
       "        103.84575132,  104.82861535,  157.2808839 ,   35.54642845,\n",
       "         92.03963118,   37.97944723,  134.24362109,  170.11409074,\n",
       "         47.09076498,  180.37623167, -153.54043481,  -60.97601228,\n",
       "         77.74741069,   -1.98249427,  -18.14688048,   14.94590832,\n",
       "         -4.26976413,   15.82440094,   39.99308668,  114.44281554,\n",
       "          4.95875593,  -27.29437343,   36.40747373,  152.20793834,\n",
       "        197.54197519, -155.06043459,   48.25729144,   24.52667942,\n",
       "        -65.08047462,   85.25214194,  -83.90395633,  139.84800973,\n",
       "         46.29147514, -104.04118637,   13.4372317 , -127.78947403,\n",
       "         -6.18926282,   60.26166783,  -53.51998104,  -35.92545298,\n",
       "       -147.02889241,   -1.83152307,  279.58146415,   38.44879592,\n",
       "        -99.73897041,  -71.18989609,  -45.03990294,  -41.54658599,\n",
       "          7.18793106,  -48.4103285 ,   42.64389982,   60.33619603,\n",
       "         84.01704607,  -44.22621842, -148.61510539,  -25.51987591,\n",
       "        -39.39268681,  -29.258229  ,  -50.74847229,  -58.12285607,\n",
       "       -121.61230085,   60.08951303,   51.91325406,   28.72880484])"
      ]
     },
     "execution_count": 62,
     "metadata": {},
     "output_type": "execute_result"
    }
   ],
   "source": [
    "y_pred = model.predict(X_test)\n",
    "y_pred"
   ]
  },
  {
   "cell_type": "code",
   "execution_count": 63,
   "metadata": {},
   "outputs": [
    {
     "data": {
      "text/plain": [
       "array([2.90105843])"
      ]
     },
     "execution_count": 63,
     "metadata": {},
     "output_type": "execute_result"
    }
   ],
   "source": [
    "model.predict([[0]])"
   ]
  },
  {
   "cell_type": "code",
   "execution_count": 64,
   "metadata": {},
   "outputs": [
    {
     "data": {
      "text/html": [
       "<div>\n",
       "<style scoped>\n",
       "    .dataframe tbody tr th:only-of-type {\n",
       "        vertical-align: middle;\n",
       "    }\n",
       "\n",
       "    .dataframe tbody tr th {\n",
       "        vertical-align: top;\n",
       "    }\n",
       "\n",
       "    .dataframe thead th {\n",
       "        text-align: right;\n",
       "    }\n",
       "</style>\n",
       "<table border=\"1\" class=\"dataframe\">\n",
       "  <thead>\n",
       "    <tr style=\"text-align: right;\">\n",
       "      <th></th>\n",
       "      <th>Actual</th>\n",
       "      <th>Predicted</th>\n",
       "    </tr>\n",
       "  </thead>\n",
       "  <tbody>\n",
       "    <tr>\n",
       "      <th>0</th>\n",
       "      <td>-127.798249</td>\n",
       "      <td>-95</td>\n",
       "    </tr>\n",
       "    <tr>\n",
       "      <th>1</th>\n",
       "      <td>158.265531</td>\n",
       "      <td>71</td>\n",
       "    </tr>\n",
       "    <tr>\n",
       "      <th>2</th>\n",
       "      <td>-64.801018</td>\n",
       "      <td>-77</td>\n",
       "    </tr>\n",
       "    <tr>\n",
       "      <th>3</th>\n",
       "      <td>146.195885</td>\n",
       "      <td>105</td>\n",
       "    </tr>\n",
       "    <tr>\n",
       "      <th>4</th>\n",
       "      <td>43.089224</td>\n",
       "      <td>82</td>\n",
       "    </tr>\n",
       "    <tr>\n",
       "      <th>...</th>\n",
       "      <td>...</td>\n",
       "      <td>...</td>\n",
       "    </tr>\n",
       "    <tr>\n",
       "      <th>195</th>\n",
       "      <td>-32.935602</td>\n",
       "      <td>-58</td>\n",
       "    </tr>\n",
       "    <tr>\n",
       "      <th>196</th>\n",
       "      <td>-378.023773</td>\n",
       "      <td>-122</td>\n",
       "    </tr>\n",
       "    <tr>\n",
       "      <th>197</th>\n",
       "      <td>78.032840</td>\n",
       "      <td>60</td>\n",
       "    </tr>\n",
       "    <tr>\n",
       "      <th>198</th>\n",
       "      <td>-69.728753</td>\n",
       "      <td>52</td>\n",
       "    </tr>\n",
       "    <tr>\n",
       "      <th>199</th>\n",
       "      <td>-26.361441</td>\n",
       "      <td>29</td>\n",
       "    </tr>\n",
       "  </tbody>\n",
       "</table>\n",
       "<p>200 rows × 2 columns</p>\n",
       "</div>"
      ],
      "text/plain": [
       "         Actual  Predicted\n",
       "0   -127.798249        -95\n",
       "1    158.265531         71\n",
       "2    -64.801018        -77\n",
       "3    146.195885        105\n",
       "4     43.089224         82\n",
       "..          ...        ...\n",
       "195  -32.935602        -58\n",
       "196 -378.023773       -122\n",
       "197   78.032840         60\n",
       "198  -69.728753         52\n",
       "199  -26.361441         29\n",
       "\n",
       "[200 rows x 2 columns]"
      ]
     },
     "execution_count": 64,
     "metadata": {},
     "output_type": "execute_result"
    }
   ],
   "source": [
    "df = pd.DataFrame({'Actual': y_test, 'Predicted': np.round(y_pred).astype(int)})\n",
    "df"
   ]
  },
  {
   "cell_type": "markdown",
   "metadata": {},
   "source": [
    "## Model evaluation"
   ]
  },
  {
   "cell_type": "code",
   "execution_count": 65,
   "metadata": {},
   "outputs": [],
   "source": [
    "from sklearn import metrics"
   ]
  },
  {
   "cell_type": "code",
   "execution_count": 66,
   "metadata": {},
   "outputs": [
    {
     "name": "stdout",
     "output_type": "stream",
     "text": [
      "Mean Absolute Error: 71.18714374136289\n",
      "Mean Squared Error: 8014.080867014232\n",
      "Root Mean Squared Error: 89.52139893351887\n"
     ]
    }
   ],
   "source": [
    "print('Mean Absolute Error:', metrics.mean_absolute_error(y_test, y_pred))\n",
    "print('Mean Squared Error:', metrics.mean_squared_error(y_test, y_pred))\n",
    "print('Root Mean Squared Error:', np.sqrt(metrics.mean_squared_error(y_test, y_pred)))"
   ]
  },
  {
   "cell_type": "code",
   "execution_count": 67,
   "metadata": {},
   "outputs": [
    {
     "data": {
      "image/png": "[encoded data removed]",
      "text/plain": [
       "<Figure size 432x288 with 1 Axes>"
      ]
     },
     "metadata": {
      "needs_background": "light"
     },
     "output_type": "display_data"
    }
   ],
   "source": [
    "plt.scatter(X_test, y_test,  color='gray')\n",
    "plt.plot(X_test, y_pred, color='red', linewidth=2)\n",
    "plt.show()"
   ]
  },
  {
   "cell_type": "code",
   "execution_count": null,
   "metadata": {},
   "outputs": [],
   "source": []
  },
  {
   "cell_type": "code",
   "execution_count": null,
   "metadata": {},
   "outputs": [],
   "source": []
  }
 ],
 "metadata": {
  "kernelspec": {
   "display_name": "Python 3",
   "language": "python",
   "name": "python3"
  },
  "language_info": {
   "codemirror_mode": {
    "name": "ipython",
    "version": 3
   },
   "file_extension": ".py",
   "mimetype": "text/x-python",
   "name": "python",
   "nbconvert_exporter": "python",
   "pygments_lexer": "ipython3",
   "version": "3.8.3"
  }
 },
 "nbformat": 4,
 "nbformat_minor": 4
}
