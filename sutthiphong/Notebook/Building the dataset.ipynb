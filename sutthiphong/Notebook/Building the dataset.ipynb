{
 "cells": [
  {
   "cell_type": "code",
   "execution_count": 3,
   "metadata": {},
   "outputs": [],
   "source": [
    "import pandas as pd\n",
    "import matplotlib.pyplot as plt"
   ]
  },
  {
   "cell_type": "markdown",
   "metadata": {},
   "source": [
    "# Building the dataset\n",
    "\n",
    "- generate regression dataset\n",
    "- generate classification dataset"
   ]
  },
  {
   "cell_type": "markdown",
   "metadata": {},
   "source": [
    "## 1. Regression Dataset"
   ]
  },
  {
   "cell_type": "code",
   "execution_count": 12,
   "metadata": {
    "scrolled": true
   },
   "outputs": [],
   "source": [
    "from sklearn.datasets import make_regression"
   ]
  },
  {
   "cell_type": "code",
   "execution_count": 14,
   "metadata": {},
   "outputs": [],
   "source": [
    "# generate regression dataset\n",
    "X, y = make_regression(n_samples=1000, n_features=1, noise=100, shuffle=True, random_state=27)"
   ]
  },
  {
   "cell_type": "code",
   "execution_count": 15,
   "metadata": {},
   "outputs": [],
   "source": [
    "df = pd.DataFrame(X, index=range(len(X)), columns=[\"X\"])\n",
    "df[\"Y\"] = y"
   ]
  },
  {
   "cell_type": "code",
   "execution_count": 24,
   "metadata": {
    "scrolled": true
   },
   "outputs": [
    {
     "data": {
      "text/html": [
       "<div>\n",
       "<style scoped>\n",
       "    .dataframe tbody tr th:only-of-type {\n",
       "        vertical-align: middle;\n",
       "    }\n",
       "\n",
       "    .dataframe tbody tr th {\n",
       "        vertical-align: top;\n",
       "    }\n",
       "\n",
       "    .dataframe thead th {\n",
       "        text-align: right;\n",
       "    }\n",
       "</style>\n",
       "<table border=\"1\" class=\"dataframe\">\n",
       "  <thead>\n",
       "    <tr style=\"text-align: right;\">\n",
       "      <th></th>\n",
       "      <th>X</th>\n",
       "      <th>Y</th>\n",
       "    </tr>\n",
       "  </thead>\n",
       "  <tbody>\n",
       "    <tr>\n",
       "      <th>0</th>\n",
       "      <td>-0.168005</td>\n",
       "      <td>-107.480692</td>\n",
       "    </tr>\n",
       "    <tr>\n",
       "      <th>1</th>\n",
       "      <td>1.393876</td>\n",
       "      <td>201.944833</td>\n",
       "    </tr>\n",
       "    <tr>\n",
       "      <th>2</th>\n",
       "      <td>-0.250787</td>\n",
       "      <td>84.740862</td>\n",
       "    </tr>\n",
       "    <tr>\n",
       "      <th>3</th>\n",
       "      <td>0.013533</td>\n",
       "      <td>60.527183</td>\n",
       "    </tr>\n",
       "    <tr>\n",
       "      <th>4</th>\n",
       "      <td>-0.776702</td>\n",
       "      <td>-26.201326</td>\n",
       "    </tr>\n",
       "  </tbody>\n",
       "</table>\n",
       "</div>"
      ],
      "text/plain": [
       "          X           Y\n",
       "0 -0.168005 -107.480692\n",
       "1  1.393876  201.944833\n",
       "2 -0.250787   84.740862\n",
       "3  0.013533   60.527183\n",
       "4 -0.776702  -26.201326"
      ]
     },
     "execution_count": 24,
     "metadata": {},
     "output_type": "execute_result"
    }
   ],
   "source": [
    "df.head()"
   ]
  },
  {
   "cell_type": "code",
   "execution_count": 25,
   "metadata": {},
   "outputs": [
    {
     "ename": "FileNotFoundError",
     "evalue": "[Errno 2] No such file or directory: 'dataset/reg_uni.csv'",
     "output_type": "error",
     "traceback": [
      "\u001b[1;31m---------------------------------------------------------------------------\u001b[0m",
      "\u001b[1;31mFileNotFoundError\u001b[0m                         Traceback (most recent call last)",
      "\u001b[1;32m<ipython-input-25-eeae06d37373>\u001b[0m in \u001b[0;36m<module>\u001b[1;34m\u001b[0m\n\u001b[1;32m----> 1\u001b[1;33m \u001b[0mdf\u001b[0m\u001b[1;33m.\u001b[0m\u001b[0mto_csv\u001b[0m\u001b[1;33m(\u001b[0m\u001b[1;34m\"dataset/reg_uni.csv\"\u001b[0m\u001b[1;33m)\u001b[0m\u001b[1;33m\u001b[0m\u001b[1;33m\u001b[0m\u001b[0m\n\u001b[0m",
      "\u001b[1;32m~\\Anaconda3\\lib\\site-packages\\pandas\\core\\generic.py\u001b[0m in \u001b[0;36mto_csv\u001b[1;34m(self, path_or_buf, sep, na_rep, float_format, columns, header, index, index_label, mode, encoding, compression, quoting, quotechar, line_terminator, chunksize, tupleize_cols, date_format, doublequote, escapechar, decimal)\u001b[0m\n\u001b[0;32m   3018\u001b[0m                                  \u001b[0mdoublequote\u001b[0m\u001b[1;33m=\u001b[0m\u001b[0mdoublequote\u001b[0m\u001b[1;33m,\u001b[0m\u001b[1;33m\u001b[0m\u001b[1;33m\u001b[0m\u001b[0m\n\u001b[0;32m   3019\u001b[0m                                  escapechar=escapechar, decimal=decimal)\n\u001b[1;32m-> 3020\u001b[1;33m         \u001b[0mformatter\u001b[0m\u001b[1;33m.\u001b[0m\u001b[0msave\u001b[0m\u001b[1;33m(\u001b[0m\u001b[1;33m)\u001b[0m\u001b[1;33m\u001b[0m\u001b[1;33m\u001b[0m\u001b[0m\n\u001b[0m\u001b[0;32m   3021\u001b[0m \u001b[1;33m\u001b[0m\u001b[0m\n\u001b[0;32m   3022\u001b[0m         \u001b[1;32mif\u001b[0m \u001b[0mpath_or_buf\u001b[0m \u001b[1;32mis\u001b[0m \u001b[1;32mNone\u001b[0m\u001b[1;33m:\u001b[0m\u001b[1;33m\u001b[0m\u001b[1;33m\u001b[0m\u001b[0m\n",
      "\u001b[1;32m~\\Anaconda3\\lib\\site-packages\\pandas\\io\\formats\\csvs.py\u001b[0m in \u001b[0;36msave\u001b[1;34m(self)\u001b[0m\n\u001b[0;32m    155\u001b[0m             f, handles = _get_handle(self.path_or_buf, self.mode,\n\u001b[0;32m    156\u001b[0m                                      \u001b[0mencoding\u001b[0m\u001b[1;33m=\u001b[0m\u001b[0mself\u001b[0m\u001b[1;33m.\u001b[0m\u001b[0mencoding\u001b[0m\u001b[1;33m,\u001b[0m\u001b[1;33m\u001b[0m\u001b[1;33m\u001b[0m\u001b[0m\n\u001b[1;32m--> 157\u001b[1;33m                                      compression=self.compression)\n\u001b[0m\u001b[0;32m    158\u001b[0m             \u001b[0mclose\u001b[0m \u001b[1;33m=\u001b[0m \u001b[1;32mTrue\u001b[0m\u001b[1;33m\u001b[0m\u001b[1;33m\u001b[0m\u001b[0m\n\u001b[0;32m    159\u001b[0m \u001b[1;33m\u001b[0m\u001b[0m\n",
      "\u001b[1;32m~\\Anaconda3\\lib\\site-packages\\pandas\\io\\common.py\u001b[0m in \u001b[0;36m_get_handle\u001b[1;34m(path_or_buf, mode, encoding, compression, memory_map, is_text)\u001b[0m\n\u001b[0;32m    422\u001b[0m         \u001b[1;32melif\u001b[0m \u001b[0mencoding\u001b[0m\u001b[1;33m:\u001b[0m\u001b[1;33m\u001b[0m\u001b[1;33m\u001b[0m\u001b[0m\n\u001b[0;32m    423\u001b[0m             \u001b[1;31m# Python 3 and encoding\u001b[0m\u001b[1;33m\u001b[0m\u001b[1;33m\u001b[0m\u001b[1;33m\u001b[0m\u001b[0m\n\u001b[1;32m--> 424\u001b[1;33m             \u001b[0mf\u001b[0m \u001b[1;33m=\u001b[0m \u001b[0mopen\u001b[0m\u001b[1;33m(\u001b[0m\u001b[0mpath_or_buf\u001b[0m\u001b[1;33m,\u001b[0m \u001b[0mmode\u001b[0m\u001b[1;33m,\u001b[0m \u001b[0mencoding\u001b[0m\u001b[1;33m=\u001b[0m\u001b[0mencoding\u001b[0m\u001b[1;33m,\u001b[0m \u001b[0mnewline\u001b[0m\u001b[1;33m=\u001b[0m\u001b[1;34m\"\"\u001b[0m\u001b[1;33m)\u001b[0m\u001b[1;33m\u001b[0m\u001b[1;33m\u001b[0m\u001b[0m\n\u001b[0m\u001b[0;32m    425\u001b[0m         \u001b[1;32melif\u001b[0m \u001b[0mis_text\u001b[0m\u001b[1;33m:\u001b[0m\u001b[1;33m\u001b[0m\u001b[1;33m\u001b[0m\u001b[0m\n\u001b[0;32m    426\u001b[0m             \u001b[1;31m# Python 3 and no explicit encoding\u001b[0m\u001b[1;33m\u001b[0m\u001b[1;33m\u001b[0m\u001b[1;33m\u001b[0m\u001b[0m\n",
      "\u001b[1;31mFileNotFoundError\u001b[0m: [Errno 2] No such file or directory: 'dataset/reg_uni.csv'"
     ]
    }
   ],
   "source": [
    "df.to_csv(\"dataset/reg_uni.csv\")"
   ]
  },
  {
   "cell_type": "code",
   "execution_count": 26,
   "metadata": {},
   "outputs": [
    {
     "data": {
      "image/png": "[encoded data removed]",
      "text/plain": [
       "<Figure size 720x720 with 1 Axes>"
      ]
     },
     "metadata": {
      "needs_background": "light"
     },
     "output_type": "display_data"
    }
   ],
   "source": [
    "# plot regression dataset\n",
    "plt.figure(figsize=(10,10))\n",
    "plt.scatter(X,y)\n",
    "plt.show()"
   ]
  },
  {
   "cell_type": "code",
   "execution_count": null,
   "metadata": {},
   "outputs": [],
   "source": []
  },
  {
   "cell_type": "code",
   "execution_count": 27,
   "metadata": {},
   "outputs": [],
   "source": [
    "# generate regression dataset\n",
    "X, y = make_regression(n_samples=50, n_features=3, noise=0.1, shuffle=True, random_state=27)"
   ]
  },
  {
   "cell_type": "code",
   "execution_count": 28,
   "metadata": {},
   "outputs": [
    {
     "data": {
      "text/plain": [
       "(50, 3)"
      ]
     },
     "execution_count": 28,
     "metadata": {},
     "output_type": "execute_result"
    }
   ],
   "source": [
    "X.shape"
   ]
  },
  {
   "cell_type": "code",
   "execution_count": 29,
   "metadata": {},
   "outputs": [
    {
     "data": {
      "text/html": [
       "<div>\n",
       "<style scoped>\n",
       "    .dataframe tbody tr th:only-of-type {\n",
       "        vertical-align: middle;\n",
       "    }\n",
       "\n",
       "    .dataframe tbody tr th {\n",
       "        vertical-align: top;\n",
       "    }\n",
       "\n",
       "    .dataframe thead th {\n",
       "        text-align: right;\n",
       "    }\n",
       "</style>\n",
       "<table border=\"1\" class=\"dataframe\">\n",
       "  <thead>\n",
       "    <tr style=\"text-align: right;\">\n",
       "      <th></th>\n",
       "      <th>X1</th>\n",
       "      <th>X2</th>\n",
       "      <th>X3</th>\n",
       "      <th>Y</th>\n",
       "    </tr>\n",
       "  </thead>\n",
       "  <tbody>\n",
       "    <tr>\n",
       "      <th>0</th>\n",
       "      <td>-2.166068</td>\n",
       "      <td>-1.247767</td>\n",
       "      <td>0.285685</td>\n",
       "      <td>-184.980982</td>\n",
       "    </tr>\n",
       "    <tr>\n",
       "      <th>1</th>\n",
       "      <td>0.154733</td>\n",
       "      <td>0.562757</td>\n",
       "      <td>1.033058</td>\n",
       "      <td>136.596165</td>\n",
       "    </tr>\n",
       "    <tr>\n",
       "      <th>2</th>\n",
       "      <td>-0.144426</td>\n",
       "      <td>0.591353</td>\n",
       "      <td>-0.037168</td>\n",
       "      <td>10.231184</td>\n",
       "    </tr>\n",
       "    <tr>\n",
       "      <th>3</th>\n",
       "      <td>1.501099</td>\n",
       "      <td>0.195870</td>\n",
       "      <td>1.901946</td>\n",
       "      <td>307.014161</td>\n",
       "    </tr>\n",
       "    <tr>\n",
       "      <th>4</th>\n",
       "      <td>1.056678</td>\n",
       "      <td>0.056822</td>\n",
       "      <td>-0.020623</td>\n",
       "      <td>78.958628</td>\n",
       "    </tr>\n",
       "  </tbody>\n",
       "</table>\n",
       "</div>"
      ],
      "text/plain": [
       "         X1        X2        X3           Y\n",
       "0 -2.166068 -1.247767  0.285685 -184.980982\n",
       "1  0.154733  0.562757  1.033058  136.596165\n",
       "2 -0.144426  0.591353 -0.037168   10.231184\n",
       "3  1.501099  0.195870  1.901946  307.014161\n",
       "4  1.056678  0.056822 -0.020623   78.958628"
      ]
     },
     "execution_count": 29,
     "metadata": {},
     "output_type": "execute_result"
    }
   ],
   "source": [
    "df = pd.DataFrame(dict(X1=X[:,0], X2=X[:, 1], X3=X[:,2], Y=y))\n",
    "df.head()"
   ]
  },
  {
   "cell_type": "code",
   "execution_count": 30,
   "metadata": {},
   "outputs": [
    {
     "data": {
      "image/png": "[encoded data removed]",
      "text/plain": [
       "<Figure size 720x720 with 1 Axes>"
      ]
     },
     "metadata": {
      "needs_background": "light"
     },
     "output_type": "display_data"
    }
   ],
   "source": [
    "# plot regression dataset\n",
    "plt.figure(figsize=(10,10))\n",
    "plt.scatter(df[\"X1\"], df[\"Y\"], color=\"r\")\n",
    "plt.scatter(df[\"X2\"], df[\"Y\"], color=\"g\")\n",
    "plt.scatter(df[\"X3\"], df[\"Y\"], color=\"b\")\n",
    "plt.show()"
   ]
  },
  {
   "cell_type": "code",
   "execution_count": 32,
   "metadata": {},
   "outputs": [
    {
     "ename": "FileNotFoundError",
     "evalue": "[Errno 2] No such file or directory: 'dataset/reg_mult.csv'",
     "output_type": "error",
     "traceback": [
      "\u001b[1;31m---------------------------------------------------------------------------\u001b[0m",
      "\u001b[1;31mFileNotFoundError\u001b[0m                         Traceback (most recent call last)",
      "\u001b[1;32m<ipython-input-32-a6f0a1dc688b>\u001b[0m in \u001b[0;36m<module>\u001b[1;34m\u001b[0m\n\u001b[1;32m----> 1\u001b[1;33m \u001b[0mdf\u001b[0m\u001b[1;33m.\u001b[0m\u001b[0mto_csv\u001b[0m\u001b[1;33m(\u001b[0m\u001b[1;34m\"dataset/reg_mult.csv\"\u001b[0m\u001b[1;33m)\u001b[0m\u001b[1;33m\u001b[0m\u001b[1;33m\u001b[0m\u001b[0m\n\u001b[0m",
      "\u001b[1;32m~\\Anaconda3\\lib\\site-packages\\pandas\\core\\generic.py\u001b[0m in \u001b[0;36mto_csv\u001b[1;34m(self, path_or_buf, sep, na_rep, float_format, columns, header, index, index_label, mode, encoding, compression, quoting, quotechar, line_terminator, chunksize, tupleize_cols, date_format, doublequote, escapechar, decimal)\u001b[0m\n\u001b[0;32m   3018\u001b[0m                                  \u001b[0mdoublequote\u001b[0m\u001b[1;33m=\u001b[0m\u001b[0mdoublequote\u001b[0m\u001b[1;33m,\u001b[0m\u001b[1;33m\u001b[0m\u001b[1;33m\u001b[0m\u001b[0m\n\u001b[0;32m   3019\u001b[0m                                  escapechar=escapechar, decimal=decimal)\n\u001b[1;32m-> 3020\u001b[1;33m         \u001b[0mformatter\u001b[0m\u001b[1;33m.\u001b[0m\u001b[0msave\u001b[0m\u001b[1;33m(\u001b[0m\u001b[1;33m)\u001b[0m\u001b[1;33m\u001b[0m\u001b[1;33m\u001b[0m\u001b[0m\n\u001b[0m\u001b[0;32m   3021\u001b[0m \u001b[1;33m\u001b[0m\u001b[0m\n\u001b[0;32m   3022\u001b[0m         \u001b[1;32mif\u001b[0m \u001b[0mpath_or_buf\u001b[0m \u001b[1;32mis\u001b[0m \u001b[1;32mNone\u001b[0m\u001b[1;33m:\u001b[0m\u001b[1;33m\u001b[0m\u001b[1;33m\u001b[0m\u001b[0m\n",
      "\u001b[1;32m~\\Anaconda3\\lib\\site-packages\\pandas\\io\\formats\\csvs.py\u001b[0m in \u001b[0;36msave\u001b[1;34m(self)\u001b[0m\n\u001b[0;32m    155\u001b[0m             f, handles = _get_handle(self.path_or_buf, self.mode,\n\u001b[0;32m    156\u001b[0m                                      \u001b[0mencoding\u001b[0m\u001b[1;33m=\u001b[0m\u001b[0mself\u001b[0m\u001b[1;33m.\u001b[0m\u001b[0mencoding\u001b[0m\u001b[1;33m,\u001b[0m\u001b[1;33m\u001b[0m\u001b[1;33m\u001b[0m\u001b[0m\n\u001b[1;32m--> 157\u001b[1;33m                                      compression=self.compression)\n\u001b[0m\u001b[0;32m    158\u001b[0m             \u001b[0mclose\u001b[0m \u001b[1;33m=\u001b[0m \u001b[1;32mTrue\u001b[0m\u001b[1;33m\u001b[0m\u001b[1;33m\u001b[0m\u001b[0m\n\u001b[0;32m    159\u001b[0m \u001b[1;33m\u001b[0m\u001b[0m\n",
      "\u001b[1;32m~\\Anaconda3\\lib\\site-packages\\pandas\\io\\common.py\u001b[0m in \u001b[0;36m_get_handle\u001b[1;34m(path_or_buf, mode, encoding, compression, memory_map, is_text)\u001b[0m\n\u001b[0;32m    422\u001b[0m         \u001b[1;32melif\u001b[0m \u001b[0mencoding\u001b[0m\u001b[1;33m:\u001b[0m\u001b[1;33m\u001b[0m\u001b[1;33m\u001b[0m\u001b[0m\n\u001b[0;32m    423\u001b[0m             \u001b[1;31m# Python 3 and encoding\u001b[0m\u001b[1;33m\u001b[0m\u001b[1;33m\u001b[0m\u001b[1;33m\u001b[0m\u001b[0m\n\u001b[1;32m--> 424\u001b[1;33m             \u001b[0mf\u001b[0m \u001b[1;33m=\u001b[0m \u001b[0mopen\u001b[0m\u001b[1;33m(\u001b[0m\u001b[0mpath_or_buf\u001b[0m\u001b[1;33m,\u001b[0m \u001b[0mmode\u001b[0m\u001b[1;33m,\u001b[0m \u001b[0mencoding\u001b[0m\u001b[1;33m=\u001b[0m\u001b[0mencoding\u001b[0m\u001b[1;33m,\u001b[0m \u001b[0mnewline\u001b[0m\u001b[1;33m=\u001b[0m\u001b[1;34m\"\"\u001b[0m\u001b[1;33m)\u001b[0m\u001b[1;33m\u001b[0m\u001b[1;33m\u001b[0m\u001b[0m\n\u001b[0m\u001b[0;32m    425\u001b[0m         \u001b[1;32melif\u001b[0m \u001b[0mis_text\u001b[0m\u001b[1;33m:\u001b[0m\u001b[1;33m\u001b[0m\u001b[1;33m\u001b[0m\u001b[0m\n\u001b[0;32m    426\u001b[0m             \u001b[1;31m# Python 3 and no explicit encoding\u001b[0m\u001b[1;33m\u001b[0m\u001b[1;33m\u001b[0m\u001b[1;33m\u001b[0m\u001b[0m\n",
      "\u001b[1;31mFileNotFoundError\u001b[0m: [Errno 2] No such file or directory: 'dataset/reg_mult.csv'"
     ]
    }
   ],
   "source": [
    "df.to_csv(\"dataset/reg_mult.csv\")"
   ]
  },
  {
   "cell_type": "markdown",
   "metadata": {},
   "source": [
    "## 2. Classification dataset"
   ]
  },
  {
   "cell_type": "markdown",
   "metadata": {},
   "source": [
    "## 2.1 make_blobs"
   ]
  },
  {
   "cell_type": "code",
   "execution_count": 33,
   "metadata": {},
   "outputs": [],
   "source": [
    "from sklearn.datasets import make_blobs"
   ]
  },
  {
   "cell_type": "code",
   "execution_count": 34,
   "metadata": {},
   "outputs": [],
   "source": [
    "X, y = make_blobs(n_samples=100, centers=3, n_features=2)"
   ]
  },
  {
   "cell_type": "code",
   "execution_count": 35,
   "metadata": {},
   "outputs": [
    {
     "data": {
      "text/html": [
       "<div>\n",
       "<style scoped>\n",
       "    .dataframe tbody tr th:only-of-type {\n",
       "        vertical-align: middle;\n",
       "    }\n",
       "\n",
       "    .dataframe tbody tr th {\n",
       "        vertical-align: top;\n",
       "    }\n",
       "\n",
       "    .dataframe thead th {\n",
       "        text-align: right;\n",
       "    }\n",
       "</style>\n",
       "<table border=\"1\" class=\"dataframe\">\n",
       "  <thead>\n",
       "    <tr style=\"text-align: right;\">\n",
       "      <th></th>\n",
       "      <th>x</th>\n",
       "      <th>y</th>\n",
       "      <th>label</th>\n",
       "    </tr>\n",
       "  </thead>\n",
       "  <tbody>\n",
       "    <tr>\n",
       "      <th>0</th>\n",
       "      <td>-6.383446</td>\n",
       "      <td>-0.583703</td>\n",
       "      <td>2</td>\n",
       "    </tr>\n",
       "    <tr>\n",
       "      <th>1</th>\n",
       "      <td>7.253751</td>\n",
       "      <td>-8.387116</td>\n",
       "      <td>1</td>\n",
       "    </tr>\n",
       "    <tr>\n",
       "      <th>2</th>\n",
       "      <td>-4.850509</td>\n",
       "      <td>0.064574</td>\n",
       "      <td>2</td>\n",
       "    </tr>\n",
       "    <tr>\n",
       "      <th>3</th>\n",
       "      <td>-4.947467</td>\n",
       "      <td>1.185248</td>\n",
       "      <td>2</td>\n",
       "    </tr>\n",
       "    <tr>\n",
       "      <th>4</th>\n",
       "      <td>5.864115</td>\n",
       "      <td>6.694247</td>\n",
       "      <td>0</td>\n",
       "    </tr>\n",
       "  </tbody>\n",
       "</table>\n",
       "</div>"
      ],
      "text/plain": [
       "          x         y  label\n",
       "0 -6.383446 -0.583703      2\n",
       "1  7.253751 -8.387116      1\n",
       "2 -4.850509  0.064574      2\n",
       "3 -4.947467  1.185248      2\n",
       "4  5.864115  6.694247      0"
      ]
     },
     "execution_count": 35,
     "metadata": {},
     "output_type": "execute_result"
    }
   ],
   "source": [
    "df = pd.DataFrame(dict(x=X[:,0], y=X[:,1], label=y))\n",
    "df.head()"
   ]
  },
  {
   "cell_type": "code",
   "execution_count": 36,
   "metadata": {},
   "outputs": [
    {
     "data": {
      "image/png": "[encoded data removed]",
      "text/plain": [
       "<Figure size 720x576 with 1 Axes>"
      ]
     },
     "metadata": {
      "needs_background": "light"
     },
     "output_type": "display_data"
    }
   ],
   "source": [
    "# group dataset by label\n",
    "grouped = df.groupby('label')\n",
    "\n",
    "# plot classification dataset\n",
    "colors = {0:'red', 1:'blue', 2:'green'}\n",
    "fig, ax = plt.subplots()\n",
    "for key, group in grouped:\n",
    "    group.plot(ax=ax, kind='scatter', x='x', y='y', label=key, color=colors[key], figsize=(10,8))\n",
    "plt.show()"
   ]
  },
  {
   "cell_type": "code",
   "execution_count": 37,
   "metadata": {},
   "outputs": [
    {
     "ename": "FileNotFoundError",
     "evalue": "[Errno 2] No such file or directory: 'dataset/class_blobs.csv'",
     "output_type": "error",
     "traceback": [
      "\u001b[1;31m---------------------------------------------------------------------------\u001b[0m",
      "\u001b[1;31mFileNotFoundError\u001b[0m                         Traceback (most recent call last)",
      "\u001b[1;32m<ipython-input-37-712e95635546>\u001b[0m in \u001b[0;36m<module>\u001b[1;34m\u001b[0m\n\u001b[1;32m----> 1\u001b[1;33m \u001b[0mdf\u001b[0m\u001b[1;33m.\u001b[0m\u001b[0mto_csv\u001b[0m\u001b[1;33m(\u001b[0m\u001b[1;34m\"dataset/class_blobs.csv\"\u001b[0m\u001b[1;33m)\u001b[0m\u001b[1;33m\u001b[0m\u001b[1;33m\u001b[0m\u001b[0m\n\u001b[0m",
      "\u001b[1;32m~\\Anaconda3\\lib\\site-packages\\pandas\\core\\generic.py\u001b[0m in \u001b[0;36mto_csv\u001b[1;34m(self, path_or_buf, sep, na_rep, float_format, columns, header, index, index_label, mode, encoding, compression, quoting, quotechar, line_terminator, chunksize, tupleize_cols, date_format, doublequote, escapechar, decimal)\u001b[0m\n\u001b[0;32m   3018\u001b[0m                                  \u001b[0mdoublequote\u001b[0m\u001b[1;33m=\u001b[0m\u001b[0mdoublequote\u001b[0m\u001b[1;33m,\u001b[0m\u001b[1;33m\u001b[0m\u001b[1;33m\u001b[0m\u001b[0m\n\u001b[0;32m   3019\u001b[0m                                  escapechar=escapechar, decimal=decimal)\n\u001b[1;32m-> 3020\u001b[1;33m         \u001b[0mformatter\u001b[0m\u001b[1;33m.\u001b[0m\u001b[0msave\u001b[0m\u001b[1;33m(\u001b[0m\u001b[1;33m)\u001b[0m\u001b[1;33m\u001b[0m\u001b[1;33m\u001b[0m\u001b[0m\n\u001b[0m\u001b[0;32m   3021\u001b[0m \u001b[1;33m\u001b[0m\u001b[0m\n\u001b[0;32m   3022\u001b[0m         \u001b[1;32mif\u001b[0m \u001b[0mpath_or_buf\u001b[0m \u001b[1;32mis\u001b[0m \u001b[1;32mNone\u001b[0m\u001b[1;33m:\u001b[0m\u001b[1;33m\u001b[0m\u001b[1;33m\u001b[0m\u001b[0m\n",
      "\u001b[1;32m~\\Anaconda3\\lib\\site-packages\\pandas\\io\\formats\\csvs.py\u001b[0m in \u001b[0;36msave\u001b[1;34m(self)\u001b[0m\n\u001b[0;32m    155\u001b[0m             f, handles = _get_handle(self.path_or_buf, self.mode,\n\u001b[0;32m    156\u001b[0m                                      \u001b[0mencoding\u001b[0m\u001b[1;33m=\u001b[0m\u001b[0mself\u001b[0m\u001b[1;33m.\u001b[0m\u001b[0mencoding\u001b[0m\u001b[1;33m,\u001b[0m\u001b[1;33m\u001b[0m\u001b[1;33m\u001b[0m\u001b[0m\n\u001b[1;32m--> 157\u001b[1;33m                                      compression=self.compression)\n\u001b[0m\u001b[0;32m    158\u001b[0m             \u001b[0mclose\u001b[0m \u001b[1;33m=\u001b[0m \u001b[1;32mTrue\u001b[0m\u001b[1;33m\u001b[0m\u001b[1;33m\u001b[0m\u001b[0m\n\u001b[0;32m    159\u001b[0m \u001b[1;33m\u001b[0m\u001b[0m\n",
      "\u001b[1;32m~\\Anaconda3\\lib\\site-packages\\pandas\\io\\common.py\u001b[0m in \u001b[0;36m_get_handle\u001b[1;34m(path_or_buf, mode, encoding, compression, memory_map, is_text)\u001b[0m\n\u001b[0;32m    422\u001b[0m         \u001b[1;32melif\u001b[0m \u001b[0mencoding\u001b[0m\u001b[1;33m:\u001b[0m\u001b[1;33m\u001b[0m\u001b[1;33m\u001b[0m\u001b[0m\n\u001b[0;32m    423\u001b[0m             \u001b[1;31m# Python 3 and encoding\u001b[0m\u001b[1;33m\u001b[0m\u001b[1;33m\u001b[0m\u001b[1;33m\u001b[0m\u001b[0m\n\u001b[1;32m--> 424\u001b[1;33m             \u001b[0mf\u001b[0m \u001b[1;33m=\u001b[0m \u001b[0mopen\u001b[0m\u001b[1;33m(\u001b[0m\u001b[0mpath_or_buf\u001b[0m\u001b[1;33m,\u001b[0m \u001b[0mmode\u001b[0m\u001b[1;33m,\u001b[0m \u001b[0mencoding\u001b[0m\u001b[1;33m=\u001b[0m\u001b[0mencoding\u001b[0m\u001b[1;33m,\u001b[0m \u001b[0mnewline\u001b[0m\u001b[1;33m=\u001b[0m\u001b[1;34m\"\"\u001b[0m\u001b[1;33m)\u001b[0m\u001b[1;33m\u001b[0m\u001b[1;33m\u001b[0m\u001b[0m\n\u001b[0m\u001b[0;32m    425\u001b[0m         \u001b[1;32melif\u001b[0m \u001b[0mis_text\u001b[0m\u001b[1;33m:\u001b[0m\u001b[1;33m\u001b[0m\u001b[1;33m\u001b[0m\u001b[0m\n\u001b[0;32m    426\u001b[0m             \u001b[1;31m# Python 3 and no explicit encoding\u001b[0m\u001b[1;33m\u001b[0m\u001b[1;33m\u001b[0m\u001b[1;33m\u001b[0m\u001b[0m\n",
      "\u001b[1;31mFileNotFoundError\u001b[0m: [Errno 2] No such file or directory: 'dataset/class_blobs.csv'"
     ]
    }
   ],
   "source": [
    "df.to_csv(\"dataset/class_blobs.csv\")"
   ]
  },
  {
   "cell_type": "markdown",
   "metadata": {},
   "source": [
    "## 2.2 make_moons"
   ]
  },
  {
   "cell_type": "code",
   "execution_count": 38,
   "metadata": {},
   "outputs": [],
   "source": [
    "from sklearn.datasets import make_moons"
   ]
  },
  {
   "cell_type": "code",
   "execution_count": 39,
   "metadata": {},
   "outputs": [],
   "source": [
    "X, y = make_moons(n_samples=500, noise=0.1)"
   ]
  },
  {
   "cell_type": "code",
   "execution_count": 40,
   "metadata": {},
   "outputs": [
    {
     "data": {
      "text/plain": [
       "array([[ 7.73010787e-01, -5.15201759e-01],\n",
       "       [ 5.22227697e-01, -1.72447823e-01],\n",
       "       [ 8.97724584e-01,  3.92895103e-01],\n",
       "       [ 7.71459400e-02,  3.47670527e-01],\n",
       "       [ 1.03056274e+00, -5.23123539e-01],\n",
       "       [ 1.99992840e+00,  2.26715823e-01],\n",
       "       [-7.72341113e-01,  6.75324741e-01],\n",
       "       [ 9.38013384e-01,  6.17999778e-01],\n",
       "       [-1.08264831e+00, -1.97380121e-01],\n",
       "       [ 1.13086035e+00, -4.67150507e-01],\n",
       "       [ 2.12952040e+00,  3.69305037e-01],\n",
       "       [ 1.88789500e+00,  1.29409720e-01],\n",
       "       [-6.12655425e-01,  3.99132531e-01],\n",
       "       [ 1.51443554e+00, -4.27655931e-01],\n",
       "       [-5.39352922e-01,  7.79480872e-01],\n",
       "       [ 1.81486955e-01,  5.26247145e-01],\n",
       "       [ 6.16233401e-03,  2.97097035e-01],\n",
       "       [ 1.51279453e+00, -5.25940759e-01],\n",
       "       [ 3.36429286e-01, -2.77001788e-01],\n",
       "       [ 1.04670623e+00, -3.99900536e-01],\n",
       "       [ 4.28438983e-01,  8.20831610e-01],\n",
       "       [ 3.58299039e-01,  1.05901641e+00],\n",
       "       [ 2.63812119e-01, -1.67804461e-02],\n",
       "       [ 1.88311195e+00, -7.36872180e-02],\n",
       "       [ 8.76884909e-01,  5.42909055e-01],\n",
       "       [ 1.21755285e+00, -3.67877776e-01],\n",
       "       [ 1.06351228e+00,  4.09717867e-01],\n",
       "       [ 9.11452238e-01,  4.87942106e-01],\n",
       "       [ 1.97754908e+00,  3.70320540e-01],\n",
       "       [ 9.79072819e-01,  1.94909381e-01],\n",
       "       [-7.91557631e-01,  6.99869128e-01],\n",
       "       [ 1.46104938e+00, -3.19884505e-01],\n",
       "       [ 2.04681037e+00,  5.23567389e-01],\n",
       "       [-9.43675656e-02,  8.95072190e-01],\n",
       "       [-1.05419821e+00,  1.13849793e-01],\n",
       "       [ 8.71247992e-01,  7.09112619e-01],\n",
       "       [-1.01118771e+00,  3.76618534e-01],\n",
       "       [ 3.80561619e-01,  8.33453550e-01],\n",
       "       [-6.30723206e-01,  8.49506696e-01],\n",
       "       [-9.28968686e-01,  6.05262140e-01],\n",
       "       [ 1.78352041e+00, -4.59203279e-02],\n",
       "       [ 1.68003514e+00, -4.01675010e-01],\n",
       "       [ 9.51403789e-01,  1.93967128e-01],\n",
       "       [ 3.85748953e-01, -3.06645813e-01],\n",
       "       [-7.66558548e-02,  1.01614305e+00],\n",
       "       [ 2.91873627e-01, -3.46729871e-01],\n",
       "       [ 1.09572652e+00, -5.56087734e-01],\n",
       "       [ 7.25621729e-01,  6.58542129e-01],\n",
       "       [ 2.91196789e-01,  8.99829029e-01],\n",
       "       [-5.71560862e-01,  6.55472442e-01],\n",
       "       [ 1.32504015e-01,  1.07818830e+00],\n",
       "       [-5.38687785e-01,  9.96239802e-01],\n",
       "       [ 1.67947055e-01, -7.56388712e-02],\n",
       "       [-1.08203060e+00,  1.76324096e-01],\n",
       "       [-8.26741267e-01,  6.68430769e-01],\n",
       "       [-1.86003663e-01,  9.59120982e-01],\n",
       "       [-9.17649286e-01,  4.86428436e-01],\n",
       "       [-1.56310028e-01,  8.68927429e-01],\n",
       "       [ 2.66902091e-01,  9.69369995e-01],\n",
       "       [ 2.47468131e-01,  1.33100174e-01],\n",
       "       [ 6.28576495e-01,  5.65603072e-01],\n",
       "       [ 1.01680219e+00,  4.33263722e-01],\n",
       "       [-9.51606070e-01,  2.59282830e-01],\n",
       "       [ 1.12281587e+00, -4.17222953e-01],\n",
       "       [ 5.09712165e-01,  8.20397134e-01],\n",
       "       [-3.35771121e-01,  8.92820619e-01],\n",
       "       [ 6.16221568e-01, -4.82993800e-01],\n",
       "       [-5.33420206e-01,  9.19072590e-01],\n",
       "       [ 4.08864492e-01,  8.15545977e-01],\n",
       "       [ 1.28867996e+00, -5.39764310e-01],\n",
       "       [ 2.73175549e-01, -2.96180185e-01],\n",
       "       [-4.55188252e-01,  9.16358902e-01],\n",
       "       [ 9.00216372e-01,  4.25417546e-01],\n",
       "       [-1.88392540e-01,  8.89034189e-01],\n",
       "       [ 1.35028467e+00, -2.71955325e-01],\n",
       "       [ 1.25905909e+00, -4.34210813e-01],\n",
       "       [ 1.68710806e-01, -1.35837850e-01],\n",
       "       [-9.52872889e-01,  1.92926418e-01],\n",
       "       [ 5.16954877e-01,  7.51750096e-01],\n",
       "       [ 8.04217851e-01,  6.02944468e-01],\n",
       "       [ 8.90395819e-01,  6.03089148e-01],\n",
       "       [ 6.52524374e-01,  7.78863449e-01],\n",
       "       [ 4.09130479e-01,  8.98317782e-01],\n",
       "       [-3.18836429e-02,  1.00442711e+00],\n",
       "       [-1.05013791e+00,  5.65153449e-02],\n",
       "       [ 9.21263016e-01,  4.27197757e-01],\n",
       "       [ 9.51912026e-01,  1.99711118e-01],\n",
       "       [ 1.81509401e+00,  5.09314405e-01],\n",
       "       [ 1.53277166e+00, -3.89525372e-01],\n",
       "       [ 1.04746813e-01,  1.18571015e+00],\n",
       "       [ 8.32696533e-01, -5.08084681e-01],\n",
       "       [-3.12878063e-01,  7.99773788e-01],\n",
       "       [ 1.92457088e+00,  2.97755383e-01],\n",
       "       [ 5.24649322e-01, -4.86537314e-01],\n",
       "       [ 1.88698414e+00,  4.77498302e-01],\n",
       "       [-6.13062361e-01,  7.95736311e-01],\n",
       "       [-8.50302543e-01,  3.90062671e-01],\n",
       "       [ 5.25286184e-01,  9.10817544e-01],\n",
       "       [ 9.55084109e-01,  1.85479572e-01],\n",
       "       [-5.37366936e-02,  4.17683899e-01],\n",
       "       [ 4.27875762e-01, -4.64739600e-01],\n",
       "       [ 8.43667142e-01,  4.07590572e-01],\n",
       "       [-1.58814465e-01,  7.85100822e-01],\n",
       "       [ 1.76377778e+00,  1.85167947e-01],\n",
       "       [ 1.88034505e+00,  3.79005188e-01],\n",
       "       [ 1.31145917e+00, -3.19507989e-01],\n",
       "       [ 4.93639110e-01,  7.62719602e-01],\n",
       "       [ 7.86183198e-01,  3.57642062e-01],\n",
       "       [-8.71919434e-01,  2.89428948e-01],\n",
       "       [-2.23654826e-02,  3.00943526e-01],\n",
       "       [ 1.27242362e-01, -3.78458177e-01],\n",
       "       [ 7.94469356e-01,  8.03188651e-01],\n",
       "       [ 1.17994340e+00, -6.67417670e-01],\n",
       "       [-9.21860084e-01,  1.03752250e-01],\n",
       "       [ 1.81873194e+00, -6.31690230e-02],\n",
       "       [ 1.53910092e+00, -2.37890201e-01],\n",
       "       [ 1.77267661e+00, -1.62055872e-01],\n",
       "       [ 8.14390976e-01,  5.89892000e-01],\n",
       "       [ 1.53097165e+00, -4.31120186e-01],\n",
       "       [ 2.96383075e-01,  1.02585837e+00],\n",
       "       [ 8.11323676e-01,  4.92524416e-01],\n",
       "       [-5.68606317e-01,  8.62451161e-01],\n",
       "       [ 5.90246964e-01,  2.54092294e-01],\n",
       "       [-1.10740566e-01,  1.14598192e+00],\n",
       "       [-9.64222229e-02,  8.74117243e-01],\n",
       "       [-1.08483781e+00,  1.06885510e-01],\n",
       "       [ 2.43946279e-01, -3.08673018e-01],\n",
       "       [ 9.42918829e-01,  2.11066635e-01],\n",
       "       [ 1.63636377e-01,  9.84382371e-01],\n",
       "       [ 1.35482179e+00, -5.59082340e-01],\n",
       "       [ 1.76035785e+00,  2.26315399e-02],\n",
       "       [-8.73488345e-01,  5.50905916e-01],\n",
       "       [ 1.37461948e-01,  5.46968427e-01],\n",
       "       [ 1.93874669e+00, -1.38324486e-01],\n",
       "       [-9.02461338e-01,  7.74358765e-01],\n",
       "       [ 1.33152654e+00, -5.00421889e-01],\n",
       "       [ 2.59288849e-03,  1.05073505e+00],\n",
       "       [ 6.69623880e-01,  7.82800315e-01],\n",
       "       [ 5.55174176e-01, -2.86249338e-01],\n",
       "       [ 3.33889902e-01,  9.15240583e-01],\n",
       "       [ 1.61003323e-01,  1.04600058e+00],\n",
       "       [-1.26111604e-02,  1.28403048e+00],\n",
       "       [-9.91152837e-01,  5.54003158e-01],\n",
       "       [ 9.04996047e-01, -3.35563822e-01],\n",
       "       [ 1.19590859e+00, -6.02349362e-01],\n",
       "       [ 1.49004671e-01,  8.02478819e-02],\n",
       "       [ 1.80505036e+00, -3.88810038e-02],\n",
       "       [ 1.07606643e+00, -5.77916719e-01],\n",
       "       [ 9.01683716e-02,  1.10408818e+00],\n",
       "       [-2.09759183e-01,  1.05700321e+00],\n",
       "       [ 1.05398813e+00, -6.85178896e-01],\n",
       "       [-5.80073189e-01,  8.87437959e-01],\n",
       "       [ 1.93887497e+00,  5.15518273e-01],\n",
       "       [ 1.72478267e-01,  5.89263994e-01],\n",
       "       [ 1.57017161e-01,  9.47121038e-02],\n",
       "       [ 1.95359107e+00,  1.09782302e-01],\n",
       "       [ 5.42161510e-01,  9.43187565e-01],\n",
       "       [ 1.81592828e+00, -3.92719757e-02],\n",
       "       [ 5.87643483e-01,  8.35161092e-01],\n",
       "       [ 1.35568793e-01,  1.01767343e+00],\n",
       "       [ 5.47324322e-01, -3.60088639e-01],\n",
       "       [ 5.94490051e-01, -4.02834818e-01],\n",
       "       [ 5.96760954e-02,  3.74120101e-01],\n",
       "       [ 6.66165188e-01,  5.18725097e-01],\n",
       "       [ 1.21240409e-01,  8.42711635e-01],\n",
       "       [ 2.00019389e+00,  8.95988360e-02],\n",
       "       [-1.69805249e-01,  9.25516002e-01],\n",
       "       [ 7.49281613e-01,  4.59027544e-01],\n",
       "       [-8.81398447e-01,  1.92397685e-01],\n",
       "       [ 9.72407010e-01,  3.18385377e-01],\n",
       "       [ 6.60987664e-01, -4.77994738e-01],\n",
       "       [ 1.98098122e+00,  1.13700562e-01],\n",
       "       [ 9.82551102e-01,  1.34844676e-01],\n",
       "       [ 4.99386825e-01, -2.82853947e-01],\n",
       "       [ 1.46448332e+00, -2.92294904e-01],\n",
       "       [ 1.38855525e+00, -3.62148010e-01],\n",
       "       [ 1.57465298e+00, -1.91892317e-01],\n",
       "       [-2.04019551e-01,  8.55760439e-01],\n",
       "       [-1.13681190e+00,  8.94441791e-02],\n",
       "       [-6.34274055e-01,  4.57641420e-01],\n",
       "       [-9.17141359e-01,  4.64268309e-01],\n",
       "       [-1.04788846e+00,  1.25275760e-02],\n",
       "       [-4.25284155e-01,  8.39248950e-01],\n",
       "       [ 1.60547086e+00, -3.54404877e-01],\n",
       "       [ 1.56686050e+00, -2.50735949e-01],\n",
       "       [ 9.27468139e-01, -4.85930494e-01],\n",
       "       [ 6.28199098e-01, -3.56714672e-01],\n",
       "       [-3.16075129e-01,  9.73192108e-01],\n",
       "       [ 9.76657250e-02,  1.46916582e-01],\n",
       "       [ 3.13227482e-01,  1.17424520e+00],\n",
       "       [-6.32868814e-01,  6.07144265e-01],\n",
       "       [-6.56758900e-01,  9.44755989e-01],\n",
       "       [ 4.08118448e-01,  9.71629025e-01],\n",
       "       [ 4.26251765e-01,  7.81119979e-01],\n",
       "       [-3.28888106e-01,  1.04110156e+00],\n",
       "       [-1.09628291e+00,  2.16822087e-02],\n",
       "       [ 7.51172302e-01,  6.87837995e-01],\n",
       "       [ 1.62989717e-01, -2.99736456e-01],\n",
       "       [ 1.13753838e-02,  9.57132139e-01],\n",
       "       [ 9.11761574e-01,  2.51143715e-01],\n",
       "       [ 7.74762937e-01, -3.68946401e-01],\n",
       "       [ 1.63574190e+00, -4.26723538e-01],\n",
       "       [ 1.67343861e-02,  4.84799593e-01],\n",
       "       [ 1.98860875e+00,  4.52901027e-02],\n",
       "       [ 2.08634786e-01, -1.05596997e-01],\n",
       "       [ 1.24914817e+00, -3.76699783e-01],\n",
       "       [-4.18795630e-01,  8.98529458e-01],\n",
       "       [-1.05795918e+00,  4.11114152e-01],\n",
       "       [ 3.74879858e-01, -7.70845771e-02],\n",
       "       [-7.21564853e-01,  5.93667160e-01],\n",
       "       [-7.64220189e-01,  8.57026689e-01],\n",
       "       [-2.45984113e-01,  8.63451375e-01],\n",
       "       [ 8.64505516e-01,  3.79219973e-01],\n",
       "       [-9.76465879e-01,  5.64287030e-01],\n",
       "       [-1.23754496e-01,  2.49825597e-01],\n",
       "       [ 1.05389294e+00,  1.70775807e-01],\n",
       "       [ 9.98881336e-01, -4.98389433e-01],\n",
       "       [ 4.88711182e-01,  9.83962928e-01],\n",
       "       [-8.36914710e-01,  7.50905783e-02],\n",
       "       [ 2.02598282e+00,  4.99031384e-01],\n",
       "       [ 4.53962852e-02,  1.13674312e+00],\n",
       "       [ 4.34468921e-01, -2.82799168e-01],\n",
       "       [ 4.19492522e-01, -3.26237718e-01],\n",
       "       [ 3.21790618e-01, -3.59423783e-01],\n",
       "       [ 1.96503229e+00, -8.54002578e-02],\n",
       "       [-3.25558604e-01,  1.01259760e+00],\n",
       "       [ 2.97233764e-01, -1.84615937e-01],\n",
       "       [ 8.84359718e-02,  1.00197837e-01],\n",
       "       [ 1.51334117e-01, -1.24027611e-02],\n",
       "       [ 1.92116584e-01, -2.11863572e-01],\n",
       "       [-5.55870103e-01,  9.19758043e-01],\n",
       "       [ 9.63240974e-01,  6.75790646e-01],\n",
       "       [-1.16524435e-01,  1.08994329e+00],\n",
       "       [ 8.40917822e-01,  5.83572661e-01],\n",
       "       [ 4.94654644e-01,  8.21697800e-01],\n",
       "       [ 1.91257761e+00,  5.52269081e-01],\n",
       "       [ 1.57057109e+00, -2.85948386e-01],\n",
       "       [ 7.07103871e-01,  6.74104796e-01],\n",
       "       [-5.66113745e-01,  7.30747660e-01],\n",
       "       [ 6.04936735e-02,  3.19522282e-01],\n",
       "       [ 7.05402438e-01,  3.91341531e-01],\n",
       "       [ 8.69679105e-02,  7.59644755e-02],\n",
       "       [ 5.54624402e-01,  7.47201085e-01],\n",
       "       [-1.21159991e-01,  9.35648643e-01],\n",
       "       [-2.06642576e-01,  2.71173250e-01],\n",
       "       [ 1.08601421e+00,  2.54573346e-01],\n",
       "       [-3.01918745e-01,  1.06764472e+00],\n",
       "       [ 6.87113754e-01, -4.73817600e-01],\n",
       "       [ 7.00875412e-01,  5.37076734e-01],\n",
       "       [ 1.67192760e+00, -3.28204952e-01],\n",
       "       [ 8.93553189e-01, -2.42761552e-01],\n",
       "       [ 1.57059071e+00, -5.97978705e-02],\n",
       "       [-2.79506254e-01,  9.77113258e-01],\n",
       "       [-1.10233330e+00,  2.25884091e-01],\n",
       "       [ 7.56102031e-01,  5.78687318e-01],\n",
       "       [ 5.11414193e-01,  6.86171067e-01],\n",
       "       [-7.62946461e-01,  5.25832567e-01],\n",
       "       [ 1.78281796e-01,  5.11360393e-01],\n",
       "       [ 1.06527643e+00, -4.57857285e-01],\n",
       "       [ 1.20488535e-01,  1.93088020e-01],\n",
       "       [ 1.38403730e+00, -3.79009272e-01],\n",
       "       [-6.15986092e-01,  8.99147850e-01],\n",
       "       [ 7.49339436e-01, -4.18003476e-01],\n",
       "       [ 5.63975639e-01, -4.74055720e-01],\n",
       "       [ 1.63939925e-01,  5.05061454e-02],\n",
       "       [-5.95283081e-01,  8.22521047e-01],\n",
       "       [ 1.81338048e+00, -2.74941780e-02],\n",
       "       [ 4.36662310e-01,  9.00257741e-01],\n",
       "       [ 5.91167619e-01,  7.92234576e-01],\n",
       "       [ 3.35189490e-01,  3.72706507e-01],\n",
       "       [ 1.94969922e+00,  2.23925199e-01],\n",
       "       [ 1.22532090e-01,  2.62239397e-01],\n",
       "       [ 1.01676276e+00, -1.66670145e-01],\n",
       "       [ 1.27469579e-01,  9.02554251e-01],\n",
       "       [ 1.55800987e-01, -1.68895340e-01],\n",
       "       [-6.67158787e-01,  7.63823788e-01],\n",
       "       [-5.38279645e-01,  8.71882389e-01],\n",
       "       [ 1.04070019e+00,  2.22132663e-01],\n",
       "       [ 1.15882445e+00, -4.65200775e-01],\n",
       "       [ 6.04530236e-01,  7.59596992e-01],\n",
       "       [ 1.93486224e+00,  7.35694110e-02],\n",
       "       [ 7.72394977e-01,  4.50870678e-01],\n",
       "       [ 8.87767409e-01, -6.44659601e-01],\n",
       "       [ 1.05769843e+00,  1.70160034e-01],\n",
       "       [ 4.45519137e-01,  7.45543016e-01],\n",
       "       [ 2.00175182e+00,  2.45840592e-01],\n",
       "       [ 2.07460924e+00,  1.43497577e-02],\n",
       "       [ 1.66593432e+00, -5.11170772e-01],\n",
       "       [ 1.79136089e+00, -2.17749096e-01],\n",
       "       [ 2.07070840e-01,  9.97086694e-02],\n",
       "       [ 9.11930218e-01,  2.78793400e-01],\n",
       "       [ 1.81570920e-01,  8.49541729e-01],\n",
       "       [ 1.65248296e+00, -2.86077648e-01],\n",
       "       [ 1.69520832e+00, -1.37323479e-01],\n",
       "       [ 1.79096883e+00, -1.49761633e-03],\n",
       "       [-4.29871309e-02,  1.09856041e+00],\n",
       "       [ 7.36233243e-01, -4.86515083e-01],\n",
       "       [ 9.38091617e-01, -3.59476448e-01],\n",
       "       [ 9.62798764e-01, -6.78753037e-01],\n",
       "       [ 1.42827660e+00, -3.24940507e-01],\n",
       "       [ 1.94470095e+00,  2.20491209e-01],\n",
       "       [ 5.30574569e-01,  7.86165121e-01],\n",
       "       [ 1.39870568e+00, -3.84772341e-01],\n",
       "       [-8.21086255e-01,  5.96662494e-01],\n",
       "       [ 4.86957467e-01,  6.32323762e-01],\n",
       "       [ 1.13191011e+00, -4.89025610e-02],\n",
       "       [-7.73077678e-01,  2.94637627e-01],\n",
       "       [ 1.19889811e+00, -2.66889292e-01],\n",
       "       [ 8.45045559e-01,  4.16674820e-01],\n",
       "       [ 7.55845222e-01, -5.61540258e-01],\n",
       "       [ 6.45126350e-01,  8.32898188e-01],\n",
       "       [ 5.39284208e-02,  1.09781970e+00],\n",
       "       [ 8.23223864e-01,  6.89549993e-01],\n",
       "       [ 6.86602099e-02,  4.09153900e-02],\n",
       "       [ 8.15135892e-01,  1.05447126e-01],\n",
       "       [-6.25084092e-02,  9.96741802e-01],\n",
       "       [ 1.01496756e+00, -3.86392607e-01],\n",
       "       [ 9.62026237e-01,  2.36904322e-01],\n",
       "       [ 1.08938283e+00, -5.04067246e-01],\n",
       "       [ 1.05512886e-01,  3.13621976e-01],\n",
       "       [-1.02525972e+00,  1.98455677e-02],\n",
       "       [ 1.85365742e-01,  1.47759000e-01],\n",
       "       [-1.10849751e+00,  2.86533574e-01],\n",
       "       [ 8.59888477e-01,  6.48624010e-01],\n",
       "       [ 3.63913313e-01, -2.28435312e-01],\n",
       "       [ 1.06235081e+00, -5.33259460e-01],\n",
       "       [ 7.05153845e-01, -4.35023774e-01],\n",
       "       [ 1.43506598e+00, -3.69825636e-01],\n",
       "       [ 7.03791205e-01,  7.26597831e-01],\n",
       "       [ 2.04100851e+00,  2.31590899e-01],\n",
       "       [ 6.61035522e-01, -4.94894582e-01],\n",
       "       [ 8.30292563e-01,  3.54169283e-01],\n",
       "       [-8.35150928e-01,  2.13003503e-01],\n",
       "       [ 1.30736126e-01,  1.10623482e+00],\n",
       "       [ 6.88833303e-01, -2.93843933e-01],\n",
       "       [ 3.91090205e-01, -2.02389524e-01],\n",
       "       [ 1.02713703e+00,  4.34311342e-01],\n",
       "       [ 6.25132614e-01, -3.38450360e-01],\n",
       "       [-9.20848037e-01,  4.25223966e-01],\n",
       "       [-7.74450150e-01,  6.72537295e-01],\n",
       "       [ 1.98631892e+00,  3.34577212e-01],\n",
       "       [ 1.34609918e+00, -4.07322474e-01],\n",
       "       [ 1.68226214e+00,  1.34220542e-02],\n",
       "       [ 7.55396978e-01, -3.82750242e-01],\n",
       "       [ 9.46758049e-01, -3.91330943e-02],\n",
       "       [-6.87534123e-02,  1.55721257e-02],\n",
       "       [-8.25969913e-01,  3.94000425e-01],\n",
       "       [-1.72485797e-01,  1.03991811e+00],\n",
       "       [-1.14706980e+00,  8.60804033e-02],\n",
       "       [ 2.67382274e-02,  2.29442870e-01],\n",
       "       [-3.81817202e-01,  8.50015178e-01],\n",
       "       [ 1.78418277e+00,  1.11608798e-01],\n",
       "       [ 9.13862827e-01,  9.76086851e-02],\n",
       "       [ 6.82332816e-01, -5.09632066e-01],\n",
       "       [ 8.06647793e-02,  2.68542298e-01],\n",
       "       [-3.48731317e-02,  3.22678581e-01],\n",
       "       [-2.75065643e-02,  3.04886610e-01],\n",
       "       [ 8.41033614e-01, -3.87502906e-01],\n",
       "       [ 5.26770133e-01,  8.15368532e-01],\n",
       "       [-1.02471057e+00,  2.92381384e-01],\n",
       "       [ 1.28547704e+00, -4.67564187e-01],\n",
       "       [ 7.49586504e-01,  3.52770083e-01],\n",
       "       [ 2.76882393e-01, -3.73270879e-01],\n",
       "       [ 1.98279743e+00,  5.46438407e-01],\n",
       "       [ 1.80489633e+00,  1.15920565e-01],\n",
       "       [ 1.88456272e+00,  2.18972222e-01],\n",
       "       [ 1.67885506e-01,  1.18851483e-01],\n",
       "       [ 2.07110059e-01, -1.50173181e-01],\n",
       "       [-8.34179383e-01,  5.92376466e-01],\n",
       "       [-7.57194864e-01,  6.49914472e-01],\n",
       "       [ 4.70897973e-01, -3.31719049e-01],\n",
       "       [ 9.68882863e-01,  5.56451449e-02],\n",
       "       [ 1.29912725e+00, -5.29463710e-01],\n",
       "       [ 9.25177451e-01,  2.51198133e-01],\n",
       "       [ 1.93769193e+00,  2.34518512e-01],\n",
       "       [-1.06592059e+00,  2.61348268e-01],\n",
       "       [ 1.33187151e+00, -3.64725122e-01],\n",
       "       [ 1.60586531e+00, -3.47188674e-01],\n",
       "       [-3.70162011e-01,  9.11407769e-01],\n",
       "       [ 4.17039741e-01,  1.11944064e+00],\n",
       "       [ 2.85145139e-01,  8.63188041e-01],\n",
       "       [ 1.95572410e+00,  3.04179052e-01],\n",
       "       [ 4.03322948e-01,  9.93276053e-01],\n",
       "       [-5.41837504e-01,  9.30012250e-01],\n",
       "       [ 1.35167005e+00, -3.73047122e-01],\n",
       "       [ 1.88011546e+00,  5.61581633e-01],\n",
       "       [ 7.56795837e-01, -4.41905364e-01],\n",
       "       [-8.80622351e-01,  2.56076987e-01],\n",
       "       [-7.08778584e-01,  5.42657155e-01],\n",
       "       [-6.53835185e-01,  8.58366658e-01],\n",
       "       [-4.26934799e-01,  8.59155997e-01],\n",
       "       [ 3.76773185e-01,  9.19534767e-01],\n",
       "       [ 6.57708546e-01, -4.33474663e-01],\n",
       "       [ 7.18292026e-01,  5.91003669e-01],\n",
       "       [ 7.48062687e-01, -5.62901475e-01],\n",
       "       [ 1.56797866e+00, -4.27179671e-01],\n",
       "       [ 1.14775831e+00, -2.91120731e-01],\n",
       "       [ 8.29063356e-01, -5.95674067e-01],\n",
       "       [ 6.18793312e-01,  7.42680553e-01],\n",
       "       [ 8.43633764e-01,  3.79615753e-01],\n",
       "       [ 2.12271304e-01,  3.66956509e-02],\n",
       "       [ 9.43347545e-01,  3.27775551e-01],\n",
       "       [ 8.65471439e-01, -5.47489545e-01],\n",
       "       [ 9.44780288e-01, -4.53636769e-01],\n",
       "       [ 3.73854074e-01, -2.25681092e-01],\n",
       "       [-3.27476659e-01,  9.63074061e-01],\n",
       "       [ 1.94889213e+00,  4.41921997e-01],\n",
       "       [-3.58923269e-01,  1.01356334e+00],\n",
       "       [ 1.85917802e+00, -1.36378437e-01],\n",
       "       [ 1.14447123e-01, -4.23299078e-03],\n",
       "       [ 6.63265589e-01, -4.45533126e-01],\n",
       "       [-7.49093720e-01,  4.64665746e-01],\n",
       "       [ 6.14960863e-01, -3.25142040e-01],\n",
       "       [ 1.76466522e+00, -1.10516135e-01],\n",
       "       [-1.04091258e+00, -1.04823353e-02],\n",
       "       [ 1.23581442e-01,  1.02079165e+00],\n",
       "       [ 1.97658789e+00,  2.36009187e-01],\n",
       "       [ 8.81969284e-02, -4.12161068e-02],\n",
       "       [ 4.54123991e-01, -3.20552893e-01],\n",
       "       [ 7.73018868e-01,  6.72615811e-01],\n",
       "       [ 7.50620003e-01, -4.45601553e-01],\n",
       "       [ 6.85644757e-01, -6.14434704e-01],\n",
       "       [-4.77210428e-01,  8.98986939e-01],\n",
       "       [ 1.75771307e+00, -3.38907982e-02],\n",
       "       [-9.52581459e-01,  3.67192581e-01],\n",
       "       [ 7.68866836e-01,  7.06952636e-01],\n",
       "       [ 2.17537719e-01, -2.19220919e-02],\n",
       "       [ 1.67056555e+00, -1.84392148e-01],\n",
       "       [ 1.12675923e-02,  1.12864619e+00],\n",
       "       [ 8.57848338e-02,  9.49004105e-01],\n",
       "       [ 7.13070937e-01, -5.32045988e-01],\n",
       "       [-8.31718186e-01,  3.65183185e-01],\n",
       "       [ 6.26588082e-01, -5.56596132e-01],\n",
       "       [-8.55334424e-01,  2.16956619e-01],\n",
       "       [ 1.11341352e+00,  1.76904206e-01],\n",
       "       [ 1.81521879e+00,  9.24970231e-02],\n",
       "       [ 1.46088973e+00, -3.38597762e-01],\n",
       "       [ 8.35562218e-01,  6.85065294e-01],\n",
       "       [-8.90839798e-01,  5.27783668e-01],\n",
       "       [ 1.79060516e+00,  1.46084022e-01],\n",
       "       [ 1.58429270e+00, -2.51558652e-01],\n",
       "       [-5.08619168e-02,  2.96248551e-01],\n",
       "       [ 1.09040043e+00, -4.80283904e-01],\n",
       "       [ 5.46902574e-01,  8.35136923e-01],\n",
       "       [ 6.84306098e-02,  1.23562351e-01],\n",
       "       [ 3.39727894e-01,  1.08726247e+00],\n",
       "       [ 7.67157097e-01,  7.41035002e-01],\n",
       "       [ 1.40800752e+00, -3.95999516e-01],\n",
       "       [-1.03103618e+00,  1.30779318e-01],\n",
       "       [ 1.21743442e+00, -3.90572620e-01],\n",
       "       [ 1.10912540e+00, -4.43290971e-01],\n",
       "       [ 2.08677443e-01,  6.44593848e-02],\n",
       "       [-1.07508044e-02,  9.85394072e-01],\n",
       "       [-9.73429476e-01,  1.02270613e-01],\n",
       "       [ 1.43619966e-01,  1.05918485e+00],\n",
       "       [-5.59844569e-02,  1.12532058e+00],\n",
       "       [-4.55193436e-01,  7.46262369e-01],\n",
       "       [ 1.33885823e+00, -3.48071939e-01],\n",
       "       [-7.79782337e-01,  3.33921612e-01],\n",
       "       [ 1.43044232e+00, -6.93045557e-01],\n",
       "       [-9.54042545e-01,  5.33770908e-01],\n",
       "       [-1.36216152e-01, -1.70594828e-01],\n",
       "       [ 1.63512680e-01, -1.88607734e-01],\n",
       "       [-8.51329294e-01,  3.22778222e-01],\n",
       "       [-9.94718967e-01,  5.69161084e-01],\n",
       "       [ 4.32666157e-01, -2.52806811e-01],\n",
       "       [-6.37198334e-01,  8.22093985e-01],\n",
       "       [ 3.48600291e-01, -7.30679434e-02],\n",
       "       [ 1.95110820e+00,  9.09078760e-02],\n",
       "       [ 1.80540984e+00, -2.57067056e-01],\n",
       "       [ 2.08764183e+00,  1.80921751e-01],\n",
       "       [ 1.84590717e+00, -5.16074335e-03],\n",
       "       [ 4.42973412e-01, -3.44634645e-01],\n",
       "       [-5.78464475e-01,  7.94661270e-01],\n",
       "       [-1.32763852e-02,  4.23492570e-01],\n",
       "       [ 1.78939237e+00, -1.39764754e-01],\n",
       "       [ 1.55465727e+00, -2.80934102e-01],\n",
       "       [ 6.40118347e-01,  6.09033977e-01],\n",
       "       [ 1.84176038e+00,  1.64029687e-01],\n",
       "       [-5.51829501e-01,  9.79933214e-01],\n",
       "       [-1.20508646e+00,  3.82793853e-01],\n",
       "       [ 9.41135477e-01,  4.97312815e-01],\n",
       "       [ 7.88822529e-01, -4.99943923e-01],\n",
       "       [ 3.86372136e-01,  1.20521928e-01],\n",
       "       [-3.49749075e-01,  9.70021123e-01],\n",
       "       [ 1.33126971e+00, -3.62814505e-01],\n",
       "       [-6.74244634e-01,  1.99100915e-01],\n",
       "       [ 2.14458124e+00,  5.83579358e-01],\n",
       "       [ 1.92522321e-01,  4.94268765e-02],\n",
       "       [ 3.58395741e-01,  3.00121468e-02],\n",
       "       [ 1.60280260e+00, -2.62931448e-01],\n",
       "       [-6.08427891e-01,  8.63542534e-01],\n",
       "       [-7.78397961e-01,  4.85836447e-01],\n",
       "       [ 1.88814614e+00,  4.37688809e-01],\n",
       "       [ 5.78971855e-01, -3.64791480e-01],\n",
       "       [ 1.60080006e+00, -9.52590462e-02],\n",
       "       [ 3.04560571e-02,  1.22534068e-01],\n",
       "       [ 7.56158533e-02, -7.42034741e-02],\n",
       "       [ 7.25826905e-02,  9.00462905e-01],\n",
       "       [ 1.46434064e-01,  1.52821076e-02]])"
      ]
     },
     "execution_count": 40,
     "metadata": {},
     "output_type": "execute_result"
    }
   ],
   "source": [
    "X"
   ]
  },
  {
   "cell_type": "code",
   "execution_count": 41,
   "metadata": {},
   "outputs": [],
   "source": [
    "df = pd.DataFrame(dict(x=X[:,0], y=X[:,1], label=y))"
   ]
  },
  {
   "cell_type": "code",
   "execution_count": 42,
   "metadata": {},
   "outputs": [
    {
     "data": {
      "image/png": "[encoded data removed]",
      "text/plain": [
       "<Figure size 720x576 with 1 Axes>"
      ]
     },
     "metadata": {
      "needs_background": "light"
     },
     "output_type": "display_data"
    }
   ],
   "source": [
    "# group dataset by label\n",
    "grouped = df.groupby('label')\n",
    "\n",
    "# plot classification dataset\n",
    "colors = {0:'red', 1:'blue'}\n",
    "fig, ax = plt.subplots()\n",
    "for key, group in grouped:\n",
    "    group.plot(ax=ax, kind='scatter', x='x', y='y', label=key, color=colors[key], figsize=(10,8))\n",
    "plt.show()"
   ]
  },
  {
   "cell_type": "code",
   "execution_count": 43,
   "metadata": {},
   "outputs": [
    {
     "ename": "FileNotFoundError",
     "evalue": "[Errno 2] No such file or directory: 'dataset/class_moons.csv'",
     "output_type": "error",
     "traceback": [
      "\u001b[1;31m---------------------------------------------------------------------------\u001b[0m",
      "\u001b[1;31mFileNotFoundError\u001b[0m                         Traceback (most recent call last)",
      "\u001b[1;32m<ipython-input-43-8e88a5ae7edf>\u001b[0m in \u001b[0;36m<module>\u001b[1;34m\u001b[0m\n\u001b[1;32m----> 1\u001b[1;33m \u001b[0mdf\u001b[0m\u001b[1;33m.\u001b[0m\u001b[0mto_csv\u001b[0m\u001b[1;33m(\u001b[0m\u001b[1;34m\"dataset/class_moons.csv\"\u001b[0m\u001b[1;33m)\u001b[0m\u001b[1;33m\u001b[0m\u001b[1;33m\u001b[0m\u001b[0m\n\u001b[0m",
      "\u001b[1;32m~\\Anaconda3\\lib\\site-packages\\pandas\\core\\generic.py\u001b[0m in \u001b[0;36mto_csv\u001b[1;34m(self, path_or_buf, sep, na_rep, float_format, columns, header, index, index_label, mode, encoding, compression, quoting, quotechar, line_terminator, chunksize, tupleize_cols, date_format, doublequote, escapechar, decimal)\u001b[0m\n\u001b[0;32m   3018\u001b[0m                                  \u001b[0mdoublequote\u001b[0m\u001b[1;33m=\u001b[0m\u001b[0mdoublequote\u001b[0m\u001b[1;33m,\u001b[0m\u001b[1;33m\u001b[0m\u001b[1;33m\u001b[0m\u001b[0m\n\u001b[0;32m   3019\u001b[0m                                  escapechar=escapechar, decimal=decimal)\n\u001b[1;32m-> 3020\u001b[1;33m         \u001b[0mformatter\u001b[0m\u001b[1;33m.\u001b[0m\u001b[0msave\u001b[0m\u001b[1;33m(\u001b[0m\u001b[1;33m)\u001b[0m\u001b[1;33m\u001b[0m\u001b[1;33m\u001b[0m\u001b[0m\n\u001b[0m\u001b[0;32m   3021\u001b[0m \u001b[1;33m\u001b[0m\u001b[0m\n\u001b[0;32m   3022\u001b[0m         \u001b[1;32mif\u001b[0m \u001b[0mpath_or_buf\u001b[0m \u001b[1;32mis\u001b[0m \u001b[1;32mNone\u001b[0m\u001b[1;33m:\u001b[0m\u001b[1;33m\u001b[0m\u001b[1;33m\u001b[0m\u001b[0m\n",
      "\u001b[1;32m~\\Anaconda3\\lib\\site-packages\\pandas\\io\\formats\\csvs.py\u001b[0m in \u001b[0;36msave\u001b[1;34m(self)\u001b[0m\n\u001b[0;32m    155\u001b[0m             f, handles = _get_handle(self.path_or_buf, self.mode,\n\u001b[0;32m    156\u001b[0m                                      \u001b[0mencoding\u001b[0m\u001b[1;33m=\u001b[0m\u001b[0mself\u001b[0m\u001b[1;33m.\u001b[0m\u001b[0mencoding\u001b[0m\u001b[1;33m,\u001b[0m\u001b[1;33m\u001b[0m\u001b[1;33m\u001b[0m\u001b[0m\n\u001b[1;32m--> 157\u001b[1;33m                                      compression=self.compression)\n\u001b[0m\u001b[0;32m    158\u001b[0m             \u001b[0mclose\u001b[0m \u001b[1;33m=\u001b[0m \u001b[1;32mTrue\u001b[0m\u001b[1;33m\u001b[0m\u001b[1;33m\u001b[0m\u001b[0m\n\u001b[0;32m    159\u001b[0m \u001b[1;33m\u001b[0m\u001b[0m\n",
      "\u001b[1;32m~\\Anaconda3\\lib\\site-packages\\pandas\\io\\common.py\u001b[0m in \u001b[0;36m_get_handle\u001b[1;34m(path_or_buf, mode, encoding, compression, memory_map, is_text)\u001b[0m\n\u001b[0;32m    422\u001b[0m         \u001b[1;32melif\u001b[0m \u001b[0mencoding\u001b[0m\u001b[1;33m:\u001b[0m\u001b[1;33m\u001b[0m\u001b[1;33m\u001b[0m\u001b[0m\n\u001b[0;32m    423\u001b[0m             \u001b[1;31m# Python 3 and encoding\u001b[0m\u001b[1;33m\u001b[0m\u001b[1;33m\u001b[0m\u001b[1;33m\u001b[0m\u001b[0m\n\u001b[1;32m--> 424\u001b[1;33m             \u001b[0mf\u001b[0m \u001b[1;33m=\u001b[0m \u001b[0mopen\u001b[0m\u001b[1;33m(\u001b[0m\u001b[0mpath_or_buf\u001b[0m\u001b[1;33m,\u001b[0m \u001b[0mmode\u001b[0m\u001b[1;33m,\u001b[0m \u001b[0mencoding\u001b[0m\u001b[1;33m=\u001b[0m\u001b[0mencoding\u001b[0m\u001b[1;33m,\u001b[0m \u001b[0mnewline\u001b[0m\u001b[1;33m=\u001b[0m\u001b[1;34m\"\"\u001b[0m\u001b[1;33m)\u001b[0m\u001b[1;33m\u001b[0m\u001b[1;33m\u001b[0m\u001b[0m\n\u001b[0m\u001b[0;32m    425\u001b[0m         \u001b[1;32melif\u001b[0m \u001b[0mis_text\u001b[0m\u001b[1;33m:\u001b[0m\u001b[1;33m\u001b[0m\u001b[1;33m\u001b[0m\u001b[0m\n\u001b[0;32m    426\u001b[0m             \u001b[1;31m# Python 3 and no explicit encoding\u001b[0m\u001b[1;33m\u001b[0m\u001b[1;33m\u001b[0m\u001b[1;33m\u001b[0m\u001b[0m\n",
      "\u001b[1;31mFileNotFoundError\u001b[0m: [Errno 2] No such file or directory: 'dataset/class_moons.csv'"
     ]
    }
   ],
   "source": [
    "df.to_csv(\"dataset/class_moons.csv\")"
   ]
  },
  {
   "cell_type": "markdown",
   "metadata": {},
   "source": [
    "## 2.3 make_circles"
   ]
  },
  {
   "cell_type": "code",
   "execution_count": null,
   "metadata": {},
   "outputs": [],
   "source": [
    "from sklearn.datasets import make_circles"
   ]
  },
  {
   "cell_type": "code",
   "execution_count": null,
   "metadata": {},
   "outputs": [],
   "source": [
    "X, y = make_circles(n_samples=500, noise=0.05)"
   ]
  },
  {
   "cell_type": "code",
   "execution_count": null,
   "metadata": {},
   "outputs": [],
   "source": [
    "# scatter plot, dots colored by class value\n",
    "df = pd.DataFrame(dict(x=X[:,0], y=X[:,1], label=y))\n",
    "df.head()"
   ]
  },
  {
   "cell_type": "code",
   "execution_count": null,
   "metadata": {},
   "outputs": [],
   "source": [
    "# group dataset by label\n",
    "grouped = df.groupby('label')\n",
    "\n",
    "# plot classification dataset\n",
    "colors = {0:'red', 1:'blue'}\n",
    "fig, ax = plt.subplots()\n",
    "for key, group in grouped:\n",
    "    group.plot(ax=ax, kind='scatter', x='x', y='y', label=key, color=colors[key], figsize=(10,8))\n",
    "plt.show()"
   ]
  },
  {
   "cell_type": "code",
   "execution_count": null,
   "metadata": {},
   "outputs": [],
   "source": [
    "df.to_csv(\"dataset/class_circles.csv\")"
   ]
  }
 ],
 "metadata": {
  "kernelspec": {
   "display_name": "Python 3",
   "language": "python",
   "name": "python3"
  },
  "language_info": {
   "codemirror_mode": {
    "name": "ipython",
    "version": 3
   },
   "file_extension": ".py",
   "mimetype": "text/x-python",
   "name": "python",
   "nbconvert_exporter": "python",
   "pygments_lexer": "ipython3",
   "version": "3.7.3"
  }
 },
 "nbformat": 4,
 "nbformat_minor": 4
}
