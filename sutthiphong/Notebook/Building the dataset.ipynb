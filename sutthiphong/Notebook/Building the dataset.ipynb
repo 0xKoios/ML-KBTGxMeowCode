{
 "cells": [
  {
   "cell_type": "code",
   "execution_count": 3,
   "metadata": {},
   "outputs": [],
   "source": [
    "import pandas as pd\n",
    "import matplotlib.pyplot as plt"
   ]
  },
  {
   "cell_type": "markdown",
   "metadata": {},
   "source": [
    "# Building the dataset\n",
    "\n",
    "- generate regression dataset\n",
    "- generate classification dataset"
   ]
  },
  {
   "cell_type": "markdown",
   "metadata": {},
   "source": [
    "## 1. Regression Dataset"
   ]
  },
  {
   "cell_type": "code",
   "execution_count": 12,
   "metadata": {
    "scrolled": true
   },
   "outputs": [],
   "source": [
    "from sklearn.datasets import make_regression"
   ]
  },
  {
   "cell_type": "code",
   "execution_count": 14,
   "metadata": {},
   "outputs": [],
   "source": [
    "# generate regression dataset\n",
    "X, y = make_regression(n_samples=1000, n_features=1, noise=100, shuffle=True, random_state=27)"
   ]
  },
  {
   "cell_type": "code",
   "execution_count": 15,
   "metadata": {},
   "outputs": [],
   "source": [
    "df = pd.DataFrame(X, index=range(len(X)), columns=[\"X\"])\n",
    "df[\"Y\"] = y"
   ]
  },
  {
   "cell_type": "code",
   "execution_count": 44,
   "metadata": {
    "scrolled": true
   },
   "outputs": [
    {
     "data": {
      "text/html": [
       "<div>\n",
       "<style scoped>\n",
       "    .dataframe tbody tr th:only-of-type {\n",
       "        vertical-align: middle;\n",
       "    }\n",
       "\n",
       "    .dataframe tbody tr th {\n",
       "        vertical-align: top;\n",
       "    }\n",
       "\n",
       "    .dataframe thead th {\n",
       "        text-align: right;\n",
       "    }\n",
       "</style>\n",
       "<table border=\"1\" class=\"dataframe\">\n",
       "  <thead>\n",
       "    <tr style=\"text-align: right;\">\n",
       "      <th></th>\n",
       "      <th>x</th>\n",
       "      <th>y</th>\n",
       "      <th>label</th>\n",
       "    </tr>\n",
       "  </thead>\n",
       "  <tbody>\n",
       "    <tr>\n",
       "      <th>0</th>\n",
       "      <td>0.773011</td>\n",
       "      <td>-0.515202</td>\n",
       "      <td>1</td>\n",
       "    </tr>\n",
       "    <tr>\n",
       "      <th>1</th>\n",
       "      <td>0.522228</td>\n",
       "      <td>-0.172448</td>\n",
       "      <td>1</td>\n",
       "    </tr>\n",
       "    <tr>\n",
       "      <th>2</th>\n",
       "      <td>0.897725</td>\n",
       "      <td>0.392895</td>\n",
       "      <td>0</td>\n",
       "    </tr>\n",
       "    <tr>\n",
       "      <th>3</th>\n",
       "      <td>0.077146</td>\n",
       "      <td>0.347671</td>\n",
       "      <td>1</td>\n",
       "    </tr>\n",
       "    <tr>\n",
       "      <th>4</th>\n",
       "      <td>1.030563</td>\n",
       "      <td>-0.523124</td>\n",
       "      <td>1</td>\n",
       "    </tr>\n",
       "  </tbody>\n",
       "</table>\n",
       "</div>"
      ],
      "text/plain": [
       "          x         y  label\n",
       "0  0.773011 -0.515202      1\n",
       "1  0.522228 -0.172448      1\n",
       "2  0.897725  0.392895      0\n",
       "3  0.077146  0.347671      1\n",
       "4  1.030563 -0.523124      1"
      ]
     },
     "execution_count": 44,
     "metadata": {},
     "output_type": "execute_result"
    }
   ],
   "source": [
    "df.head()"
   ]
  },
  {
   "cell_type": "code",
   "execution_count": 45,
   "metadata": {},
   "outputs": [],
   "source": [
    "df.to_csv(\"dataset/reg_uni.csv\")"
   ]
  },
  {
   "cell_type": "code",
   "execution_count": 46,
   "metadata": {},
   "outputs": [
    {
     "ename": "ValueError",
     "evalue": "x and y must be the same size",
     "output_type": "error",
     "traceback": [
      "\u001b[1;31m---------------------------------------------------------------------------\u001b[0m",
      "\u001b[1;31mValueError\u001b[0m                                Traceback (most recent call last)",
      "\u001b[1;32m<ipython-input-46-dc9d845251df>\u001b[0m in \u001b[0;36m<module>\u001b[1;34m\u001b[0m\n\u001b[0;32m      1\u001b[0m \u001b[1;31m# plot regression dataset\u001b[0m\u001b[1;33m\u001b[0m\u001b[1;33m\u001b[0m\u001b[1;33m\u001b[0m\u001b[0m\n\u001b[0;32m      2\u001b[0m \u001b[0mplt\u001b[0m\u001b[1;33m.\u001b[0m\u001b[0mfigure\u001b[0m\u001b[1;33m(\u001b[0m\u001b[0mfigsize\u001b[0m\u001b[1;33m=\u001b[0m\u001b[1;33m(\u001b[0m\u001b[1;36m10\u001b[0m\u001b[1;33m,\u001b[0m\u001b[1;36m10\u001b[0m\u001b[1;33m)\u001b[0m\u001b[1;33m)\u001b[0m\u001b[1;33m\u001b[0m\u001b[1;33m\u001b[0m\u001b[0m\n\u001b[1;32m----> 3\u001b[1;33m \u001b[0mplt\u001b[0m\u001b[1;33m.\u001b[0m\u001b[0mscatter\u001b[0m\u001b[1;33m(\u001b[0m\u001b[0mX\u001b[0m\u001b[1;33m,\u001b[0m\u001b[0my\u001b[0m\u001b[1;33m)\u001b[0m\u001b[1;33m\u001b[0m\u001b[1;33m\u001b[0m\u001b[0m\n\u001b[0m\u001b[0;32m      4\u001b[0m \u001b[0mplt\u001b[0m\u001b[1;33m.\u001b[0m\u001b[0mshow\u001b[0m\u001b[1;33m(\u001b[0m\u001b[1;33m)\u001b[0m\u001b[1;33m\u001b[0m\u001b[1;33m\u001b[0m\u001b[0m\n",
      "\u001b[1;32m~\\Anaconda3\\lib\\site-packages\\matplotlib\\pyplot.py\u001b[0m in \u001b[0;36mscatter\u001b[1;34m(x, y, s, c, marker, cmap, norm, vmin, vmax, alpha, linewidths, verts, edgecolors, data, **kwargs)\u001b[0m\n\u001b[0;32m   2860\u001b[0m         \u001b[0mvmin\u001b[0m\u001b[1;33m=\u001b[0m\u001b[0mvmin\u001b[0m\u001b[1;33m,\u001b[0m \u001b[0mvmax\u001b[0m\u001b[1;33m=\u001b[0m\u001b[0mvmax\u001b[0m\u001b[1;33m,\u001b[0m \u001b[0malpha\u001b[0m\u001b[1;33m=\u001b[0m\u001b[0malpha\u001b[0m\u001b[1;33m,\u001b[0m \u001b[0mlinewidths\u001b[0m\u001b[1;33m=\u001b[0m\u001b[0mlinewidths\u001b[0m\u001b[1;33m,\u001b[0m\u001b[1;33m\u001b[0m\u001b[1;33m\u001b[0m\u001b[0m\n\u001b[0;32m   2861\u001b[0m         verts=verts, edgecolors=edgecolors, **({\"data\": data} if data\n\u001b[1;32m-> 2862\u001b[1;33m         is not None else {}), **kwargs)\n\u001b[0m\u001b[0;32m   2863\u001b[0m     \u001b[0msci\u001b[0m\u001b[1;33m(\u001b[0m\u001b[0m__ret\u001b[0m\u001b[1;33m)\u001b[0m\u001b[1;33m\u001b[0m\u001b[1;33m\u001b[0m\u001b[0m\n\u001b[0;32m   2864\u001b[0m     \u001b[1;32mreturn\u001b[0m \u001b[0m__ret\u001b[0m\u001b[1;33m\u001b[0m\u001b[1;33m\u001b[0m\u001b[0m\n",
      "\u001b[1;32m~\\Anaconda3\\lib\\site-packages\\matplotlib\\__init__.py\u001b[0m in \u001b[0;36minner\u001b[1;34m(ax, data, *args, **kwargs)\u001b[0m\n\u001b[0;32m   1808\u001b[0m                         \u001b[1;34m\"the Matplotlib list!)\"\u001b[0m \u001b[1;33m%\u001b[0m \u001b[1;33m(\u001b[0m\u001b[0mlabel_namer\u001b[0m\u001b[1;33m,\u001b[0m \u001b[0mfunc\u001b[0m\u001b[1;33m.\u001b[0m\u001b[0m__name__\u001b[0m\u001b[1;33m)\u001b[0m\u001b[1;33m,\u001b[0m\u001b[1;33m\u001b[0m\u001b[1;33m\u001b[0m\u001b[0m\n\u001b[0;32m   1809\u001b[0m                         RuntimeWarning, stacklevel=2)\n\u001b[1;32m-> 1810\u001b[1;33m             \u001b[1;32mreturn\u001b[0m \u001b[0mfunc\u001b[0m\u001b[1;33m(\u001b[0m\u001b[0max\u001b[0m\u001b[1;33m,\u001b[0m \u001b[1;33m*\u001b[0m\u001b[0margs\u001b[0m\u001b[1;33m,\u001b[0m \u001b[1;33m**\u001b[0m\u001b[0mkwargs\u001b[0m\u001b[1;33m)\u001b[0m\u001b[1;33m\u001b[0m\u001b[1;33m\u001b[0m\u001b[0m\n\u001b[0m\u001b[0;32m   1811\u001b[0m \u001b[1;33m\u001b[0m\u001b[0m\n\u001b[0;32m   1812\u001b[0m         inner.__doc__ = _add_data_doc(inner.__doc__,\n",
      "\u001b[1;32m~\\Anaconda3\\lib\\site-packages\\matplotlib\\axes\\_axes.py\u001b[0m in \u001b[0;36mscatter\u001b[1;34m(self, x, y, s, c, marker, cmap, norm, vmin, vmax, alpha, linewidths, verts, edgecolors, **kwargs)\u001b[0m\n\u001b[0;32m   4180\u001b[0m         \u001b[0my\u001b[0m \u001b[1;33m=\u001b[0m \u001b[0mnp\u001b[0m\u001b[1;33m.\u001b[0m\u001b[0mma\u001b[0m\u001b[1;33m.\u001b[0m\u001b[0mravel\u001b[0m\u001b[1;33m(\u001b[0m\u001b[0my\u001b[0m\u001b[1;33m)\u001b[0m\u001b[1;33m\u001b[0m\u001b[1;33m\u001b[0m\u001b[0m\n\u001b[0;32m   4181\u001b[0m         \u001b[1;32mif\u001b[0m \u001b[0mx\u001b[0m\u001b[1;33m.\u001b[0m\u001b[0msize\u001b[0m \u001b[1;33m!=\u001b[0m \u001b[0my\u001b[0m\u001b[1;33m.\u001b[0m\u001b[0msize\u001b[0m\u001b[1;33m:\u001b[0m\u001b[1;33m\u001b[0m\u001b[1;33m\u001b[0m\u001b[0m\n\u001b[1;32m-> 4182\u001b[1;33m             \u001b[1;32mraise\u001b[0m \u001b[0mValueError\u001b[0m\u001b[1;33m(\u001b[0m\u001b[1;34m\"x and y must be the same size\"\u001b[0m\u001b[1;33m)\u001b[0m\u001b[1;33m\u001b[0m\u001b[1;33m\u001b[0m\u001b[0m\n\u001b[0m\u001b[0;32m   4183\u001b[0m \u001b[1;33m\u001b[0m\u001b[0m\n\u001b[0;32m   4184\u001b[0m         \u001b[1;32mif\u001b[0m \u001b[0ms\u001b[0m \u001b[1;32mis\u001b[0m \u001b[1;32mNone\u001b[0m\u001b[1;33m:\u001b[0m\u001b[1;33m\u001b[0m\u001b[1;33m\u001b[0m\u001b[0m\n",
      "\u001b[1;31mValueError\u001b[0m: x and y must be the same size"
     ]
    },
    {
     "data": {
      "image/png": "[encoded data removed]",
      "text/plain": [
       "<Figure size 720x720 with 1 Axes>"
      ]
     },
     "metadata": {
      "needs_background": "light"
     },
     "output_type": "display_data"
    }
   ],
   "source": [
    "# plot regression dataset\n",
    "plt.figure(figsize=(10,10))\n",
    "plt.scatter(X,y)\n",
    "plt.show()"
   ]
  },
  {
   "cell_type": "code",
   "execution_count": null,
   "metadata": {},
   "outputs": [],
   "source": []
  },
  {
   "cell_type": "code",
   "execution_count": null,
   "metadata": {},
   "outputs": [],
   "source": [
    "# generate regression dataset\n",
    "X, y = make_regression(n_samples=50, n_features=3, noise=0.1, shuffle=True, random_state=27)"
   ]
  },
  {
   "cell_type": "code",
   "execution_count": 47,
   "metadata": {},
   "outputs": [
    {
     "data": {
      "text/plain": [
       "(500, 2)"
      ]
     },
     "execution_count": 47,
     "metadata": {},
     "output_type": "execute_result"
    }
   ],
   "source": [
    "X.shape"
   ]
  },
  {
   "cell_type": "code",
   "execution_count": 48,
   "metadata": {},
   "outputs": [
    {
     "ename": "IndexError",
     "evalue": "index 2 is out of bounds for axis 1 with size 2",
     "output_type": "error",
     "traceback": [
      "\u001b[1;31m---------------------------------------------------------------------------\u001b[0m",
      "\u001b[1;31mIndexError\u001b[0m                                Traceback (most recent call last)",
      "\u001b[1;32m<ipython-input-48-186ccb6078c3>\u001b[0m in \u001b[0;36m<module>\u001b[1;34m\u001b[0m\n\u001b[1;32m----> 1\u001b[1;33m \u001b[0mdf\u001b[0m \u001b[1;33m=\u001b[0m \u001b[0mpd\u001b[0m\u001b[1;33m.\u001b[0m\u001b[0mDataFrame\u001b[0m\u001b[1;33m(\u001b[0m\u001b[0mdict\u001b[0m\u001b[1;33m(\u001b[0m\u001b[0mX1\u001b[0m\u001b[1;33m=\u001b[0m\u001b[0mX\u001b[0m\u001b[1;33m[\u001b[0m\u001b[1;33m:\u001b[0m\u001b[1;33m,\u001b[0m\u001b[1;36m0\u001b[0m\u001b[1;33m]\u001b[0m\u001b[1;33m,\u001b[0m \u001b[0mX2\u001b[0m\u001b[1;33m=\u001b[0m\u001b[0mX\u001b[0m\u001b[1;33m[\u001b[0m\u001b[1;33m:\u001b[0m\u001b[1;33m,\u001b[0m \u001b[1;36m1\u001b[0m\u001b[1;33m]\u001b[0m\u001b[1;33m,\u001b[0m \u001b[0mX3\u001b[0m\u001b[1;33m=\u001b[0m\u001b[0mX\u001b[0m\u001b[1;33m[\u001b[0m\u001b[1;33m:\u001b[0m\u001b[1;33m,\u001b[0m\u001b[1;36m2\u001b[0m\u001b[1;33m]\u001b[0m\u001b[1;33m,\u001b[0m \u001b[0mY\u001b[0m\u001b[1;33m=\u001b[0m\u001b[0my\u001b[0m\u001b[1;33m)\u001b[0m\u001b[1;33m)\u001b[0m\u001b[1;33m\u001b[0m\u001b[1;33m\u001b[0m\u001b[0m\n\u001b[0m\u001b[0;32m      2\u001b[0m \u001b[0mdf\u001b[0m\u001b[1;33m.\u001b[0m\u001b[0mhead\u001b[0m\u001b[1;33m(\u001b[0m\u001b[1;33m)\u001b[0m\u001b[1;33m\u001b[0m\u001b[1;33m\u001b[0m\u001b[0m\n",
      "\u001b[1;31mIndexError\u001b[0m: index 2 is out of bounds for axis 1 with size 2"
     ]
    }
   ],
   "source": [
    "df = pd.DataFrame(dict(X1=X[:,0], X2=X[:, 1], X3=X[:,2], Y=y))\n",
    "df.head()"
   ]
  },
  {
   "cell_type": "code",
   "execution_count": 49,
   "metadata": {},
   "outputs": [
    {
     "ename": "KeyError",
     "evalue": "'X1'",
     "output_type": "error",
     "traceback": [
      "\u001b[1;31m---------------------------------------------------------------------------\u001b[0m",
      "\u001b[1;31mKeyError\u001b[0m                                  Traceback (most recent call last)",
      "\u001b[1;32m~\\Anaconda3\\lib\\site-packages\\pandas\\core\\indexes\\base.py\u001b[0m in \u001b[0;36mget_loc\u001b[1;34m(self, key, method, tolerance)\u001b[0m\n\u001b[0;32m   2656\u001b[0m             \u001b[1;32mtry\u001b[0m\u001b[1;33m:\u001b[0m\u001b[1;33m\u001b[0m\u001b[1;33m\u001b[0m\u001b[0m\n\u001b[1;32m-> 2657\u001b[1;33m                 \u001b[1;32mreturn\u001b[0m \u001b[0mself\u001b[0m\u001b[1;33m.\u001b[0m\u001b[0m_engine\u001b[0m\u001b[1;33m.\u001b[0m\u001b[0mget_loc\u001b[0m\u001b[1;33m(\u001b[0m\u001b[0mkey\u001b[0m\u001b[1;33m)\u001b[0m\u001b[1;33m\u001b[0m\u001b[1;33m\u001b[0m\u001b[0m\n\u001b[0m\u001b[0;32m   2658\u001b[0m             \u001b[1;32mexcept\u001b[0m \u001b[0mKeyError\u001b[0m\u001b[1;33m:\u001b[0m\u001b[1;33m\u001b[0m\u001b[1;33m\u001b[0m\u001b[0m\n",
      "\u001b[1;32mpandas/_libs/index.pyx\u001b[0m in \u001b[0;36mpandas._libs.index.IndexEngine.get_loc\u001b[1;34m()\u001b[0m\n",
      "\u001b[1;32mpandas/_libs/index.pyx\u001b[0m in \u001b[0;36mpandas._libs.index.IndexEngine.get_loc\u001b[1;34m()\u001b[0m\n",
      "\u001b[1;32mpandas/_libs/hashtable_class_helper.pxi\u001b[0m in \u001b[0;36mpandas._libs.hashtable.PyObjectHashTable.get_item\u001b[1;34m()\u001b[0m\n",
      "\u001b[1;32mpandas/_libs/hashtable_class_helper.pxi\u001b[0m in \u001b[0;36mpandas._libs.hashtable.PyObjectHashTable.get_item\u001b[1;34m()\u001b[0m\n",
      "\u001b[1;31mKeyError\u001b[0m: 'X1'",
      "\nDuring handling of the above exception, another exception occurred:\n",
      "\u001b[1;31mKeyError\u001b[0m                                  Traceback (most recent call last)",
      "\u001b[1;32m<ipython-input-49-e802e7a21d36>\u001b[0m in \u001b[0;36m<module>\u001b[1;34m\u001b[0m\n\u001b[0;32m      1\u001b[0m \u001b[1;31m# plot regression dataset\u001b[0m\u001b[1;33m\u001b[0m\u001b[1;33m\u001b[0m\u001b[1;33m\u001b[0m\u001b[0m\n\u001b[0;32m      2\u001b[0m \u001b[0mplt\u001b[0m\u001b[1;33m.\u001b[0m\u001b[0mfigure\u001b[0m\u001b[1;33m(\u001b[0m\u001b[0mfigsize\u001b[0m\u001b[1;33m=\u001b[0m\u001b[1;33m(\u001b[0m\u001b[1;36m10\u001b[0m\u001b[1;33m,\u001b[0m\u001b[1;36m10\u001b[0m\u001b[1;33m)\u001b[0m\u001b[1;33m)\u001b[0m\u001b[1;33m\u001b[0m\u001b[1;33m\u001b[0m\u001b[0m\n\u001b[1;32m----> 3\u001b[1;33m \u001b[0mplt\u001b[0m\u001b[1;33m.\u001b[0m\u001b[0mscatter\u001b[0m\u001b[1;33m(\u001b[0m\u001b[0mdf\u001b[0m\u001b[1;33m[\u001b[0m\u001b[1;34m\"X1\"\u001b[0m\u001b[1;33m]\u001b[0m\u001b[1;33m,\u001b[0m \u001b[0mdf\u001b[0m\u001b[1;33m[\u001b[0m\u001b[1;34m\"Y\"\u001b[0m\u001b[1;33m]\u001b[0m\u001b[1;33m,\u001b[0m \u001b[0mcolor\u001b[0m\u001b[1;33m=\u001b[0m\u001b[1;34m\"r\"\u001b[0m\u001b[1;33m)\u001b[0m\u001b[1;33m\u001b[0m\u001b[1;33m\u001b[0m\u001b[0m\n\u001b[0m\u001b[0;32m      4\u001b[0m \u001b[0mplt\u001b[0m\u001b[1;33m.\u001b[0m\u001b[0mscatter\u001b[0m\u001b[1;33m(\u001b[0m\u001b[0mdf\u001b[0m\u001b[1;33m[\u001b[0m\u001b[1;34m\"X2\"\u001b[0m\u001b[1;33m]\u001b[0m\u001b[1;33m,\u001b[0m \u001b[0mdf\u001b[0m\u001b[1;33m[\u001b[0m\u001b[1;34m\"Y\"\u001b[0m\u001b[1;33m]\u001b[0m\u001b[1;33m,\u001b[0m \u001b[0mcolor\u001b[0m\u001b[1;33m=\u001b[0m\u001b[1;34m\"g\"\u001b[0m\u001b[1;33m)\u001b[0m\u001b[1;33m\u001b[0m\u001b[1;33m\u001b[0m\u001b[0m\n\u001b[0;32m      5\u001b[0m \u001b[0mplt\u001b[0m\u001b[1;33m.\u001b[0m\u001b[0mscatter\u001b[0m\u001b[1;33m(\u001b[0m\u001b[0mdf\u001b[0m\u001b[1;33m[\u001b[0m\u001b[1;34m\"X3\"\u001b[0m\u001b[1;33m]\u001b[0m\u001b[1;33m,\u001b[0m \u001b[0mdf\u001b[0m\u001b[1;33m[\u001b[0m\u001b[1;34m\"Y\"\u001b[0m\u001b[1;33m]\u001b[0m\u001b[1;33m,\u001b[0m \u001b[0mcolor\u001b[0m\u001b[1;33m=\u001b[0m\u001b[1;34m\"b\"\u001b[0m\u001b[1;33m)\u001b[0m\u001b[1;33m\u001b[0m\u001b[1;33m\u001b[0m\u001b[0m\n",
      "\u001b[1;32m~\\Anaconda3\\lib\\site-packages\\pandas\\core\\frame.py\u001b[0m in \u001b[0;36m__getitem__\u001b[1;34m(self, key)\u001b[0m\n\u001b[0;32m   2925\u001b[0m             \u001b[1;32mif\u001b[0m \u001b[0mself\u001b[0m\u001b[1;33m.\u001b[0m\u001b[0mcolumns\u001b[0m\u001b[1;33m.\u001b[0m\u001b[0mnlevels\u001b[0m \u001b[1;33m>\u001b[0m \u001b[1;36m1\u001b[0m\u001b[1;33m:\u001b[0m\u001b[1;33m\u001b[0m\u001b[1;33m\u001b[0m\u001b[0m\n\u001b[0;32m   2926\u001b[0m                 \u001b[1;32mreturn\u001b[0m \u001b[0mself\u001b[0m\u001b[1;33m.\u001b[0m\u001b[0m_getitem_multilevel\u001b[0m\u001b[1;33m(\u001b[0m\u001b[0mkey\u001b[0m\u001b[1;33m)\u001b[0m\u001b[1;33m\u001b[0m\u001b[1;33m\u001b[0m\u001b[0m\n\u001b[1;32m-> 2927\u001b[1;33m             \u001b[0mindexer\u001b[0m \u001b[1;33m=\u001b[0m \u001b[0mself\u001b[0m\u001b[1;33m.\u001b[0m\u001b[0mcolumns\u001b[0m\u001b[1;33m.\u001b[0m\u001b[0mget_loc\u001b[0m\u001b[1;33m(\u001b[0m\u001b[0mkey\u001b[0m\u001b[1;33m)\u001b[0m\u001b[1;33m\u001b[0m\u001b[1;33m\u001b[0m\u001b[0m\n\u001b[0m\u001b[0;32m   2928\u001b[0m             \u001b[1;32mif\u001b[0m \u001b[0mis_integer\u001b[0m\u001b[1;33m(\u001b[0m\u001b[0mindexer\u001b[0m\u001b[1;33m)\u001b[0m\u001b[1;33m:\u001b[0m\u001b[1;33m\u001b[0m\u001b[1;33m\u001b[0m\u001b[0m\n\u001b[0;32m   2929\u001b[0m                 \u001b[0mindexer\u001b[0m \u001b[1;33m=\u001b[0m \u001b[1;33m[\u001b[0m\u001b[0mindexer\u001b[0m\u001b[1;33m]\u001b[0m\u001b[1;33m\u001b[0m\u001b[1;33m\u001b[0m\u001b[0m\n",
      "\u001b[1;32m~\\Anaconda3\\lib\\site-packages\\pandas\\core\\indexes\\base.py\u001b[0m in \u001b[0;36mget_loc\u001b[1;34m(self, key, method, tolerance)\u001b[0m\n\u001b[0;32m   2657\u001b[0m                 \u001b[1;32mreturn\u001b[0m \u001b[0mself\u001b[0m\u001b[1;33m.\u001b[0m\u001b[0m_engine\u001b[0m\u001b[1;33m.\u001b[0m\u001b[0mget_loc\u001b[0m\u001b[1;33m(\u001b[0m\u001b[0mkey\u001b[0m\u001b[1;33m)\u001b[0m\u001b[1;33m\u001b[0m\u001b[1;33m\u001b[0m\u001b[0m\n\u001b[0;32m   2658\u001b[0m             \u001b[1;32mexcept\u001b[0m \u001b[0mKeyError\u001b[0m\u001b[1;33m:\u001b[0m\u001b[1;33m\u001b[0m\u001b[1;33m\u001b[0m\u001b[0m\n\u001b[1;32m-> 2659\u001b[1;33m                 \u001b[1;32mreturn\u001b[0m \u001b[0mself\u001b[0m\u001b[1;33m.\u001b[0m\u001b[0m_engine\u001b[0m\u001b[1;33m.\u001b[0m\u001b[0mget_loc\u001b[0m\u001b[1;33m(\u001b[0m\u001b[0mself\u001b[0m\u001b[1;33m.\u001b[0m\u001b[0m_maybe_cast_indexer\u001b[0m\u001b[1;33m(\u001b[0m\u001b[0mkey\u001b[0m\u001b[1;33m)\u001b[0m\u001b[1;33m)\u001b[0m\u001b[1;33m\u001b[0m\u001b[1;33m\u001b[0m\u001b[0m\n\u001b[0m\u001b[0;32m   2660\u001b[0m         \u001b[0mindexer\u001b[0m \u001b[1;33m=\u001b[0m \u001b[0mself\u001b[0m\u001b[1;33m.\u001b[0m\u001b[0mget_indexer\u001b[0m\u001b[1;33m(\u001b[0m\u001b[1;33m[\u001b[0m\u001b[0mkey\u001b[0m\u001b[1;33m]\u001b[0m\u001b[1;33m,\u001b[0m \u001b[0mmethod\u001b[0m\u001b[1;33m=\u001b[0m\u001b[0mmethod\u001b[0m\u001b[1;33m,\u001b[0m \u001b[0mtolerance\u001b[0m\u001b[1;33m=\u001b[0m\u001b[0mtolerance\u001b[0m\u001b[1;33m)\u001b[0m\u001b[1;33m\u001b[0m\u001b[1;33m\u001b[0m\u001b[0m\n\u001b[0;32m   2661\u001b[0m         \u001b[1;32mif\u001b[0m \u001b[0mindexer\u001b[0m\u001b[1;33m.\u001b[0m\u001b[0mndim\u001b[0m \u001b[1;33m>\u001b[0m \u001b[1;36m1\u001b[0m \u001b[1;32mor\u001b[0m \u001b[0mindexer\u001b[0m\u001b[1;33m.\u001b[0m\u001b[0msize\u001b[0m \u001b[1;33m>\u001b[0m \u001b[1;36m1\u001b[0m\u001b[1;33m:\u001b[0m\u001b[1;33m\u001b[0m\u001b[1;33m\u001b[0m\u001b[0m\n",
      "\u001b[1;32mpandas/_libs/index.pyx\u001b[0m in \u001b[0;36mpandas._libs.index.IndexEngine.get_loc\u001b[1;34m()\u001b[0m\n",
      "\u001b[1;32mpandas/_libs/index.pyx\u001b[0m in \u001b[0;36mpandas._libs.index.IndexEngine.get_loc\u001b[1;34m()\u001b[0m\n",
      "\u001b[1;32mpandas/_libs/hashtable_class_helper.pxi\u001b[0m in \u001b[0;36mpandas._libs.hashtable.PyObjectHashTable.get_item\u001b[1;34m()\u001b[0m\n",
      "\u001b[1;32mpandas/_libs/hashtable_class_helper.pxi\u001b[0m in \u001b[0;36mpandas._libs.hashtable.PyObjectHashTable.get_item\u001b[1;34m()\u001b[0m\n",
      "\u001b[1;31mKeyError\u001b[0m: 'X1'"
     ]
    },
    {
     "data": {
      "text/plain": [
       "<Figure size 720x720 with 0 Axes>"
      ]
     },
     "metadata": {},
     "output_type": "display_data"
    }
   ],
   "source": [
    "# plot regression dataset\n",
    "plt.figure(figsize=(10,10))\n",
    "plt.scatter(df[\"X1\"], df[\"Y\"], color=\"r\")\n",
    "plt.scatter(df[\"X2\"], df[\"Y\"], color=\"g\")\n",
    "plt.scatter(df[\"X3\"], df[\"Y\"], color=\"b\")\n",
    "plt.show()"
   ]
  },
  {
   "cell_type": "code",
   "execution_count": 50,
   "metadata": {},
   "outputs": [],
   "source": [
    "df.to_csv(\"dataset/reg_mult.csv\")"
   ]
  },
  {
   "cell_type": "markdown",
   "metadata": {},
   "source": [
    "## 2. Classification dataset"
   ]
  },
  {
   "cell_type": "markdown",
   "metadata": {},
   "source": [
    "## 2.1 make_blobs"
   ]
  },
  {
   "cell_type": "code",
   "execution_count": 51,
   "metadata": {},
   "outputs": [],
   "source": [
    "from sklearn.datasets import make_blobs"
   ]
  },
  {
   "cell_type": "code",
   "execution_count": 52,
   "metadata": {},
   "outputs": [],
   "source": [
    "X, y = make_blobs(n_samples=100, centers=3, n_features=2)"
   ]
  },
  {
   "cell_type": "code",
   "execution_count": 53,
   "metadata": {},
   "outputs": [
    {
     "data": {
      "text/html": [
       "<div>\n",
       "<style scoped>\n",
       "    .dataframe tbody tr th:only-of-type {\n",
       "        vertical-align: middle;\n",
       "    }\n",
       "\n",
       "    .dataframe tbody tr th {\n",
       "        vertical-align: top;\n",
       "    }\n",
       "\n",
       "    .dataframe thead th {\n",
       "        text-align: right;\n",
       "    }\n",
       "</style>\n",
       "<table border=\"1\" class=\"dataframe\">\n",
       "  <thead>\n",
       "    <tr style=\"text-align: right;\">\n",
       "      <th></th>\n",
       "      <th>x</th>\n",
       "      <th>y</th>\n",
       "      <th>label</th>\n",
       "    </tr>\n",
       "  </thead>\n",
       "  <tbody>\n",
       "    <tr>\n",
       "      <th>0</th>\n",
       "      <td>3.579359</td>\n",
       "      <td>3.821787</td>\n",
       "      <td>1</td>\n",
       "    </tr>\n",
       "    <tr>\n",
       "      <th>1</th>\n",
       "      <td>-4.591656</td>\n",
       "      <td>-3.197619</td>\n",
       "      <td>0</td>\n",
       "    </tr>\n",
       "    <tr>\n",
       "      <th>2</th>\n",
       "      <td>3.174333</td>\n",
       "      <td>0.413239</td>\n",
       "      <td>1</td>\n",
       "    </tr>\n",
       "    <tr>\n",
       "      <th>3</th>\n",
       "      <td>-6.151889</td>\n",
       "      <td>-2.666738</td>\n",
       "      <td>0</td>\n",
       "    </tr>\n",
       "    <tr>\n",
       "      <th>4</th>\n",
       "      <td>-4.003848</td>\n",
       "      <td>-2.472058</td>\n",
       "      <td>0</td>\n",
       "    </tr>\n",
       "  </tbody>\n",
       "</table>\n",
       "</div>"
      ],
      "text/plain": [
       "          x         y  label\n",
       "0  3.579359  3.821787      1\n",
       "1 -4.591656 -3.197619      0\n",
       "2  3.174333  0.413239      1\n",
       "3 -6.151889 -2.666738      0\n",
       "4 -4.003848 -2.472058      0"
      ]
     },
     "execution_count": 53,
     "metadata": {},
     "output_type": "execute_result"
    }
   ],
   "source": [
    "df = pd.DataFrame(dict(x=X[:,0], y=X[:,1], label=y))\n",
    "df.head()"
   ]
  },
  {
   "cell_type": "code",
   "execution_count": 54,
   "metadata": {},
   "outputs": [
    {
     "data": {
      "image/png": "[encoded data removed]",
      "text/plain": [
       "<Figure size 720x576 with 1 Axes>"
      ]
     },
     "metadata": {
      "needs_background": "light"
     },
     "output_type": "display_data"
    }
   ],
   "source": [
    "# group dataset by label\n",
    "grouped = df.groupby('label')\n",
    "\n",
    "# plot classification dataset\n",
    "colors = {0:'red', 1:'blue', 2:'green'}\n",
    "fig, ax = plt.subplots()\n",
    "for key, group in grouped:\n",
    "    group.plot(ax=ax, kind='scatter', x='x', y='y', label=key, color=colors[key], figsize=(10,8))\n",
    "plt.show()"
   ]
  },
  {
   "cell_type": "code",
   "execution_count": 55,
   "metadata": {},
   "outputs": [],
   "source": [
    "df.to_csv(\"dataset/class_blobs.csv\")"
   ]
  },
  {
   "cell_type": "markdown",
   "metadata": {},
   "source": [
    "## 2.2 make_moons"
   ]
  },
  {
   "cell_type": "code",
   "execution_count": 56,
   "metadata": {},
   "outputs": [],
   "source": [
    "from sklearn.datasets import make_moons"
   ]
  },
  {
   "cell_type": "code",
   "execution_count": 57,
   "metadata": {},
   "outputs": [],
   "source": [
    "X, y = make_moons(n_samples=500, noise=0.1)"
   ]
  },
  {
   "cell_type": "code",
   "execution_count": 58,
   "metadata": {},
   "outputs": [
    {
     "data": {
      "text/plain": [
       "array([[-6.10533932e-01,  7.86874524e-01],\n",
       "       [ 8.87981647e-01,  2.40499807e-01],\n",
       "       [-6.78231211e-01,  8.68369772e-01],\n",
       "       [ 1.14166603e+00,  5.08944955e-01],\n",
       "       [ 1.96623307e+00,  1.42764698e-01],\n",
       "       [-1.04541505e+00,  6.49512864e-01],\n",
       "       [ 8.68363218e-01,  7.80116728e-01],\n",
       "       [ 1.85583024e+00, -2.07971698e-01],\n",
       "       [ 1.14978292e+00, -2.69398598e-01],\n",
       "       [ 5.23135502e-02,  4.78481176e-01],\n",
       "       [-1.08642733e+00,  2.92036260e-01],\n",
       "       [ 6.71023514e-01, -4.39766594e-01],\n",
       "       [-6.65337354e-01,  8.08620978e-01],\n",
       "       [ 1.33859553e-01,  9.75821077e-01],\n",
       "       [ 3.50414952e-02,  1.09713868e+00],\n",
       "       [ 5.04302502e-01,  9.67396212e-01],\n",
       "       [ 2.04439382e+00,  6.47367436e-01],\n",
       "       [-2.20753707e-01,  1.05109574e+00],\n",
       "       [ 1.94588955e+00,  3.93624860e-01],\n",
       "       [ 1.11914572e+00,  1.62066429e-01],\n",
       "       [-9.89009436e-01,  2.47358169e-01],\n",
       "       [ 3.44256359e-01, -3.36506810e-01],\n",
       "       [ 1.04059388e+00,  3.61252702e-01],\n",
       "       [ 1.81759728e+00,  2.04724824e-01],\n",
       "       [ 5.20544290e-01, -2.07221390e-01],\n",
       "       [ 7.19776332e-01, -4.84755459e-01],\n",
       "       [ 2.67933815e-02,  1.05416327e+00],\n",
       "       [-9.30862205e-01,  3.72510909e-02],\n",
       "       [ 8.40946657e-01,  3.22923737e-01],\n",
       "       [-1.99479284e-02,  1.03068291e+00],\n",
       "       [ 1.98164532e+00,  4.25512161e-01],\n",
       "       [ 9.24233884e-01,  4.91047383e-01],\n",
       "       [ 1.87402405e+00, -3.03232263e-01],\n",
       "       [ 7.57706896e-01,  5.64115276e-01],\n",
       "       [-1.03446337e-01,  3.53798417e-01],\n",
       "       [-8.44241518e-01,  6.20599250e-01],\n",
       "       [ 1.64854436e-01, -2.24417048e-01],\n",
       "       [ 6.63171513e-01, -4.51995302e-01],\n",
       "       [ 3.87155443e-01,  1.01476276e+00],\n",
       "       [ 2.07335393e-01, -4.61754891e-02],\n",
       "       [ 2.09342948e+00,  3.01047636e-01],\n",
       "       [-7.89325972e-01,  6.18186235e-01],\n",
       "       [ 6.67320889e-01, -4.93877980e-01],\n",
       "       [-4.61237992e-01,  9.99409243e-01],\n",
       "       [-6.01837312e-01,  7.23972966e-01],\n",
       "       [-1.14186218e+00,  2.89429507e-02],\n",
       "       [-1.20851292e-01,  3.51805604e-01],\n",
       "       [-1.10579398e+00,  4.78042391e-01],\n",
       "       [-9.63789515e-01,  3.95066026e-01],\n",
       "       [ 2.07353256e+00,  1.38346186e-01],\n",
       "       [ 4.77509296e-01,  9.79192516e-01],\n",
       "       [ 7.72798409e-01, -4.93514006e-01],\n",
       "       [ 1.60103669e+00, -2.79380747e-01],\n",
       "       [ 6.42713684e-01,  9.08657645e-01],\n",
       "       [-5.20034072e-01,  8.29849580e-01],\n",
       "       [ 1.49828209e+00, -3.28642852e-01],\n",
       "       [ 4.90969791e-01, -4.13095939e-01],\n",
       "       [ 6.35932356e-01,  5.83012038e-01],\n",
       "       [ 9.04572073e-01, -4.88704705e-01],\n",
       "       [-6.89867325e-01,  7.10112333e-01],\n",
       "       [ 3.42076003e-01, -3.71459217e-01],\n",
       "       [-4.66786708e-01,  1.00301773e+00],\n",
       "       [ 4.97040491e-01,  7.66194321e-01],\n",
       "       [ 9.42250157e-01, -5.58840769e-01],\n",
       "       [ 1.02519650e-01,  1.23069995e+00],\n",
       "       [ 5.21593365e-01,  8.42149520e-01],\n",
       "       [ 1.12258142e+00, -5.53275252e-01],\n",
       "       [ 7.83343506e-01,  2.66614610e-01],\n",
       "       [ 1.50853046e+00, -4.64434467e-01],\n",
       "       [-9.11842758e-01, -2.20381952e-02],\n",
       "       [ 1.62603467e+00,  5.54663909e-02],\n",
       "       [ 7.27643744e-01,  7.99234363e-01],\n",
       "       [ 1.80756312e+00, -2.01902633e-01],\n",
       "       [-2.78749543e-01,  8.72590781e-01],\n",
       "       [ 1.30090761e-01,  3.28632315e-01],\n",
       "       [ 1.83438588e+00,  2.34930567e-01],\n",
       "       [ 4.13705251e-02,  3.06918237e-01],\n",
       "       [ 9.52048887e-01, -1.51498947e-02],\n",
       "       [ 1.38181146e+00, -6.54371474e-01],\n",
       "       [ 3.56251605e-01, -2.79768160e-01],\n",
       "       [ 8.57770591e-01, -4.04555358e-01],\n",
       "       [ 5.66314258e-01,  8.20383546e-01],\n",
       "       [ 9.08437227e-01,  6.52338584e-01],\n",
       "       [ 1.84464506e+00,  1.06965752e-01],\n",
       "       [ 8.29758813e-01, -3.92179732e-01],\n",
       "       [ 1.38358200e+00, -3.14023997e-01],\n",
       "       [ 9.20697768e-01,  3.23206047e-01],\n",
       "       [ 2.01599192e-01,  9.76737070e-01],\n",
       "       [-9.81359226e-01,  3.86484916e-01],\n",
       "       [ 6.45766417e-01, -5.15730573e-01],\n",
       "       [ 3.14719967e-01, -1.08827134e-01],\n",
       "       [ 6.34771467e-01,  7.03474958e-01],\n",
       "       [-1.88107918e-01,  3.42640157e-01],\n",
       "       [ 1.03965337e+00,  2.47321658e-01],\n",
       "       [ 5.80033874e-01,  8.33552562e-01],\n",
       "       [ 8.28026444e-01, -4.90953631e-01],\n",
       "       [ 5.07011375e-01, -4.39869062e-01],\n",
       "       [-9.71623984e-01,  4.91543012e-01],\n",
       "       [ 6.60996424e-01, -4.36214490e-01],\n",
       "       [ 2.72340237e-01,  1.02349272e+00],\n",
       "       [-8.01613280e-01,  6.52253011e-01],\n",
       "       [ 5.32881965e-01, -3.60101206e-01],\n",
       "       [ 2.68434567e-01, -9.13666183e-02],\n",
       "       [-2.19899200e-01,  1.06768745e+00],\n",
       "       [ 1.71897698e-01,  9.01676996e-01],\n",
       "       [-4.64084600e-03,  2.30711514e-01],\n",
       "       [ 2.36040199e-01, -5.05697987e-02],\n",
       "       [ 7.66888866e-01, -5.03898623e-01],\n",
       "       [ 6.38181082e-02,  8.38211259e-02],\n",
       "       [ 1.66715364e+00, -3.78100218e-01],\n",
       "       [ 8.88934468e-01,  2.93850981e-01],\n",
       "       [ 1.04542861e+00,  3.58904463e-01],\n",
       "       [ 1.78307210e+00, -3.36513897e-01],\n",
       "       [ 7.37081828e-01,  7.62030282e-01],\n",
       "       [ 8.23877664e-01,  4.85813062e-01],\n",
       "       [ 1.12545773e+00, -4.01004585e-01],\n",
       "       [-7.02575920e-02,  1.00668696e+00],\n",
       "       [ 1.52067466e+00, -6.23916962e-01],\n",
       "       [ 1.12446858e+00, -2.61704202e-01],\n",
       "       [ 1.66664887e-02,  3.34887255e-01],\n",
       "       [ 5.81456959e-02,  1.01027879e+00],\n",
       "       [ 2.04391380e+00,  3.25507159e-01],\n",
       "       [ 2.98117627e-01, -1.60706892e-01],\n",
       "       [ 5.09774735e-01, -2.84256451e-01],\n",
       "       [ 8.14164048e-01,  5.36710169e-01],\n",
       "       [ 1.81628256e-01,  2.10575738e-01],\n",
       "       [ 7.71476858e-01,  4.86491536e-01],\n",
       "       [-1.13749575e-01,  5.19660640e-01],\n",
       "       [-1.12322661e-02,  2.11618900e-01],\n",
       "       [ 1.02482181e-01,  2.31012952e-01],\n",
       "       [ 9.17043386e-01,  1.78917540e-01],\n",
       "       [ 7.81339917e-01,  6.50109500e-01],\n",
       "       [ 7.24957658e-01,  8.58350095e-01],\n",
       "       [-9.84809925e-01,  2.81155211e-01],\n",
       "       [ 1.99865357e-01,  1.10253272e+00],\n",
       "       [-8.98108068e-01,  6.94885083e-01],\n",
       "       [ 7.17460261e-01,  6.72762674e-01],\n",
       "       [-9.82659349e-01,  1.07510193e-01],\n",
       "       [ 8.90557852e-01,  3.37356972e-01],\n",
       "       [ 5.35546774e-01, -2.48595860e-01],\n",
       "       [ 1.55488486e-01,  3.41839209e-02],\n",
       "       [ 1.06775251e+00, -1.12962072e-01],\n",
       "       [ 8.09743412e-01,  7.43779041e-01],\n",
       "       [-1.52932010e-01,  1.08005967e+00],\n",
       "       [ 1.28490821e+00, -5.17373678e-01],\n",
       "       [ 2.07868573e+00,  3.44045729e-01],\n",
       "       [ 1.89594973e+00,  2.81198430e-01],\n",
       "       [ 2.47178744e-01, -1.14616232e-01],\n",
       "       [ 1.70667439e+00,  6.76301919e-02],\n",
       "       [ 2.14814052e+00,  5.69173154e-01],\n",
       "       [ 8.93505556e-01, -4.91006676e-01],\n",
       "       [ 6.16197883e-01,  8.73972819e-01],\n",
       "       [ 5.19404773e-01,  8.87392928e-01],\n",
       "       [-8.99936246e-02,  9.08509204e-01],\n",
       "       [-4.64848513e-01,  7.31920793e-01],\n",
       "       [ 1.36401094e-02,  2.40607068e-01],\n",
       "       [ 3.40751780e-01,  8.80461571e-01],\n",
       "       [ 1.08458584e+00, -1.36022076e-01],\n",
       "       [ 2.03930522e+00,  2.37816110e-01],\n",
       "       [ 1.70698355e+00, -3.19949136e-01],\n",
       "       [ 1.84991105e-01,  8.37708785e-01],\n",
       "       [-6.23710116e-01,  8.09279129e-01],\n",
       "       [ 1.42694305e-01,  1.58664470e-01],\n",
       "       [-5.05347033e-01,  8.77066725e-01],\n",
       "       [-7.04913669e-02,  2.89437206e-01],\n",
       "       [-3.28782795e-01,  1.10239983e+00],\n",
       "       [ 1.39267585e-01, -3.04726363e-01],\n",
       "       [-5.15880130e-01,  9.07942121e-01],\n",
       "       [-3.73267765e-01,  1.02141192e+00],\n",
       "       [ 1.88819566e+00,  3.72643532e-01],\n",
       "       [-1.98664603e-01,  9.39857145e-01],\n",
       "       [-5.77875475e-01,  9.13576594e-01],\n",
       "       [ 8.05682487e-03,  3.43802492e-01],\n",
       "       [ 2.24388961e-01, -2.15137108e-01],\n",
       "       [ 6.82021498e-01, -3.14806194e-01],\n",
       "       [-2.95464744e-01,  1.02225536e+00],\n",
       "       [ 9.64614600e-01, -5.19211082e-01],\n",
       "       [ 6.64965071e-01,  6.60279210e-01],\n",
       "       [ 1.52402708e+00, -3.55547954e-01],\n",
       "       [ 1.49626365e-01,  5.34646374e-01],\n",
       "       [-8.80046505e-01,  5.46330162e-01],\n",
       "       [ 8.93102214e-01, -5.61986208e-02],\n",
       "       [-6.33850712e-01,  5.72612373e-01],\n",
       "       [ 1.48260662e+00, -2.23155522e-01],\n",
       "       [ 9.64746261e-01,  2.77531948e-01],\n",
       "       [ 2.02780430e+00, -1.13991438e-01],\n",
       "       [-6.34027433e-02,  1.07297280e+00],\n",
       "       [ 6.18387013e-01,  7.41809352e-01],\n",
       "       [ 1.39396499e+00, -4.91873224e-01],\n",
       "       [ 3.23091497e-01,  1.04299775e+00],\n",
       "       [ 1.84658597e+00,  8.28696702e-02],\n",
       "       [ 9.57440441e-01, -5.53956606e-01],\n",
       "       [-7.96066102e-03,  2.53078431e-01],\n",
       "       [-8.77893229e-01,  4.63542311e-01],\n",
       "       [ 4.44960009e-01,  1.06202769e+00],\n",
       "       [ 1.82712524e+00,  2.12567508e-01],\n",
       "       [ 1.01189275e+00, -3.84366572e-01],\n",
       "       [ 6.83249349e-01, -4.82006437e-01],\n",
       "       [ 1.02783440e-01,  9.01545644e-01],\n",
       "       [ 4.61378544e-01, -3.30605682e-01],\n",
       "       [-1.75150262e-02,  1.49597953e-01],\n",
       "       [-1.01619535e+00,  1.67421388e-01],\n",
       "       [ 1.20621855e+00, -5.07228830e-01],\n",
       "       [ 1.37182911e+00, -4.21575286e-01],\n",
       "       [-8.77219001e-01,  3.13263599e-01],\n",
       "       [-5.58516315e-01,  9.21552358e-01],\n",
       "       [-8.37466960e-01,  3.49770107e-01],\n",
       "       [ 8.38481861e-01,  3.40662322e-01],\n",
       "       [ 1.39631619e+00, -4.14551999e-01],\n",
       "       [-5.10476714e-02, -2.92841545e-02],\n",
       "       [ 2.00532686e-01,  9.21361054e-01],\n",
       "       [ 6.99086586e-01,  6.25590037e-01],\n",
       "       [ 1.07414604e-01, -1.61716729e-01],\n",
       "       [ 2.49755338e-01,  9.66292259e-01],\n",
       "       [ 6.52429693e-01, -4.64802023e-01],\n",
       "       [ 9.36630025e-01,  4.96540767e-01],\n",
       "       [-2.04087297e-01,  1.01439744e+00],\n",
       "       [-7.78631270e-01,  3.00984213e-01],\n",
       "       [-4.38705187e-01,  9.03942840e-01],\n",
       "       [ 9.34402408e-01,  6.12137442e-01],\n",
       "       [ 1.52693611e+00, -5.96215474e-01],\n",
       "       [-8.07123057e-01,  2.58068769e-01],\n",
       "       [-7.26238523e-01,  6.47013283e-01],\n",
       "       [ 2.01380107e+00, -5.28982581e-02],\n",
       "       [-1.01509439e+00,  5.84829638e-01],\n",
       "       [-9.25635629e-01,  2.98627524e-01],\n",
       "       [ 1.79141453e+00, -4.07099701e-03],\n",
       "       [-1.22738697e-01,  8.49403770e-01],\n",
       "       [-9.10480608e-01,  3.31659132e-01],\n",
       "       [ 8.07827301e-02, -2.65792328e-02],\n",
       "       [ 1.01743830e+00, -4.30295561e-01],\n",
       "       [-1.58368064e-02,  9.05370716e-01],\n",
       "       [-1.58776753e-01,  8.80786184e-01],\n",
       "       [ 1.39126952e+00, -3.71922518e-01],\n",
       "       [ 1.88893299e+00, -2.73404430e-01],\n",
       "       [ 1.70873881e+00, -1.81823758e-01],\n",
       "       [-5.63047479e-01,  9.19295489e-01],\n",
       "       [-7.61812326e-01,  6.02751108e-01],\n",
       "       [ 1.90819514e+00,  6.53841666e-01],\n",
       "       [ 6.61295723e-01,  6.68930284e-01],\n",
       "       [-1.16561717e+00, -3.45617741e-02],\n",
       "       [ 6.75051377e-01, -2.45301110e-01],\n",
       "       [ 1.89867005e+00,  8.42152860e-02],\n",
       "       [ 1.70477629e+00, -1.23668313e-01],\n",
       "       [ 1.09779570e+00, -3.66250743e-01],\n",
       "       [-1.44425095e-02,  1.01563619e+00],\n",
       "       [ 3.78213768e-01, -2.14207555e-02],\n",
       "       [ 1.00758592e+00, -4.00690803e-01],\n",
       "       [ 9.15130053e-01,  6.38861307e-01],\n",
       "       [-2.30624400e-01,  1.01392421e+00],\n",
       "       [ 2.93365196e-02,  1.08786281e+00],\n",
       "       [-3.30687441e-01,  1.06453172e+00],\n",
       "       [ 1.02518019e+00,  4.14560659e-01],\n",
       "       [ 1.67091744e+00, -1.63244515e-01],\n",
       "       [ 1.30102413e-01,  8.27384512e-01],\n",
       "       [ 6.04204325e-01,  8.73744727e-01],\n",
       "       [ 9.80557307e-01, -5.31086658e-01],\n",
       "       [ 7.84790722e-01,  3.92185290e-01],\n",
       "       [ 8.60601825e-02,  1.16222042e+00],\n",
       "       [-5.39079346e-01,  8.13387655e-01],\n",
       "       [ 1.62340949e-01,  1.17389289e+00],\n",
       "       [ 8.70409702e-01,  1.82733392e-01],\n",
       "       [ 1.14131587e+00,  1.91323182e-01],\n",
       "       [-1.13959103e+00,  2.28680154e-02],\n",
       "       [ 1.86318714e+00,  3.68570631e-03],\n",
       "       [-9.79515508e-01,  2.85009218e-01],\n",
       "       [ 2.01173689e+00, -1.32996265e-02],\n",
       "       [-7.20053453e-01,  6.18125980e-01],\n",
       "       [ 1.87335789e+00,  6.87941679e-02],\n",
       "       [ 1.07820420e+00, -5.59323498e-01],\n",
       "       [-3.09384998e-03,  3.33381158e-01],\n",
       "       [ 6.15499694e-02,  1.00688457e+00],\n",
       "       [ 1.93322500e+00,  5.36161986e-01],\n",
       "       [ 3.29367404e-01, -2.42794738e-01],\n",
       "       [ 1.51503713e+00, -3.86375301e-01],\n",
       "       [ 1.89110001e+00,  3.18405181e-01],\n",
       "       [ 1.67832810e+00, -3.19899284e-02],\n",
       "       [ 1.96645004e+00, -1.09834970e-01],\n",
       "       [ 1.42469356e+00, -4.92030868e-01],\n",
       "       [-6.92193558e-01,  5.91168090e-01],\n",
       "       [ 5.67257405e-01, -2.56560179e-01],\n",
       "       [-5.10638821e-01,  8.39632692e-01],\n",
       "       [ 6.21634241e-01,  7.69759482e-01],\n",
       "       [ 1.97878908e+00,  3.76026313e-02],\n",
       "       [ 1.93226582e+00,  7.30375208e-03],\n",
       "       [ 1.11232700e-01,  6.55314774e-03],\n",
       "       [ 1.83500585e+00, -7.29324376e-02],\n",
       "       [-9.49884416e-01,  1.95851222e-01],\n",
       "       [ 1.79783791e+00,  1.84568529e-02],\n",
       "       [ 1.01643366e+00, -5.71121916e-01],\n",
       "       [ 3.11365265e-01, -9.37639355e-02],\n",
       "       [ 1.76513699e+00, -3.11366289e-01],\n",
       "       [ 8.89207980e-01,  6.63498341e-01],\n",
       "       [ 6.39453864e-01, -6.29873123e-01],\n",
       "       [ 8.48058590e-01,  5.47279897e-01],\n",
       "       [ 1.28338875e-01,  1.02420034e+00],\n",
       "       [-2.86771870e-01,  9.82328109e-01],\n",
       "       [-8.45543137e-01,  5.88774522e-02],\n",
       "       [-1.05553270e+00,  1.04936180e-01],\n",
       "       [ 4.56745646e-01,  6.61085093e-01],\n",
       "       [ 1.45748650e+00, -6.92263064e-01],\n",
       "       [ 1.51248281e+00, -5.16439056e-01],\n",
       "       [ 1.49510772e+00, -4.01430737e-01],\n",
       "       [-8.38416219e-01,  5.80485640e-01],\n",
       "       [ 1.49792940e-01, -1.10656146e-01],\n",
       "       [ 4.64331054e-01,  7.58078492e-01],\n",
       "       [ 7.41743918e-01, -3.90730733e-01],\n",
       "       [ 3.01379321e-01, -2.17947361e-01],\n",
       "       [-8.73367587e-01,  3.91517849e-01],\n",
       "       [ 7.40818749e-01, -4.11189630e-01],\n",
       "       [ 9.04363288e-01, -4.87206202e-01],\n",
       "       [-7.32887139e-01,  5.63535042e-01],\n",
       "       [-1.03861039e+00,  1.64250227e-01],\n",
       "       [ 3.53128611e-01, -2.68663544e-01],\n",
       "       [ 8.97927685e-01, -5.86546025e-01],\n",
       "       [-2.47126133e-01,  9.73655473e-01],\n",
       "       [ 5.99061282e-01,  8.93430210e-01],\n",
       "       [-3.53159397e-01,  7.44369394e-01],\n",
       "       [ 1.30319997e+00, -3.33914283e-01],\n",
       "       [ 1.90609579e+00,  2.77913422e-01],\n",
       "       [ 1.43555562e+00, -4.72967372e-01],\n",
       "       [ 8.99777903e-01,  3.73491025e-01],\n",
       "       [ 2.08273131e-01,  6.34550533e-02],\n",
       "       [-9.88381675e-01,  1.84008698e-01],\n",
       "       [ 3.25470198e-01, -3.01395336e-01],\n",
       "       [ 1.34794655e+00, -6.74329907e-01],\n",
       "       [ 2.33471646e-01,  1.11280053e+00],\n",
       "       [ 2.11094935e+00,  4.28286091e-01],\n",
       "       [ 1.11444912e+00, -1.20931690e-01],\n",
       "       [ 3.99995799e-01,  6.99383157e-01],\n",
       "       [ 1.31489675e+00, -4.27410688e-01],\n",
       "       [ 3.56968941e-01,  1.04414676e+00],\n",
       "       [-1.05011798e+00,  2.81840466e-01],\n",
       "       [ 8.83201454e-01, -5.96672372e-01],\n",
       "       [ 4.36957252e-01,  8.70692042e-01],\n",
       "       [ 1.21702058e+00, -6.61431115e-01],\n",
       "       [ 1.81209399e-01, -1.72344501e-01],\n",
       "       [ 7.40172552e-01, -4.61304481e-01],\n",
       "       [ 4.09847575e-01,  8.69844977e-01],\n",
       "       [-5.85219409e-01,  9.64414833e-01],\n",
       "       [ 1.17132566e-01, -6.95968349e-02],\n",
       "       [ 1.04123323e+00, -3.86460215e-01],\n",
       "       [ 5.34111745e-01, -5.24658552e-01],\n",
       "       [-7.99832317e-01,  6.85518407e-01],\n",
       "       [ 3.32254308e-02,  9.50911603e-01],\n",
       "       [ 1.99705666e+00,  2.13535084e-01],\n",
       "       [ 1.06446824e+00,  4.51810696e-02],\n",
       "       [ 7.06486457e-01,  7.13440651e-01],\n",
       "       [-7.07474175e-01,  5.13421085e-01],\n",
       "       [-4.09272352e-01,  8.42361536e-01],\n",
       "       [-2.15717776e-01,  9.56573356e-01],\n",
       "       [ 9.86905627e-01, -4.01258591e-01],\n",
       "       [-1.19929714e-01,  5.24267415e-01],\n",
       "       [-3.95391315e-01,  1.06616056e+00],\n",
       "       [ 1.57618375e+00, -6.10844413e-02],\n",
       "       [-9.05928988e-01, -6.04641358e-02],\n",
       "       [ 2.00709918e+00,  2.63757784e-01],\n",
       "       [-8.97998866e-02,  1.16429133e+00],\n",
       "       [ 8.39975086e-01,  3.38508563e-01],\n",
       "       [-5.12529239e-01,  8.16525893e-01],\n",
       "       [-8.42229190e-01,  6.26312226e-01],\n",
       "       [-9.24452671e-02,  3.79701613e-01],\n",
       "       [ 1.26382005e-01,  4.64607991e-01],\n",
       "       [ 2.01546380e+00,  1.97773868e-01],\n",
       "       [ 7.84531018e-01,  3.47679578e-01],\n",
       "       [-9.65009578e-01,  4.57172803e-01],\n",
       "       [ 1.48148810e+00, -2.79441142e-01],\n",
       "       [ 9.83874499e-01, -6.21628687e-01],\n",
       "       [-4.66618323e-01,  8.44640688e-01],\n",
       "       [-3.07608864e-01,  8.08977906e-01],\n",
       "       [-2.90971463e-01,  9.59005710e-01],\n",
       "       [-1.41655606e-01,  4.55295694e-01],\n",
       "       [-1.00261569e+00,  3.25007476e-01],\n",
       "       [-6.78397766e-01,  8.05823882e-01],\n",
       "       [ 1.37948824e+00, -4.00879561e-01],\n",
       "       [ 9.28690459e-01,  3.03184648e-01],\n",
       "       [ 1.09409936e+00,  2.68153230e-01],\n",
       "       [ 1.98985669e+00,  1.59674055e-01],\n",
       "       [ 5.72630817e-01, -4.06765675e-01],\n",
       "       [ 1.02169504e+00, -5.33219633e-01],\n",
       "       [ 2.32078220e-02,  2.73326060e-01],\n",
       "       [-6.29352345e-02,  1.16326699e-01],\n",
       "       [-8.49520509e-02,  1.06267852e+00],\n",
       "       [ 9.47970883e-01, -1.72311742e-01],\n",
       "       [ 4.65266594e-01,  7.23971627e-01],\n",
       "       [ 5.69466815e-01,  8.15729934e-01],\n",
       "       [ 1.82352030e-01,  9.04482519e-01],\n",
       "       [ 1.79030116e-01, -8.23963349e-02],\n",
       "       [ 1.67080425e-01, -1.66157362e-01],\n",
       "       [ 7.53897996e-01,  4.91666624e-01],\n",
       "       [-3.55518142e-01,  8.54048344e-01],\n",
       "       [ 5.39256816e-02,  1.04087772e+00],\n",
       "       [ 2.26596716e-01,  9.17078734e-01],\n",
       "       [ 6.33666366e-01, -1.52660245e-01],\n",
       "       [ 6.78595544e-01, -3.76209316e-01],\n",
       "       [ 8.16257495e-01,  3.21600939e-02],\n",
       "       [ 1.77849181e+00,  1.15020232e-02],\n",
       "       [ 4.29053944e-01, -2.81663002e-01],\n",
       "       [ 6.66649614e-01, -3.31733339e-01],\n",
       "       [ 7.75447166e-01, -5.19566880e-01],\n",
       "       [ 1.64702759e+00, -2.53322118e-01],\n",
       "       [ 7.00352145e-01, -5.90640050e-01],\n",
       "       [ 6.07193934e-01,  9.03478848e-01],\n",
       "       [ 9.16430163e-01,  3.51521165e-01],\n",
       "       [ 1.49377931e+00, -2.69856503e-01],\n",
       "       [-8.73961285e-01,  3.29107969e-01],\n",
       "       [ 1.10392332e+00, -3.02366119e-01],\n",
       "       [ 1.52360230e+00, -3.92799199e-01],\n",
       "       [-6.14305688e-01,  7.60536536e-01],\n",
       "       [ 1.16452883e+00, -6.25410682e-01],\n",
       "       [ 4.09289646e-01, -4.56301210e-01],\n",
       "       [-4.26513036e-01,  9.49424633e-01],\n",
       "       [ 2.57542690e-01, -1.41757589e-02],\n",
       "       [ 1.11464046e+00,  2.17982484e-01],\n",
       "       [ 2.30921573e-01, -2.00004781e-01],\n",
       "       [ 1.94472083e+00, -5.55163248e-02],\n",
       "       [-5.27151691e-01,  6.26366370e-01],\n",
       "       [-1.06266126e+00,  6.98305943e-02],\n",
       "       [ 1.50313904e-01,  1.15787184e-01],\n",
       "       [ 1.89193281e+00,  2.80408592e-01],\n",
       "       [ 1.06461331e-01,  4.08138626e-01],\n",
       "       [ 1.26980112e-01, -1.01351865e-01],\n",
       "       [-7.41046776e-01,  7.34370796e-01],\n",
       "       [ 4.17750809e-01, -3.84081017e-01],\n",
       "       [ 1.69266874e+00, -2.30313175e-01],\n",
       "       [ 1.04725277e+00, -1.02705194e-01],\n",
       "       [ 5.59977771e-01, -2.81776093e-01],\n",
       "       [ 5.28861431e-01,  8.30293632e-01],\n",
       "       [ 2.08022050e+00, -3.78850677e-02],\n",
       "       [ 1.33694377e+00, -6.83757614e-01],\n",
       "       [ 2.01173400e+00, -1.28787392e-02],\n",
       "       [ 2.40741598e-01,  9.90870633e-01],\n",
       "       [-1.00333183e+00,  2.35048513e-01],\n",
       "       [ 3.19714474e-01,  8.55912711e-01],\n",
       "       [ 1.92677854e+00,  4.32053449e-01],\n",
       "       [-8.74169558e-01,  3.10324141e-01],\n",
       "       [ 1.14303813e+00, -4.02131773e-01],\n",
       "       [-8.53995826e-01,  5.66142476e-01],\n",
       "       [ 2.87380342e-01,  8.74062695e-01],\n",
       "       [ 1.60990680e+00, -3.44810759e-01],\n",
       "       [ 3.65696494e-01,  9.22816592e-01],\n",
       "       [ 1.38804929e+00, -3.50375714e-01],\n",
       "       [-4.38486848e-02,  1.14449711e+00],\n",
       "       [-9.59797761e-01,  8.36482045e-02],\n",
       "       [-7.74675363e-01,  7.19280042e-01],\n",
       "       [ 8.84361231e-01,  3.03061725e-01],\n",
       "       [ 8.45011603e-01,  4.47624803e-01],\n",
       "       [ 6.13949262e-01,  8.61605871e-01],\n",
       "       [ 1.75422707e+00,  1.30526603e-02],\n",
       "       [ 1.44578095e+00, -2.51946072e-01],\n",
       "       [-2.36562939e-02,  1.16285865e-01],\n",
       "       [-9.61880378e-01,  5.50407855e-02],\n",
       "       [ 1.05901760e-03,  2.65557675e-01],\n",
       "       [ 1.87674844e+00,  3.59308044e-01],\n",
       "       [ 9.90404840e-01,  3.55412213e-01],\n",
       "       [ 2.64902600e-01,  1.00492248e+00],\n",
       "       [ 1.96855809e+00,  3.64681143e-01],\n",
       "       [ 6.22086585e-01,  5.32428934e-01],\n",
       "       [ 1.80188829e+00, -1.71903804e-01],\n",
       "       [ 1.64909875e+00, -3.35555871e-01],\n",
       "       [-4.81680433e-01,  1.02962538e+00],\n",
       "       [-4.95538730e-01,  9.14527137e-01],\n",
       "       [ 3.02754969e-01,  1.00696733e+00],\n",
       "       [-7.34765634e-01,  5.92880865e-01],\n",
       "       [ 3.23675067e-01,  8.98774087e-01],\n",
       "       [-2.73981269e-01,  9.02633836e-01],\n",
       "       [-7.41434574e-02,  5.09554619e-01],\n",
       "       [ 1.06798877e+00, -4.89389177e-01],\n",
       "       [-1.03282023e+00,  3.40527591e-01],\n",
       "       [ 6.69660442e-02,  4.06280675e-01],\n",
       "       [ 1.88631573e+00, -7.72405765e-03],\n",
       "       [ 6.57043639e-01,  8.85867290e-01],\n",
       "       [ 2.12296495e-01,  5.69497324e-02],\n",
       "       [ 7.90317274e-01,  6.16212060e-01],\n",
       "       [ 2.62677406e-01, -1.16276492e-01],\n",
       "       [ 1.29347094e+00, -4.89798051e-01],\n",
       "       [ 1.66273791e+00,  2.59382588e-02],\n",
       "       [ 1.10066340e-01, -1.26595613e-01],\n",
       "       [ 3.34685667e-02,  5.63327189e-02],\n",
       "       [ 1.44871582e+00, -2.13422107e-01],\n",
       "       [-4.94930983e-01,  9.13769209e-01],\n",
       "       [ 8.00646775e-01, -5.85540546e-01],\n",
       "       [ 8.38396756e-01,  2.49725444e-01],\n",
       "       [-1.25089208e-01,  4.60249065e-01],\n",
       "       [ 1.07836406e+00, -4.77252251e-01],\n",
       "       [ 4.37445841e-01, -2.61928317e-01],\n",
       "       [ 1.97470862e+00,  3.45896148e-01],\n",
       "       [-1.05133236e+00,  2.16717682e-01],\n",
       "       [ 2.02862671e+00,  7.41933832e-02],\n",
       "       [-8.64003389e-01,  1.65321278e-01],\n",
       "       [ 4.77970686e-01, -1.85484501e-01],\n",
       "       [-7.43459396e-01,  4.68370500e-01],\n",
       "       [ 1.87114018e+00, -3.56038084e-02],\n",
       "       [ 1.02892009e+00,  5.53618052e-02],\n",
       "       [ 9.24634558e-01,  5.16324122e-01],\n",
       "       [ 7.13293427e-01, -4.16129157e-01],\n",
       "       [ 4.74833431e-01, -3.16444929e-01],\n",
       "       [ 3.41707978e-01, -2.04332983e-01],\n",
       "       [ 1.16294760e+00, -4.61035211e-01],\n",
       "       [-3.39181527e-01,  9.11995659e-01]])"
      ]
     },
     "execution_count": 58,
     "metadata": {},
     "output_type": "execute_result"
    }
   ],
   "source": [
    "X"
   ]
  },
  {
   "cell_type": "code",
   "execution_count": 59,
   "metadata": {},
   "outputs": [],
   "source": [
    "df = pd.DataFrame(dict(x=X[:,0], y=X[:,1], label=y))"
   ]
  },
  {
   "cell_type": "code",
   "execution_count": 60,
   "metadata": {},
   "outputs": [
    {
     "data": {
      "image/png": "[encoded data removed]",
      "text/plain": [
       "<Figure size 720x576 with 1 Axes>"
      ]
     },
     "metadata": {
      "needs_background": "light"
     },
     "output_type": "display_data"
    }
   ],
   "source": [
    "# group dataset by label\n",
    "grouped = df.groupby('label')\n",
    "\n",
    "# plot classification dataset\n",
    "colors = {0:'red', 1:'blue'}\n",
    "fig, ax = plt.subplots()\n",
    "for key, group in grouped:\n",
    "    group.plot(ax=ax, kind='scatter', x='x', y='y', label=key, color=colors[key], figsize=(10,8))\n",
    "plt.show()"
   ]
  },
  {
   "cell_type": "code",
   "execution_count": 61,
   "metadata": {},
   "outputs": [],
   "source": [
    "df.to_csv(\"dataset/class_moons.csv\")"
   ]
  },
  {
   "cell_type": "markdown",
   "metadata": {},
   "source": [
    "## 2.3 make_circles"
   ]
  },
  {
   "cell_type": "code",
   "execution_count": 62,
   "metadata": {},
   "outputs": [],
   "source": [
    "from sklearn.datasets import make_circles"
   ]
  },
  {
   "cell_type": "code",
   "execution_count": 63,
   "metadata": {},
   "outputs": [],
   "source": [
    "X, y = make_circles(n_samples=500, noise=0.05)"
   ]
  },
  {
   "cell_type": "code",
   "execution_count": 64,
   "metadata": {},
   "outputs": [
    {
     "data": {
      "text/html": [
       "<div>\n",
       "<style scoped>\n",
       "    .dataframe tbody tr th:only-of-type {\n",
       "        vertical-align: middle;\n",
       "    }\n",
       "\n",
       "    .dataframe tbody tr th {\n",
       "        vertical-align: top;\n",
       "    }\n",
       "\n",
       "    .dataframe thead th {\n",
       "        text-align: right;\n",
       "    }\n",
       "</style>\n",
       "<table border=\"1\" class=\"dataframe\">\n",
       "  <thead>\n",
       "    <tr style=\"text-align: right;\">\n",
       "      <th></th>\n",
       "      <th>x</th>\n",
       "      <th>y</th>\n",
       "      <th>label</th>\n",
       "    </tr>\n",
       "  </thead>\n",
       "  <tbody>\n",
       "    <tr>\n",
       "      <th>0</th>\n",
       "      <td>0.502409</td>\n",
       "      <td>-0.617865</td>\n",
       "      <td>1</td>\n",
       "    </tr>\n",
       "    <tr>\n",
       "      <th>1</th>\n",
       "      <td>0.545514</td>\n",
       "      <td>0.820713</td>\n",
       "      <td>0</td>\n",
       "    </tr>\n",
       "    <tr>\n",
       "      <th>2</th>\n",
       "      <td>-1.002556</td>\n",
       "      <td>0.162262</td>\n",
       "      <td>0</td>\n",
       "    </tr>\n",
       "    <tr>\n",
       "      <th>3</th>\n",
       "      <td>0.940663</td>\n",
       "      <td>-0.513243</td>\n",
       "      <td>0</td>\n",
       "    </tr>\n",
       "    <tr>\n",
       "      <th>4</th>\n",
       "      <td>-0.962978</td>\n",
       "      <td>0.191564</td>\n",
       "      <td>0</td>\n",
       "    </tr>\n",
       "  </tbody>\n",
       "</table>\n",
       "</div>"
      ],
      "text/plain": [
       "          x         y  label\n",
       "0  0.502409 -0.617865      1\n",
       "1  0.545514  0.820713      0\n",
       "2 -1.002556  0.162262      0\n",
       "3  0.940663 -0.513243      0\n",
       "4 -0.962978  0.191564      0"
      ]
     },
     "execution_count": 64,
     "metadata": {},
     "output_type": "execute_result"
    }
   ],
   "source": [
    "# scatter plot, dots colored by class value\n",
    "df = pd.DataFrame(dict(x=X[:,0], y=X[:,1], label=y))\n",
    "df.head()"
   ]
  },
  {
   "cell_type": "code",
   "execution_count": 65,
   "metadata": {},
   "outputs": [
    {
     "data": {
      "image/png": "[encoded data removed]",
      "text/plain": [
       "<Figure size 720x576 with 1 Axes>"
      ]
     },
     "metadata": {
      "needs_background": "light"
     },
     "output_type": "display_data"
    }
   ],
   "source": [
    "# group dataset by label\n",
    "grouped = df.groupby('label')\n",
    "\n",
    "# plot classification dataset\n",
    "colors = {0:'red', 1:'blue'}\n",
    "fig, ax = plt.subplots()\n",
    "for key, group in grouped:\n",
    "    group.plot(ax=ax, kind='scatter', x='x', y='y', label=key, color=colors[key], figsize=(10,8))\n",
    "plt.show()"
   ]
  },
  {
   "cell_type": "code",
   "execution_count": 66,
   "metadata": {},
   "outputs": [],
   "source": [
    "df.to_csv(\"dataset/class_circles.csv\")"
   ]
  },
  {
   "cell_type": "code",
   "execution_count": null,
   "metadata": {},
   "outputs": [],
   "source": []
  },
  {
   "cell_type": "code",
   "execution_count": null,
   "metadata": {},
   "outputs": [],
   "source": []
  },
  {
   "cell_type": "code",
   "execution_count": null,
   "metadata": {},
   "outputs": [],
   "source": []
  },
  {
   "cell_type": "code",
   "execution_count": null,
   "metadata": {},
   "outputs": [],
   "source": []
  },
  {
   "cell_type": "code",
   "execution_count": null,
   "metadata": {},
   "outputs": [],
   "source": []
  },
  {
   "cell_type": "code",
   "execution_count": null,
   "metadata": {},
   "outputs": [],
   "source": []
  },
  {
   "cell_type": "code",
   "execution_count": null,
   "metadata": {},
   "outputs": [],
   "source": []
  },
  {
   "cell_type": "code",
   "execution_count": null,
   "metadata": {},
   "outputs": [],
   "source": []
  },
  {
   "cell_type": "code",
   "execution_count": null,
   "metadata": {},
   "outputs": [],
   "source": []
  },
  {
   "cell_type": "code",
   "execution_count": null,
   "metadata": {},
   "outputs": [],
   "source": []
  }
 ],
 "metadata": {
  "kernelspec": {
   "display_name": "Python 3",
   "language": "python",
   "name": "python3"
  },
  "language_info": {
   "codemirror_mode": {
    "name": "ipython",
    "version": 3
   },
   "file_extension": ".py",
   "mimetype": "text/x-python",
   "name": "python",
   "nbconvert_exporter": "python",
   "pygments_lexer": "ipython3",
   "version": "3.7.3"
  }
 },
 "nbformat": 4,
 "nbformat_minor": 4
}
