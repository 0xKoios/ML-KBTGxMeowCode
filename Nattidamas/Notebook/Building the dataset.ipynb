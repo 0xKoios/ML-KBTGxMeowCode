{
 "cells": [
  {
   "cell_type": "code",
   "execution_count": 1,
   "metadata": {},
   "outputs": [],
   "source": [
    "import pandas as pd\n",
    "import matplotlib.pyplot as plt"
   ]
  },
  {
   "cell_type": "markdown",
   "metadata": {},
   "source": [
    "# Building the dataset\n",
    "\n",
    "- generate regression dataset\n",
    "- generate classification dataset"
   ]
  },
  {
   "cell_type": "markdown",
   "metadata": {},
   "source": [
    "## 1. Regression Dataset"
   ]
  },
  {
   "cell_type": "code",
   "execution_count": 2,
   "metadata": {
    "scrolled": true
   },
   "outputs": [],
   "source": [
    "from sklearn.datasets import make_regression"
   ]
  },
  {
   "cell_type": "code",
   "execution_count": 3,
   "metadata": {},
   "outputs": [],
   "source": [
    "# generate regression dataset\n",
    "X, y = make_regression(n_samples=1000, n_features=1, noise=100, shuffle=True, random_state=27)"
   ]
  },
  {
   "cell_type": "code",
   "execution_count": 4,
   "metadata": {},
   "outputs": [],
   "source": [
    "df = pd.DataFrame(X, index=range(len(X)), columns=[\"X\"])\n",
    "df[\"Y\"] = y"
   ]
  },
  {
   "cell_type": "code",
   "execution_count": 5,
   "metadata": {
    "scrolled": true
   },
   "outputs": [
    {
     "data": {
      "text/html": [
       "<div>\n",
       "<style scoped>\n",
       "    .dataframe tbody tr th:only-of-type {\n",
       "        vertical-align: middle;\n",
       "    }\n",
       "\n",
       "    .dataframe tbody tr th {\n",
       "        vertical-align: top;\n",
       "    }\n",
       "\n",
       "    .dataframe thead th {\n",
       "        text-align: right;\n",
       "    }\n",
       "</style>\n",
       "<table border=\"1\" class=\"dataframe\">\n",
       "  <thead>\n",
       "    <tr style=\"text-align: right;\">\n",
       "      <th></th>\n",
       "      <th>X</th>\n",
       "      <th>Y</th>\n",
       "    </tr>\n",
       "  </thead>\n",
       "  <tbody>\n",
       "    <tr>\n",
       "      <th>0</th>\n",
       "      <td>-0.168005</td>\n",
       "      <td>-107.480692</td>\n",
       "    </tr>\n",
       "    <tr>\n",
       "      <th>1</th>\n",
       "      <td>1.393876</td>\n",
       "      <td>201.944833</td>\n",
       "    </tr>\n",
       "    <tr>\n",
       "      <th>2</th>\n",
       "      <td>-0.250787</td>\n",
       "      <td>84.740862</td>\n",
       "    </tr>\n",
       "    <tr>\n",
       "      <th>3</th>\n",
       "      <td>0.013533</td>\n",
       "      <td>60.527183</td>\n",
       "    </tr>\n",
       "    <tr>\n",
       "      <th>4</th>\n",
       "      <td>-0.776702</td>\n",
       "      <td>-26.201326</td>\n",
       "    </tr>\n",
       "  </tbody>\n",
       "</table>\n",
       "</div>"
      ],
      "text/plain": [
       "          X           Y\n",
       "0 -0.168005 -107.480692\n",
       "1  1.393876  201.944833\n",
       "2 -0.250787   84.740862\n",
       "3  0.013533   60.527183\n",
       "4 -0.776702  -26.201326"
      ]
     },
     "execution_count": 5,
     "metadata": {},
     "output_type": "execute_result"
    }
   ],
   "source": [
    "df.head()"
   ]
  },
  {
   "cell_type": "code",
   "execution_count": 6,
   "metadata": {},
   "outputs": [],
   "source": [
    "df.to_csv(\"dataset/reg_uni.csv\")"
   ]
  },
  {
   "cell_type": "code",
   "execution_count": 20,
   "metadata": {},
   "outputs": [
    {
     "ename": "ValueError",
     "evalue": "x and y must be the same size",
     "output_type": "error",
     "traceback": [
      "\u001b[1;31m-------------------------------------------------------------------------\u001b[0m",
      "\u001b[1;31mValueError\u001b[0m                              Traceback (most recent call last)",
      "\u001b[1;32m<ipython-input-20-dc9d845251df>\u001b[0m in \u001b[0;36m<module>\u001b[1;34m\u001b[0m\n\u001b[0;32m      1\u001b[0m \u001b[1;31m# plot regression dataset\u001b[0m\u001b[1;33m\u001b[0m\u001b[1;33m\u001b[0m\u001b[1;33m\u001b[0m\u001b[0m\n\u001b[0;32m      2\u001b[0m \u001b[0mplt\u001b[0m\u001b[1;33m.\u001b[0m\u001b[0mfigure\u001b[0m\u001b[1;33m(\u001b[0m\u001b[0mfigsize\u001b[0m\u001b[1;33m=\u001b[0m\u001b[1;33m(\u001b[0m\u001b[1;36m10\u001b[0m\u001b[1;33m,\u001b[0m\u001b[1;36m10\u001b[0m\u001b[1;33m)\u001b[0m\u001b[1;33m)\u001b[0m\u001b[1;33m\u001b[0m\u001b[1;33m\u001b[0m\u001b[0m\n\u001b[1;32m----> 3\u001b[1;33m \u001b[0mplt\u001b[0m\u001b[1;33m.\u001b[0m\u001b[0mscatter\u001b[0m\u001b[1;33m(\u001b[0m\u001b[0mX\u001b[0m\u001b[1;33m,\u001b[0m\u001b[0my\u001b[0m\u001b[1;33m)\u001b[0m\u001b[1;33m\u001b[0m\u001b[1;33m\u001b[0m\u001b[0m\n\u001b[0m\u001b[0;32m      4\u001b[0m \u001b[0mplt\u001b[0m\u001b[1;33m.\u001b[0m\u001b[0mshow\u001b[0m\u001b[1;33m(\u001b[0m\u001b[1;33m)\u001b[0m\u001b[1;33m\u001b[0m\u001b[1;33m\u001b[0m\u001b[0m\n",
      "\u001b[1;32m~\\Anaconda3\\lib\\site-packages\\matplotlib\\pyplot.py\u001b[0m in \u001b[0;36mscatter\u001b[1;34m(x, y, s, c, marker, cmap, norm, vmin, vmax, alpha, linewidths, verts, edgecolors, data, **kwargs)\u001b[0m\n\u001b[0;32m   2862\u001b[0m         \u001b[0mvmin\u001b[0m\u001b[1;33m=\u001b[0m\u001b[0mvmin\u001b[0m\u001b[1;33m,\u001b[0m \u001b[0mvmax\u001b[0m\u001b[1;33m=\u001b[0m\u001b[0mvmax\u001b[0m\u001b[1;33m,\u001b[0m \u001b[0malpha\u001b[0m\u001b[1;33m=\u001b[0m\u001b[0malpha\u001b[0m\u001b[1;33m,\u001b[0m \u001b[0mlinewidths\u001b[0m\u001b[1;33m=\u001b[0m\u001b[0mlinewidths\u001b[0m\u001b[1;33m,\u001b[0m\u001b[1;33m\u001b[0m\u001b[1;33m\u001b[0m\u001b[0m\n\u001b[0;32m   2863\u001b[0m         verts=verts, edgecolors=edgecolors, **({\"data\": data} if data\n\u001b[1;32m-> 2864\u001b[1;33m         is not None else {}), **kwargs)\n\u001b[0m\u001b[0;32m   2865\u001b[0m     \u001b[0msci\u001b[0m\u001b[1;33m(\u001b[0m\u001b[0m__ret\u001b[0m\u001b[1;33m)\u001b[0m\u001b[1;33m\u001b[0m\u001b[1;33m\u001b[0m\u001b[0m\n\u001b[0;32m   2866\u001b[0m     \u001b[1;32mreturn\u001b[0m \u001b[0m__ret\u001b[0m\u001b[1;33m\u001b[0m\u001b[1;33m\u001b[0m\u001b[0m\n",
      "\u001b[1;32m~\\Anaconda3\\lib\\site-packages\\matplotlib\\__init__.py\u001b[0m in \u001b[0;36minner\u001b[1;34m(ax, data, *args, **kwargs)\u001b[0m\n\u001b[0;32m   1808\u001b[0m                         \u001b[1;34m\"the Matplotlib list!)\"\u001b[0m \u001b[1;33m%\u001b[0m \u001b[1;33m(\u001b[0m\u001b[0mlabel_namer\u001b[0m\u001b[1;33m,\u001b[0m \u001b[0mfunc\u001b[0m\u001b[1;33m.\u001b[0m\u001b[0m__name__\u001b[0m\u001b[1;33m)\u001b[0m\u001b[1;33m,\u001b[0m\u001b[1;33m\u001b[0m\u001b[1;33m\u001b[0m\u001b[0m\n\u001b[0;32m   1809\u001b[0m                         RuntimeWarning, stacklevel=2)\n\u001b[1;32m-> 1810\u001b[1;33m             \u001b[1;32mreturn\u001b[0m \u001b[0mfunc\u001b[0m\u001b[1;33m(\u001b[0m\u001b[0max\u001b[0m\u001b[1;33m,\u001b[0m \u001b[1;33m*\u001b[0m\u001b[0margs\u001b[0m\u001b[1;33m,\u001b[0m \u001b[1;33m**\u001b[0m\u001b[0mkwargs\u001b[0m\u001b[1;33m)\u001b[0m\u001b[1;33m\u001b[0m\u001b[1;33m\u001b[0m\u001b[0m\n\u001b[0m\u001b[0;32m   1811\u001b[0m \u001b[1;33m\u001b[0m\u001b[0m\n\u001b[0;32m   1812\u001b[0m         inner.__doc__ = _add_data_doc(inner.__doc__,\n",
      "\u001b[1;32m~\\Anaconda3\\lib\\site-packages\\matplotlib\\axes\\_axes.py\u001b[0m in \u001b[0;36mscatter\u001b[1;34m(self, x, y, s, c, marker, cmap, norm, vmin, vmax, alpha, linewidths, verts, edgecolors, **kwargs)\u001b[0m\n\u001b[0;32m   4180\u001b[0m         \u001b[0my\u001b[0m \u001b[1;33m=\u001b[0m \u001b[0mnp\u001b[0m\u001b[1;33m.\u001b[0m\u001b[0mma\u001b[0m\u001b[1;33m.\u001b[0m\u001b[0mravel\u001b[0m\u001b[1;33m(\u001b[0m\u001b[0my\u001b[0m\u001b[1;33m)\u001b[0m\u001b[1;33m\u001b[0m\u001b[1;33m\u001b[0m\u001b[0m\n\u001b[0;32m   4181\u001b[0m         \u001b[1;32mif\u001b[0m \u001b[0mx\u001b[0m\u001b[1;33m.\u001b[0m\u001b[0msize\u001b[0m \u001b[1;33m!=\u001b[0m \u001b[0my\u001b[0m\u001b[1;33m.\u001b[0m\u001b[0msize\u001b[0m\u001b[1;33m:\u001b[0m\u001b[1;33m\u001b[0m\u001b[1;33m\u001b[0m\u001b[0m\n\u001b[1;32m-> 4182\u001b[1;33m             \u001b[1;32mraise\u001b[0m \u001b[0mValueError\u001b[0m\u001b[1;33m(\u001b[0m\u001b[1;34m\"x and y must be the same size\"\u001b[0m\u001b[1;33m)\u001b[0m\u001b[1;33m\u001b[0m\u001b[1;33m\u001b[0m\u001b[0m\n\u001b[0m\u001b[0;32m   4183\u001b[0m \u001b[1;33m\u001b[0m\u001b[0m\n\u001b[0;32m   4184\u001b[0m         \u001b[1;32mif\u001b[0m \u001b[0ms\u001b[0m \u001b[1;32mis\u001b[0m \u001b[1;32mNone\u001b[0m\u001b[1;33m:\u001b[0m\u001b[1;33m\u001b[0m\u001b[1;33m\u001b[0m\u001b[0m\n",
      "\u001b[1;31mValueError\u001b[0m: x and y must be the same size"
     ]
    },
    {
     "data": {
      "image/png": "[encoded data removed]",
      "text/plain": [
       "<Figure size 720x720 with 1 Axes>"
      ]
     },
     "metadata": {
      "needs_background": "light"
     },
     "output_type": "display_data"
    }
   ],
   "source": [
    "# plot regression dataset\n",
    "plt.figure(figsize=(10,10))\n",
    "plt.scatter(X,y)\n",
    "plt.show()"
   ]
  },
  {
   "cell_type": "code",
   "execution_count": null,
   "metadata": {},
   "outputs": [],
   "source": []
  },
  {
   "cell_type": "code",
   "execution_count": 21,
   "metadata": {},
   "outputs": [],
   "source": [
    "# generate regression dataset\n",
    "X, y = make_regression(n_samples=50, n_features=3, noise=0.1, shuffle=True, random_state=27)"
   ]
  },
  {
   "cell_type": "code",
   "execution_count": 22,
   "metadata": {},
   "outputs": [
    {
     "data": {
      "text/plain": [
       "(50, 3)"
      ]
     },
     "execution_count": 22,
     "metadata": {},
     "output_type": "execute_result"
    }
   ],
   "source": [
    "X.shape"
   ]
  },
  {
   "cell_type": "code",
   "execution_count": 23,
   "metadata": {},
   "outputs": [
    {
     "data": {
      "text/html": [
       "<div>\n",
       "<style scoped>\n",
       "    .dataframe tbody tr th:only-of-type {\n",
       "        vertical-align: middle;\n",
       "    }\n",
       "\n",
       "    .dataframe tbody tr th {\n",
       "        vertical-align: top;\n",
       "    }\n",
       "\n",
       "    .dataframe thead th {\n",
       "        text-align: right;\n",
       "    }\n",
       "</style>\n",
       "<table border=\"1\" class=\"dataframe\">\n",
       "  <thead>\n",
       "    <tr style=\"text-align: right;\">\n",
       "      <th></th>\n",
       "      <th>X1</th>\n",
       "      <th>X2</th>\n",
       "      <th>X3</th>\n",
       "      <th>Y</th>\n",
       "    </tr>\n",
       "  </thead>\n",
       "  <tbody>\n",
       "    <tr>\n",
       "      <th>0</th>\n",
       "      <td>-2.166068</td>\n",
       "      <td>-1.247767</td>\n",
       "      <td>0.285685</td>\n",
       "      <td>-184.980982</td>\n",
       "    </tr>\n",
       "    <tr>\n",
       "      <th>1</th>\n",
       "      <td>0.154733</td>\n",
       "      <td>0.562757</td>\n",
       "      <td>1.033058</td>\n",
       "      <td>136.596165</td>\n",
       "    </tr>\n",
       "    <tr>\n",
       "      <th>2</th>\n",
       "      <td>-0.144426</td>\n",
       "      <td>0.591353</td>\n",
       "      <td>-0.037168</td>\n",
       "      <td>10.231184</td>\n",
       "    </tr>\n",
       "    <tr>\n",
       "      <th>3</th>\n",
       "      <td>1.501099</td>\n",
       "      <td>0.195870</td>\n",
       "      <td>1.901946</td>\n",
       "      <td>307.014161</td>\n",
       "    </tr>\n",
       "    <tr>\n",
       "      <th>4</th>\n",
       "      <td>1.056678</td>\n",
       "      <td>0.056822</td>\n",
       "      <td>-0.020623</td>\n",
       "      <td>78.958628</td>\n",
       "    </tr>\n",
       "  </tbody>\n",
       "</table>\n",
       "</div>"
      ],
      "text/plain": [
       "         X1        X2        X3           Y\n",
       "0 -2.166068 -1.247767  0.285685 -184.980982\n",
       "1  0.154733  0.562757  1.033058  136.596165\n",
       "2 -0.144426  0.591353 -0.037168   10.231184\n",
       "3  1.501099  0.195870  1.901946  307.014161\n",
       "4  1.056678  0.056822 -0.020623   78.958628"
      ]
     },
     "execution_count": 23,
     "metadata": {},
     "output_type": "execute_result"
    }
   ],
   "source": [
    "df = pd.DataFrame(dict(X1=X[:,0], X2=X[:, 1], X3=X[:,2], Y=y))\n",
    "df.head()"
   ]
  },
  {
   "cell_type": "code",
   "execution_count": 24,
   "metadata": {},
   "outputs": [
    {
     "data": {
      "image/png": "[encoded data removed]",
      "text/plain": [
       "<Figure size 720x720 with 1 Axes>"
      ]
     },
     "metadata": {
      "needs_background": "light"
     },
     "output_type": "display_data"
    }
   ],
   "source": [
    "# plot regression dataset\n",
    "plt.figure(figsize=(10,10))\n",
    "plt.scatter(df[\"X1\"], df[\"Y\"], color=\"r\")\n",
    "plt.scatter(df[\"X2\"], df[\"Y\"], color=\"g\")\n",
    "plt.scatter(df[\"X3\"], df[\"Y\"], color=\"b\")\n",
    "plt.show()"
   ]
  },
  {
   "cell_type": "code",
   "execution_count": 25,
   "metadata": {},
   "outputs": [],
   "source": [
    "df.to_csv(\"dataset/reg_mult.csv\")"
   ]
  },
  {
   "cell_type": "markdown",
   "metadata": {},
   "source": [
    "## 2. Classification dataset"
   ]
  },
  {
   "cell_type": "markdown",
   "metadata": {},
   "source": [
    "## 2.1 make_blobs"
   ]
  },
  {
   "cell_type": "code",
   "execution_count": 26,
   "metadata": {},
   "outputs": [],
   "source": [
    "from sklearn.datasets import make_blobs"
   ]
  },
  {
   "cell_type": "code",
   "execution_count": 27,
   "metadata": {},
   "outputs": [],
   "source": [
    "X, y = make_blobs(n_samples=100, centers=3, n_features=2)"
   ]
  },
  {
   "cell_type": "code",
   "execution_count": 28,
   "metadata": {},
   "outputs": [
    {
     "data": {
      "text/html": [
       "<div>\n",
       "<style scoped>\n",
       "    .dataframe tbody tr th:only-of-type {\n",
       "        vertical-align: middle;\n",
       "    }\n",
       "\n",
       "    .dataframe tbody tr th {\n",
       "        vertical-align: top;\n",
       "    }\n",
       "\n",
       "    .dataframe thead th {\n",
       "        text-align: right;\n",
       "    }\n",
       "</style>\n",
       "<table border=\"1\" class=\"dataframe\">\n",
       "  <thead>\n",
       "    <tr style=\"text-align: right;\">\n",
       "      <th></th>\n",
       "      <th>x</th>\n",
       "      <th>y</th>\n",
       "      <th>label</th>\n",
       "    </tr>\n",
       "  </thead>\n",
       "  <tbody>\n",
       "    <tr>\n",
       "      <th>0</th>\n",
       "      <td>5.534881</td>\n",
       "      <td>-1.257466</td>\n",
       "      <td>2</td>\n",
       "    </tr>\n",
       "    <tr>\n",
       "      <th>1</th>\n",
       "      <td>3.497560</td>\n",
       "      <td>0.741028</td>\n",
       "      <td>2</td>\n",
       "    </tr>\n",
       "    <tr>\n",
       "      <th>2</th>\n",
       "      <td>-5.240785</td>\n",
       "      <td>1.638585</td>\n",
       "      <td>0</td>\n",
       "    </tr>\n",
       "    <tr>\n",
       "      <th>3</th>\n",
       "      <td>3.795459</td>\n",
       "      <td>-7.249842</td>\n",
       "      <td>1</td>\n",
       "    </tr>\n",
       "    <tr>\n",
       "      <th>4</th>\n",
       "      <td>3.460041</td>\n",
       "      <td>-1.147822</td>\n",
       "      <td>2</td>\n",
       "    </tr>\n",
       "  </tbody>\n",
       "</table>\n",
       "</div>"
      ],
      "text/plain": [
       "          x         y  label\n",
       "0  5.534881 -1.257466      2\n",
       "1  3.497560  0.741028      2\n",
       "2 -5.240785  1.638585      0\n",
       "3  3.795459 -7.249842      1\n",
       "4  3.460041 -1.147822      2"
      ]
     },
     "execution_count": 28,
     "metadata": {},
     "output_type": "execute_result"
    }
   ],
   "source": [
    "df = pd.DataFrame(dict(x=X[:,0], y=X[:,1], label=y))\n",
    "df.head()"
   ]
  },
  {
   "cell_type": "code",
   "execution_count": 29,
   "metadata": {},
   "outputs": [
    {
     "data": {
      "image/png": "[encoded data removed]",
      "text/plain": [
       "<Figure size 720x576 with 1 Axes>"
      ]
     },
     "metadata": {
      "needs_background": "light"
     },
     "output_type": "display_data"
    }
   ],
   "source": [
    "# group dataset by label\n",
    "grouped = df.groupby('label')\n",
    "\n",
    "# plot classification dataset\n",
    "colors = {0:'red', 1:'blue', 2:'green'}\n",
    "fig, ax = plt.subplots()\n",
    "for key, group in grouped:\n",
    "    group.plot(ax=ax, kind='scatter', x='x', y='y', label=key, color=colors[key], figsize=(10,8))\n",
    "plt.show()"
   ]
  },
  {
   "cell_type": "code",
   "execution_count": 30,
   "metadata": {},
   "outputs": [],
   "source": [
    "df.to_csv(\"dataset/class_blobs.csv\")"
   ]
  },
  {
   "cell_type": "markdown",
   "metadata": {},
   "source": [
    "## 2.2 make_moons"
   ]
  },
  {
   "cell_type": "code",
   "execution_count": 31,
   "metadata": {},
   "outputs": [],
   "source": [
    "from sklearn.datasets import make_moons"
   ]
  },
  {
   "cell_type": "code",
   "execution_count": 32,
   "metadata": {},
   "outputs": [],
   "source": [
    "X, y = make_moons(n_samples=500, noise=0.1)"
   ]
  },
  {
   "cell_type": "code",
   "execution_count": 33,
   "metadata": {},
   "outputs": [
    {
     "data": {
      "text/plain": [
       "array([[ 1.54884607e+00, -4.01959397e-01],\n",
       "       [-1.50384281e-01, -3.59062923e-02],\n",
       "       [-8.64617300e-01,  6.04231755e-01],\n",
       "       [ 8.25069672e-01, -4.95443568e-01],\n",
       "       [-9.32214033e-01,  6.39587834e-01],\n",
       "       [ 1.97749012e-01,  8.88931845e-01],\n",
       "       [ 8.85464549e-01,  7.65650267e-01],\n",
       "       [ 1.38143531e+00, -5.63427052e-01],\n",
       "       [-1.07803009e-02,  8.97259063e-01],\n",
       "       [ 8.19273047e-01,  6.83046211e-01],\n",
       "       [ 7.71389447e-01,  6.94035601e-01],\n",
       "       [-8.54301687e-02,  4.26285397e-01],\n",
       "       [ 1.43952142e+00, -4.04266512e-01],\n",
       "       [ 1.85681577e+00, -1.02582595e-01],\n",
       "       [ 9.19512139e-01, -4.93869381e-01],\n",
       "       [ 4.24562118e-01,  9.25211061e-01],\n",
       "       [ 8.13233935e-02,  3.08950265e-01],\n",
       "       [-9.20920125e-01,  6.20318685e-01],\n",
       "       [ 1.92046293e+00, -1.75325102e-01],\n",
       "       [ 7.25940998e-01,  5.08598974e-01],\n",
       "       [ 1.02594855e+00, -5.86252766e-01],\n",
       "       [ 7.72067592e-01,  7.43790923e-01],\n",
       "       [ 8.93903760e-01,  2.70355879e-01],\n",
       "       [-7.05915052e-01,  4.75005971e-01],\n",
       "       [ 1.78394439e+00,  1.06975349e-02],\n",
       "       [-3.70537511e-01,  9.87241621e-01],\n",
       "       [ 9.59312907e-01,  4.14619625e-01],\n",
       "       [ 7.68842309e-01,  1.69244984e-01],\n",
       "       [ 1.28727072e-01,  3.85470481e-01],\n",
       "       [ 6.04848184e-01,  7.74990861e-01],\n",
       "       [ 4.99895202e-01, -2.43318737e-01],\n",
       "       [-9.50229413e-01,  2.76975406e-01],\n",
       "       [-1.01951991e+00,  3.56042149e-01],\n",
       "       [ 1.65293643e-01, -7.83694802e-02],\n",
       "       [ 1.69516041e+00,  1.15393040e-01],\n",
       "       [-9.82606073e-01,  6.30451440e-01],\n",
       "       [ 6.28821729e-01, -4.30751841e-01],\n",
       "       [ 1.90760790e+00,  5.63054198e-01],\n",
       "       [-4.25682220e-01,  8.63647972e-01],\n",
       "       [-1.40516363e-01,  1.04146705e-01],\n",
       "       [-1.01281223e+00, -9.22341848e-03],\n",
       "       [ 1.14114030e+00, -4.19225115e-01],\n",
       "       [ 8.33838708e-01,  5.08947575e-01],\n",
       "       [ 3.11979878e-01, -3.34948853e-01],\n",
       "       [ 1.28960232e-01,  3.80980145e-03],\n",
       "       [-3.16331304e-01,  8.23207260e-01],\n",
       "       [ 1.20575372e+00, -4.44077494e-01],\n",
       "       [-4.60130250e-02,  4.00708946e-02],\n",
       "       [ 8.44339476e-01,  1.52074985e-02],\n",
       "       [ 3.13942884e-01, -1.63327897e-02],\n",
       "       [ 5.11602687e-01,  1.08562836e+00],\n",
       "       [ 1.79450866e+00, -2.09956607e-02],\n",
       "       [ 1.25008383e-01,  8.59371340e-01],\n",
       "       [-3.24094244e-02,  3.41896150e-01],\n",
       "       [-1.03278606e+00, -1.90446774e-01],\n",
       "       [-8.59229437e-01,  5.77887755e-01],\n",
       "       [-8.65214038e-01,  2.88892142e-01],\n",
       "       [ 1.44497307e+00, -3.73642224e-01],\n",
       "       [-9.58633789e-01,  3.38609346e-01],\n",
       "       [ 9.62495440e-01, -4.28656672e-01],\n",
       "       [ 3.93567307e-01,  8.54173329e-01],\n",
       "       [ 8.34817111e-01, -4.56763745e-01],\n",
       "       [-1.17599937e-02,  8.08998563e-02],\n",
       "       [-1.77592049e-02,  1.06775778e+00],\n",
       "       [ 1.04336409e+00, -1.06569020e-01],\n",
       "       [ 1.51636365e+00, -4.17283101e-01],\n",
       "       [ 1.83970849e+00, -1.16402354e-02],\n",
       "       [ 1.61398477e+00, -3.55227080e-01],\n",
       "       [ 1.23941245e+00, -4.79575890e-01],\n",
       "       [ 2.93097102e-01,  9.64360729e-01],\n",
       "       [ 1.68586948e-01,  9.44470430e-01],\n",
       "       [ 6.79776456e-01, -3.79388066e-01],\n",
       "       [ 6.88589754e-01, -4.91955616e-01],\n",
       "       [-2.68074375e-01,  9.28525433e-01],\n",
       "       [ 8.51046663e-01, -4.94701841e-01],\n",
       "       [ 1.77929632e+00, -2.41964659e-01],\n",
       "       [-8.83767283e-03,  1.09069569e+00],\n",
       "       [ 1.91234440e+00,  3.29656174e-01],\n",
       "       [ 4.34329525e-02,  1.20823315e-01],\n",
       "       [ 5.03448459e-01, -3.52331273e-01],\n",
       "       [-1.78961526e-01,  1.06654998e+00],\n",
       "       [ 2.79450667e-01,  1.03255946e+00],\n",
       "       [ 1.87926535e+00,  2.41824080e-01],\n",
       "       [-9.78667951e-01,  3.59351260e-01],\n",
       "       [ 8.23467708e-01,  4.59889414e-01],\n",
       "       [-3.95535622e-02,  3.28844517e-01],\n",
       "       [ 8.00924126e-01,  5.70283005e-01],\n",
       "       [ 2.21054702e-01,  1.09679240e+00],\n",
       "       [ 1.05329146e+00,  3.90322143e-02],\n",
       "       [ 8.82651845e-01,  4.11487090e-01],\n",
       "       [ 2.11301155e-01,  4.59427204e-01],\n",
       "       [-1.18691910e+00,  3.02988856e-01],\n",
       "       [ 1.26751981e+00, -3.96945962e-01],\n",
       "       [ 7.04379114e-01,  5.44695857e-01],\n",
       "       [ 1.79119790e+00, -9.86391261e-02],\n",
       "       [ 1.91474675e+00, -1.89482857e-02],\n",
       "       [ 1.05398294e+00,  3.26470478e-01],\n",
       "       [ 1.95460528e-01,  3.75387985e-02],\n",
       "       [ 3.60073770e-01,  9.73925166e-01],\n",
       "       [ 1.81199897e+00,  3.85772430e-01],\n",
       "       [-2.08250162e-01,  3.67482618e-01],\n",
       "       [-4.92515517e-01,  9.08467337e-01],\n",
       "       [ 1.94421136e+00,  4.10273037e-02],\n",
       "       [ 8.67503379e-01,  2.81391741e-01],\n",
       "       [ 3.87381227e-01, -2.49793332e-01],\n",
       "       [ 4.53687617e-01, -2.93750830e-01],\n",
       "       [ 1.20840971e+00, -5.73477287e-01],\n",
       "       [ 7.13763105e-01, -3.34043230e-01],\n",
       "       [-2.99272662e-01,  7.84842897e-01],\n",
       "       [ 1.56914013e-01,  1.00638948e+00],\n",
       "       [ 1.36659191e+00, -5.68284850e-01],\n",
       "       [ 1.91692325e+00,  4.09253199e-01],\n",
       "       [ 6.26292760e-01, -4.07296382e-01],\n",
       "       [ 6.10236636e-01,  6.49916542e-01],\n",
       "       [ 7.61881841e-01,  7.39598231e-01],\n",
       "       [ 7.33131869e-01, -3.16490243e-01],\n",
       "       [-7.37805091e-02,  3.93338717e-01],\n",
       "       [ 9.70319594e-01,  2.77415131e-01],\n",
       "       [-9.18576049e-01,  4.11728015e-01],\n",
       "       [ 8.28580562e-01,  4.20262436e-01],\n",
       "       [ 7.78862304e-01,  4.57448498e-01],\n",
       "       [-1.43722641e-01,  1.09081820e+00],\n",
       "       [-6.93092055e-01,  3.41338830e-01],\n",
       "       [-8.69193423e-01,  3.66858003e-01],\n",
       "       [ 1.69200331e-01,  7.96123531e-02],\n",
       "       [ 9.92999193e-01, -4.40083201e-01],\n",
       "       [ 2.08169342e+00,  3.45492971e-01],\n",
       "       [ 7.74274794e-01,  5.13401991e-01],\n",
       "       [ 7.65403563e-01, -4.38002772e-01],\n",
       "       [ 7.57701348e-01, -5.22958521e-01],\n",
       "       [-6.83237612e-01,  6.68992059e-01],\n",
       "       [-4.02232277e-01,  8.96917055e-01],\n",
       "       [-1.40127689e-01,  9.43258555e-01],\n",
       "       [-1.93827678e-02,  1.79164007e-01],\n",
       "       [-8.03836522e-01,  6.16206092e-01],\n",
       "       [-4.47056285e-01,  1.10671112e+00],\n",
       "       [ 5.20086361e-01,  9.17650427e-01],\n",
       "       [-8.44536488e-01,  5.18967210e-01],\n",
       "       [ 1.92823801e+00,  2.51931387e-02],\n",
       "       [ 1.64316844e-01, -7.31069818e-02],\n",
       "       [ 1.51140583e+00, -4.67676175e-01],\n",
       "       [ 1.82126379e-01,  9.70844605e-01],\n",
       "       [ 1.02133357e+00,  2.07252903e-01],\n",
       "       [-2.98092253e-01,  9.23871597e-01],\n",
       "       [-5.11079203e-01,  9.57829628e-01],\n",
       "       [-6.26080262e-01,  8.58735056e-01],\n",
       "       [-8.22045174e-01,  5.19009308e-01],\n",
       "       [ 1.86611282e+00, -5.49895835e-02],\n",
       "       [ 1.76790305e+00, -2.29059382e-01],\n",
       "       [ 1.07809547e+00, -7.94722066e-02],\n",
       "       [ 2.14499779e-02,  4.78735289e-01],\n",
       "       [ 1.64236331e+00,  1.67377201e-01],\n",
       "       [ 1.84722791e-01,  9.48982926e-01],\n",
       "       [-1.01248634e+00,  1.12569840e-02],\n",
       "       [ 8.03995867e-01,  2.57867994e-01],\n",
       "       [ 7.91246082e-01,  7.64477657e-01],\n",
       "       [-6.25843096e-01,  8.13560721e-01],\n",
       "       [ 4.78671200e-01, -1.83720607e-01],\n",
       "       [ 5.97568307e-01,  6.21646477e-01],\n",
       "       [ 4.34315753e-01,  8.94690365e-01],\n",
       "       [ 8.39311690e-01,  5.37566373e-01],\n",
       "       [ 8.66656666e-01, -3.52765760e-01],\n",
       "       [ 1.64075835e+00, -3.34006685e-01],\n",
       "       [ 1.85659290e+00, -7.61232477e-02],\n",
       "       [ 4.68042631e-01, -4.06736691e-01],\n",
       "       [ 1.95707018e+00,  2.95482202e-01],\n",
       "       [-1.04670026e+00,  2.52752071e-02],\n",
       "       [ 5.36891418e-01, -2.74500176e-01],\n",
       "       [ 9.04720777e-01, -4.73360800e-01],\n",
       "       [ 3.64437794e-02,  1.01861316e+00],\n",
       "       [-1.34554295e-01,  8.76669434e-01],\n",
       "       [-4.89014434e-01,  6.92535166e-01],\n",
       "       [-7.77035004e-01,  6.86524220e-01],\n",
       "       [ 7.77810251e-01,  4.63971828e-01],\n",
       "       [ 9.80478432e-01,  3.06383860e-02],\n",
       "       [ 7.00746869e-01,  1.01437620e+00],\n",
       "       [ 9.43485766e-01,  5.71834041e-01],\n",
       "       [-7.55641329e-02,  9.48859049e-01],\n",
       "       [ 1.52621178e+00,  2.74454577e-03],\n",
       "       [ 1.32054508e+00, -6.16232935e-01],\n",
       "       [-8.51060124e-01,  7.23884435e-02],\n",
       "       [ 1.00515848e-01,  5.58133329e-02],\n",
       "       [ 1.34442545e+00, -4.57012063e-01],\n",
       "       [ 9.49635954e-01,  3.98969006e-01],\n",
       "       [-1.15904676e-01,  8.54161550e-01],\n",
       "       [ 1.83227498e-01,  3.22492014e-01],\n",
       "       [ 9.06733498e-01,  5.09623700e-01],\n",
       "       [ 1.62216572e+00, -4.26437267e-01],\n",
       "       [-9.48564990e-01,  1.70905202e-01],\n",
       "       [ 9.94875944e-03, -1.01705063e-01],\n",
       "       [-1.97244273e-01,  9.80487295e-01],\n",
       "       [ 6.94696951e-01, -5.88999080e-01],\n",
       "       [ 1.15525339e+00, -4.00699012e-01],\n",
       "       [ 1.19895990e+00, -3.80082945e-01],\n",
       "       [ 9.89035782e-01, -5.27767369e-01],\n",
       "       [ 4.21744528e-01, -2.85683006e-01],\n",
       "       [ 4.29403460e-01, -3.43969119e-01],\n",
       "       [-2.25081214e-03,  9.84413696e-01],\n",
       "       [ 1.91265625e+00,  2.50867264e-01],\n",
       "       [ 1.95205062e+00,  1.68641522e-01],\n",
       "       [-8.60491029e-01,  7.84715311e-01],\n",
       "       [-1.32830418e-01,  1.14697537e+00],\n",
       "       [ 1.95794493e+00,  3.18528238e-01],\n",
       "       [-1.14867868e+00,  2.25356525e-01],\n",
       "       [ 1.69239776e-01,  1.15550595e+00],\n",
       "       [ 5.58008627e-01,  6.40956826e-01],\n",
       "       [ 8.66325028e-01,  4.09936057e-01],\n",
       "       [ 6.31869025e-01,  7.02241476e-01],\n",
       "       [ 1.45402666e-01,  1.18942389e+00],\n",
       "       [-9.06972658e-01,  5.79460182e-01],\n",
       "       [ 7.54553133e-01,  1.10989186e-01],\n",
       "       [ 1.10114940e+00, -4.53080844e-01],\n",
       "       [-3.63319667e-01,  8.00712704e-01],\n",
       "       [ 6.61577276e-01,  9.14121677e-01],\n",
       "       [ 5.75131991e-01,  8.19212192e-01],\n",
       "       [ 1.87837368e+00,  3.72072539e-01],\n",
       "       [ 4.77481885e-01,  7.47747379e-01],\n",
       "       [ 1.07805410e+00,  2.58846578e-01],\n",
       "       [ 2.05191622e+00,  2.84291820e-01],\n",
       "       [ 1.25405160e+00, -4.79965880e-01],\n",
       "       [ 1.48464659e+00, -2.99385148e-01],\n",
       "       [ 7.85655906e-01, -5.84030546e-01],\n",
       "       [-8.82560514e-01,  8.53535636e-02],\n",
       "       [ 1.38021842e-01,  1.74181794e-01],\n",
       "       [ 1.63580381e+00, -1.88918262e-01],\n",
       "       [ 4.08716236e-01,  1.04686798e+00],\n",
       "       [-8.07717171e-01,  3.97368675e-01],\n",
       "       [ 2.17046733e-01, -3.20657092e-02],\n",
       "       [ 7.83542346e-01, -6.16323593e-01],\n",
       "       [-1.11040199e+00,  1.13020581e-01],\n",
       "       [ 1.77632684e+00, -3.66571689e-02],\n",
       "       [-7.24323406e-01,  7.54860534e-01],\n",
       "       [ 1.77740484e+00,  2.40289233e-01],\n",
       "       [-4.09330721e-01,  1.00229931e+00],\n",
       "       [-7.80322373e-02,  3.91904104e-01],\n",
       "       [-8.16896833e-01,  5.64198093e-01],\n",
       "       [ 1.11806857e-03,  1.67623978e-01],\n",
       "       [ 1.64773024e+00, -3.58074860e-01],\n",
       "       [ 6.13585005e-01,  8.88828068e-01],\n",
       "       [ 1.30369485e-01,  5.08170186e-02],\n",
       "       [ 6.64596359e-01, -4.30369228e-01],\n",
       "       [ 1.43001869e-01,  9.31398309e-01],\n",
       "       [ 1.02681514e+00, -6.05403736e-01],\n",
       "       [-8.03471512e-01,  5.45896309e-01],\n",
       "       [ 1.76819803e+00, -1.45892984e-01],\n",
       "       [ 5.25135519e-01, -3.93830377e-01],\n",
       "       [ 4.99329633e-01, -4.65899842e-01],\n",
       "       [-4.20365449e-02,  2.93193659e-01],\n",
       "       [ 5.60920107e-02,  1.14801029e+00],\n",
       "       [ 1.99454082e+00,  7.20789765e-02],\n",
       "       [-1.14864204e-01,  9.84726182e-01],\n",
       "       [ 4.28621311e-01, -2.74618305e-01],\n",
       "       [ 1.03438686e+00,  4.08951032e-01],\n",
       "       [-1.16738726e-01,  1.05955805e+00],\n",
       "       [ 1.82504909e+00,  1.07346664e-01],\n",
       "       [ 3.81547035e-01,  1.01826763e-01],\n",
       "       [ 6.22076478e-01,  8.11507881e-01],\n",
       "       [ 3.76005340e-01,  1.00882386e+00],\n",
       "       [-4.82782101e-01,  7.83965132e-01],\n",
       "       [ 8.33095124e-01,  4.84146274e-01],\n",
       "       [-1.18469273e+00,  1.45060783e-01],\n",
       "       [ 1.70577380e+00,  4.44916437e-01],\n",
       "       [-6.87043662e-01,  8.54530523e-01],\n",
       "       [ 1.41668212e+00, -5.21627619e-01],\n",
       "       [ 9.17399790e-01, -5.09409169e-01],\n",
       "       [ 1.70038921e+00, -3.22717527e-01],\n",
       "       [ 9.55578822e-01, -4.18684444e-01],\n",
       "       [ 3.75151079e-02,  2.85759653e-01],\n",
       "       [-1.05973840e+00,  8.00614798e-01],\n",
       "       [-1.07485137e+00,  1.55154137e-01],\n",
       "       [ 1.92414960e+00,  8.60947257e-02],\n",
       "       [ 8.07294679e-01, -5.44594501e-01],\n",
       "       [ 1.11890406e-01,  8.16106397e-02],\n",
       "       [ 7.65060938e-01, -6.47885937e-01],\n",
       "       [-3.43876731e-01,  9.97951863e-01],\n",
       "       [ 6.79908155e-01,  3.30234098e-01],\n",
       "       [ 1.19087471e-01,  1.62287249e-01],\n",
       "       [-3.85330086e-01,  1.04581469e+00],\n",
       "       [ 9.39849023e-01,  1.31793243e-01],\n",
       "       [ 1.05991281e+00, -6.29009230e-01],\n",
       "       [ 1.11326894e+00, -5.67453941e-01],\n",
       "       [ 1.64582971e+00, -2.43889199e-01],\n",
       "       [ 3.54769263e-01,  1.05469594e+00],\n",
       "       [-5.10231386e-01,  8.59031980e-01],\n",
       "       [-9.69650318e-01,  2.98431824e-01],\n",
       "       [ 2.04861997e+00, -6.36146655e-02],\n",
       "       [-1.48718904e-01,  9.50807684e-01],\n",
       "       [ 1.06381979e+00,  1.26275071e-01],\n",
       "       [ 4.80662991e-01,  9.81517934e-01],\n",
       "       [ 2.04847645e+00,  3.55071541e-02],\n",
       "       [ 4.26232461e-01,  9.08923179e-01],\n",
       "       [-1.76189003e-02,  5.51879437e-01],\n",
       "       [ 7.61150236e-01,  6.47918937e-01],\n",
       "       [ 1.41369048e+00, -3.07020284e-01],\n",
       "       [ 1.71736858e-01, -1.64636176e-02],\n",
       "       [ 2.59273442e-01, -2.91830482e-01],\n",
       "       [ 6.65355665e-01, -4.57162563e-01],\n",
       "       [ 2.71338488e-01,  1.31119527e-02],\n",
       "       [ 4.74911317e-01,  1.05858508e+00],\n",
       "       [ 1.39126511e-01,  1.08232214e+00],\n",
       "       [-5.99449303e-01,  8.30341131e-01],\n",
       "       [-6.53227579e-01,  6.50527527e-01],\n",
       "       [ 3.15246944e-01, -2.86788535e-01],\n",
       "       [ 1.09090896e+00,  2.18677289e-01],\n",
       "       [-5.18907622e-01,  7.52415560e-01],\n",
       "       [ 1.86368866e+00, -8.96823343e-02],\n",
       "       [-9.96873102e-01,  6.55495626e-01],\n",
       "       [-7.43410162e-01,  6.19821273e-01],\n",
       "       [ 1.60780464e+00, -3.63153936e-01],\n",
       "       [ 6.01383444e-01,  8.69940632e-01],\n",
       "       [-3.43181099e-01,  9.20350281e-01],\n",
       "       [ 2.80297376e-01, -2.45397431e-01],\n",
       "       [-5.51745758e-01,  8.88033700e-01],\n",
       "       [ 1.42202821e+00, -2.57686424e-01],\n",
       "       [ 1.23180185e+00, -3.86478094e-01],\n",
       "       [ 1.70138291e+00, -2.47141931e-01],\n",
       "       [-1.01596059e+00,  2.07699357e-01],\n",
       "       [-8.59152152e-01,  6.53028777e-01],\n",
       "       [ 1.36697816e+00, -3.56394185e-01],\n",
       "       [ 9.88511467e-01,  5.26654611e-01],\n",
       "       [-4.58315236e-01,  9.24312530e-01],\n",
       "       [ 2.41277527e-01, -1.38954496e-01],\n",
       "       [ 7.13333046e-01, -3.22630455e-01],\n",
       "       [ 6.91506553e-01, -5.41594772e-01],\n",
       "       [ 1.86514316e+00,  5.28265580e-02],\n",
       "       [ 2.18595599e-02,  3.12306856e-01],\n",
       "       [-5.31949437e-02,  8.57625684e-01],\n",
       "       [ 1.79982965e-01,  9.41252255e-01],\n",
       "       [ 1.45253148e+00, -4.38717947e-01],\n",
       "       [ 2.22293108e-01,  1.13075175e+00],\n",
       "       [ 1.70300701e+00, -2.25104163e-02],\n",
       "       [ 1.05201172e+00,  3.18884590e-01],\n",
       "       [ 1.74812649e+00,  4.14307034e-02],\n",
       "       [-5.24377772e-01,  8.41606128e-01],\n",
       "       [ 1.94606199e+00,  5.45848886e-01],\n",
       "       [ 9.60409133e-01,  4.37847855e-01],\n",
       "       [ 1.55212957e-01,  8.96406815e-03],\n",
       "       [-2.91114567e-01,  1.15493414e+00],\n",
       "       [-3.28900596e-04,  1.18443691e+00],\n",
       "       [ 4.91581539e-02,  1.08725361e+00],\n",
       "       [ 7.30163040e-01, -4.34488726e-01],\n",
       "       [ 4.39970379e-01, -3.02025725e-01],\n",
       "       [-6.12334869e-01,  6.88814049e-01],\n",
       "       [ 1.29271177e-01,  3.63691872e-01],\n",
       "       [ 1.15579385e+00,  1.19170858e-01],\n",
       "       [-9.23020234e-01,  4.40359362e-01],\n",
       "       [ 3.18637191e-01, -4.20724084e-02],\n",
       "       [-6.18989138e-01,  7.82597791e-01],\n",
       "       [ 8.70259358e-01, -6.64381619e-01],\n",
       "       [-7.07756993e-01,  6.09670074e-01],\n",
       "       [ 4.79914004e-01, -5.89605473e-01],\n",
       "       [ 9.73134161e-01,  3.15950468e-01],\n",
       "       [ 1.85632773e+00,  8.48946223e-02],\n",
       "       [-3.99759827e-02,  7.36789587e-01],\n",
       "       [-1.02656885e+00,  1.28957039e-01],\n",
       "       [ 1.10041443e+00,  3.92074347e-01],\n",
       "       [ 1.14622752e+00, -3.08403334e-01],\n",
       "       [ 4.14757884e-01,  9.55671647e-01],\n",
       "       [ 1.71800782e+00,  1.83784178e-01],\n",
       "       [ 2.05123177e+00,  2.84742930e-01],\n",
       "       [-4.05324908e-02,  8.44961634e-01],\n",
       "       [-6.23220769e-01,  5.82422566e-01],\n",
       "       [ 2.74703373e-01,  2.70637554e-01],\n",
       "       [ 1.95816825e+00, -1.07848346e-01],\n",
       "       [ 4.12436501e-01, -5.10393151e-01],\n",
       "       [ 2.10814626e+00,  3.41932912e-01],\n",
       "       [ 8.80556811e-01,  2.53569571e-01],\n",
       "       [ 8.72261109e-02,  2.80717821e-01],\n",
       "       [ 1.79727787e+00,  1.61620900e-01],\n",
       "       [ 1.15156542e+00, -5.65992713e-01],\n",
       "       [ 1.50479033e+00, -2.66948251e-01],\n",
       "       [ 1.74172984e+00, -8.39364839e-02],\n",
       "       [ 1.82481785e-01,  8.92747342e-01],\n",
       "       [-2.12344313e-02,  1.51133369e-01],\n",
       "       [ 1.99490947e+00,  1.66188484e-01],\n",
       "       [-7.73323107e-01,  6.08490002e-01],\n",
       "       [ 3.98250482e-01, -3.11579609e-01],\n",
       "       [ 5.31286161e-01,  9.76635579e-01],\n",
       "       [-9.56751537e-01,  1.86312836e-01],\n",
       "       [ 6.07312728e-01,  4.47463298e-01],\n",
       "       [ 8.85023922e-01,  4.75729672e-01],\n",
       "       [-1.02256524e+00,  6.74096526e-01],\n",
       "       [ 4.06374870e-01, -2.96837451e-01],\n",
       "       [-8.16717572e-02,  4.55008247e-01],\n",
       "       [ 3.59754425e-01, -3.56034349e-01],\n",
       "       [-9.31486554e-01,  3.36552008e-01],\n",
       "       [ 1.42671677e+00, -4.92916371e-01],\n",
       "       [ 8.26700597e-01,  7.02957253e-01],\n",
       "       [ 2.02262500e+00, -1.18011512e-01],\n",
       "       [ 6.35333459e-01,  6.62232901e-01],\n",
       "       [-7.33972749e-01,  7.55853909e-01],\n",
       "       [-1.14698432e-01,  1.24895761e+00],\n",
       "       [ 2.91426378e-01,  9.07082035e-01],\n",
       "       [ 5.72204767e-01, -2.61712026e-01],\n",
       "       [ 8.93406347e-01, -6.84104704e-01],\n",
       "       [ 2.42955213e-01, -5.98572914e-02],\n",
       "       [ 8.68921358e-01,  6.70715405e-01],\n",
       "       [ 1.47597917e+00, -2.97362861e-01],\n",
       "       [ 2.79828430e-01,  3.31432154e-02],\n",
       "       [-8.83464626e-01, -1.07462227e-01],\n",
       "       [ 1.56799135e+00, -2.92629870e-01],\n",
       "       [ 1.85330632e+00,  4.28627466e-01],\n",
       "       [ 2.01753618e-01, -8.51979990e-02],\n",
       "       [ 8.33349342e-03,  9.64766902e-01],\n",
       "       [ 1.87920111e+00,  2.03637877e-01],\n",
       "       [ 2.12528883e+00,  6.44436640e-01],\n",
       "       [-1.13138838e+00,  3.33261874e-01],\n",
       "       [ 9.62256922e-01, -5.77888468e-01],\n",
       "       [ 4.91456268e-01, -1.57664258e-01],\n",
       "       [-1.11298170e+00, -5.70225952e-02],\n",
       "       [ 1.50753619e+00, -3.26092648e-01],\n",
       "       [ 5.16444286e-01,  8.35317696e-01],\n",
       "       [ 3.27882421e-01, -2.79133217e-01],\n",
       "       [-2.56946549e-03,  9.65709312e-01],\n",
       "       [ 1.76022954e+00, -2.45581205e-01],\n",
       "       [ 1.21503347e+00, -4.60098847e-01],\n",
       "       [ 1.91126784e-02,  9.74724120e-01],\n",
       "       [ 8.36245953e-01,  9.57582840e-02],\n",
       "       [ 7.97527387e-01,  3.19479771e-01],\n",
       "       [ 1.81759064e+00, -2.86794597e-01],\n",
       "       [-6.28490317e-01,  8.71007874e-01],\n",
       "       [ 1.86199288e+00, -1.07183192e-01],\n",
       "       [ 3.80038111e-01,  8.50433664e-01],\n",
       "       [ 6.21288614e-01, -4.79869201e-01],\n",
       "       [ 3.24178382e-01, -7.15558215e-04],\n",
       "       [ 5.06328106e-01,  1.13475865e+00],\n",
       "       [ 1.73294747e-01,  5.90830463e-01],\n",
       "       [-1.04402870e+00,  3.21120014e-01],\n",
       "       [ 1.91680660e+00,  2.73147734e-01],\n",
       "       [-5.39699976e-01,  1.09727088e+00],\n",
       "       [-8.80909083e-01,  1.70786188e-01],\n",
       "       [ 1.00465608e+00, -7.01928287e-01],\n",
       "       [-4.25054667e-01,  8.71791555e-01],\n",
       "       [ 2.98191239e-02,  9.73138733e-01],\n",
       "       [-6.38594988e-01,  8.73413936e-01],\n",
       "       [-7.01467742e-01,  5.85080379e-01],\n",
       "       [ 8.10455524e-01,  5.38465372e-01],\n",
       "       [ 6.38765279e-01, -6.11337990e-01],\n",
       "       [ 4.37760233e-01, -2.08957202e-01],\n",
       "       [-1.06031782e+00,  3.32066919e-01],\n",
       "       [ 1.45334450e+00, -3.78251335e-01],\n",
       "       [ 2.49903545e-01,  1.03592560e+00],\n",
       "       [ 2.94698251e-01, -1.06035302e-01],\n",
       "       [ 1.81862615e+00,  5.66647780e-01],\n",
       "       [ 1.58401886e+00, -6.80585566e-02],\n",
       "       [-1.31138038e-01,  2.24878100e-01],\n",
       "       [-6.31437826e-01,  9.72715414e-01],\n",
       "       [-7.74267069e-01,  6.66470615e-01],\n",
       "       [ 7.48627810e-01,  5.96591574e-01],\n",
       "       [ 4.51733950e-01, -2.91019742e-01],\n",
       "       [ 7.07309281e-01,  8.63185775e-01],\n",
       "       [ 1.88712008e+00,  3.91640618e-01],\n",
       "       [ 9.84695479e-01,  8.35836161e-02],\n",
       "       [ 1.55221790e+00, -2.25582327e-01],\n",
       "       [-9.55740643e-01,  9.92385003e-02],\n",
       "       [ 1.75266025e-01,  2.17458656e-01],\n",
       "       [ 1.64847591e+00, -4.29745132e-01],\n",
       "       [-4.60057398e-01,  9.06641145e-01],\n",
       "       [-1.06167021e+00, -6.10372605e-02],\n",
       "       [ 6.72471765e-01, -2.84618457e-01],\n",
       "       [ 1.15291198e+00, -4.48883277e-01],\n",
       "       [ 2.26985220e-01, -2.68813199e-01],\n",
       "       [ 6.23943024e-01,  9.01315812e-01],\n",
       "       [ 1.38806056e+00, -3.56914742e-01],\n",
       "       [ 1.12005368e+00, -3.26152372e-01],\n",
       "       [ 6.83053651e-01,  6.26601326e-01],\n",
       "       [ 4.61282418e-01, -2.83759680e-01],\n",
       "       [ 8.00588506e-02,  8.33811212e-02],\n",
       "       [-7.32633621e-01,  6.17911478e-01],\n",
       "       [ 8.70534706e-01,  3.11654991e-01],\n",
       "       [ 1.08725284e+00,  1.08140707e-01],\n",
       "       [ 1.99307163e+00,  3.69923021e-01],\n",
       "       [ 1.54836833e-01, -9.77386945e-02],\n",
       "       [ 5.13614090e-02,  1.02825586e-01],\n",
       "       [ 1.98336061e+00,  4.40301204e-01],\n",
       "       [ 1.58960505e+00, -2.15798426e-01],\n",
       "       [ 1.97051492e+00,  4.14169965e-01],\n",
       "       [-2.98395256e-01,  9.41475213e-01],\n",
       "       [ 9.53536019e-01,  2.57747891e-01],\n",
       "       [ 9.26297975e-01,  1.52401206e-01],\n",
       "       [-9.55828904e-01,  6.22236031e-02],\n",
       "       [-2.76298400e-01,  1.11307309e+00],\n",
       "       [ 1.35011701e+00, -4.82852209e-01],\n",
       "       [-6.27161748e-01,  6.04540781e-01],\n",
       "       [ 3.44122657e-01,  8.96937080e-01],\n",
       "       [ 7.37392782e-01, -4.54720746e-01],\n",
       "       [-9.09963902e-01,  5.97418345e-01],\n",
       "       [ 1.26160779e+00, -5.01959939e-01],\n",
       "       [-7.49609779e-01,  6.29779512e-01],\n",
       "       [ 2.67877162e-01, -2.17842478e-01],\n",
       "       [-1.87429707e-01,  1.47111108e-01],\n",
       "       [ 1.82241482e+00, -1.07901491e-01],\n",
       "       [-9.75933959e-01,  1.96245134e-01],\n",
       "       [ 6.28462433e-01, -4.08734285e-01],\n",
       "       [-6.72163321e-01,  7.20201370e-01],\n",
       "       [ 1.16061866e+00, -5.50161893e-01],\n",
       "       [ 3.74504286e-01,  9.78320304e-01],\n",
       "       [ 1.94074865e-01,  1.02686107e+00],\n",
       "       [ 1.61661320e+00,  2.62945640e-01],\n",
       "       [ 3.95999585e-01, -2.89968094e-01]])"
      ]
     },
     "execution_count": 33,
     "metadata": {},
     "output_type": "execute_result"
    }
   ],
   "source": [
    "X"
   ]
  },
  {
   "cell_type": "code",
   "execution_count": 34,
   "metadata": {},
   "outputs": [],
   "source": [
    "df = pd.DataFrame(dict(x=X[:,0], y=X[:,1], label=y))"
   ]
  },
  {
   "cell_type": "code",
   "execution_count": 35,
   "metadata": {},
   "outputs": [
    {
     "data": {
      "image/png": "[encoded data removed]",
      "text/plain": [
       "<Figure size 720x576 with 1 Axes>"
      ]
     },
     "metadata": {
      "needs_background": "light"
     },
     "output_type": "display_data"
    }
   ],
   "source": [
    "# group dataset by label\n",
    "grouped = df.groupby('label')\n",
    "\n",
    "# plot classification dataset\n",
    "colors = {0:'red', 1:'blue'}\n",
    "fig, ax = plt.subplots()\n",
    "for key, group in grouped:\n",
    "    group.plot(ax=ax, kind='scatter', x='x', y='y', label=key, color=colors[key], figsize=(10,8))\n",
    "plt.show()"
   ]
  },
  {
   "cell_type": "code",
   "execution_count": 36,
   "metadata": {},
   "outputs": [],
   "source": [
    "df.to_csv(\"dataset/class_moons.csv\")"
   ]
  },
  {
   "cell_type": "markdown",
   "metadata": {},
   "source": [
    "## 2.3 make_circles"
   ]
  },
  {
   "cell_type": "code",
   "execution_count": 37,
   "metadata": {},
   "outputs": [],
   "source": [
    "from sklearn.datasets import make_circles"
   ]
  },
  {
   "cell_type": "code",
   "execution_count": 38,
   "metadata": {},
   "outputs": [],
   "source": [
    "X, y = make_circles(n_samples=500, noise=0.05)"
   ]
  },
  {
   "cell_type": "code",
   "execution_count": 39,
   "metadata": {},
   "outputs": [
    {
     "data": {
      "text/html": [
       "<div>\n",
       "<style scoped>\n",
       "    .dataframe tbody tr th:only-of-type {\n",
       "        vertical-align: middle;\n",
       "    }\n",
       "\n",
       "    .dataframe tbody tr th {\n",
       "        vertical-align: top;\n",
       "    }\n",
       "\n",
       "    .dataframe thead th {\n",
       "        text-align: right;\n",
       "    }\n",
       "</style>\n",
       "<table border=\"1\" class=\"dataframe\">\n",
       "  <thead>\n",
       "    <tr style=\"text-align: right;\">\n",
       "      <th></th>\n",
       "      <th>x</th>\n",
       "      <th>y</th>\n",
       "      <th>label</th>\n",
       "    </tr>\n",
       "  </thead>\n",
       "  <tbody>\n",
       "    <tr>\n",
       "      <th>0</th>\n",
       "      <td>0.000877</td>\n",
       "      <td>1.009965</td>\n",
       "      <td>0</td>\n",
       "    </tr>\n",
       "    <tr>\n",
       "      <th>1</th>\n",
       "      <td>0.417610</td>\n",
       "      <td>0.722016</td>\n",
       "      <td>1</td>\n",
       "    </tr>\n",
       "    <tr>\n",
       "      <th>2</th>\n",
       "      <td>0.750701</td>\n",
       "      <td>0.128908</td>\n",
       "      <td>1</td>\n",
       "    </tr>\n",
       "    <tr>\n",
       "      <th>3</th>\n",
       "      <td>1.006201</td>\n",
       "      <td>-0.167974</td>\n",
       "      <td>0</td>\n",
       "    </tr>\n",
       "    <tr>\n",
       "      <th>4</th>\n",
       "      <td>-0.341090</td>\n",
       "      <td>0.718443</td>\n",
       "      <td>1</td>\n",
       "    </tr>\n",
       "  </tbody>\n",
       "</table>\n",
       "</div>"
      ],
      "text/plain": [
       "          x         y  label\n",
       "0  0.000877  1.009965      0\n",
       "1  0.417610  0.722016      1\n",
       "2  0.750701  0.128908      1\n",
       "3  1.006201 -0.167974      0\n",
       "4 -0.341090  0.718443      1"
      ]
     },
     "execution_count": 39,
     "metadata": {},
     "output_type": "execute_result"
    }
   ],
   "source": [
    "# scatter plot, dots colored by class value\n",
    "df = pd.DataFrame(dict(x=X[:,0], y=X[:,1], label=y))\n",
    "df.head()"
   ]
  },
  {
   "cell_type": "code",
   "execution_count": 40,
   "metadata": {},
   "outputs": [
    {
     "data": {
      "image/png": "[encoded data removed]",
      "text/plain": [
       "<Figure size 720x576 with 1 Axes>"
      ]
     },
     "metadata": {
      "needs_background": "light"
     },
     "output_type": "display_data"
    }
   ],
   "source": [
    "# group dataset by label\n",
    "grouped = df.groupby('label')\n",
    "\n",
    "# plot classification dataset\n",
    "colors = {0:'red', 1:'blue'}\n",
    "fig, ax = plt.subplots()\n",
    "for key, group in grouped:\n",
    "    group.plot(ax=ax, kind='scatter', x='x', y='y', label=key, color=colors[key], figsize=(10,8))\n",
    "plt.show()"
   ]
  },
  {
   "cell_type": "code",
   "execution_count": 41,
   "metadata": {},
   "outputs": [],
   "source": [
    "df.to_csv(\"dataset/class_circles.csv\")"
   ]
  },
  {
   "cell_type": "code",
   "execution_count": null,
   "metadata": {},
   "outputs": [],
   "source": []
  }
 ],
 "metadata": {
  "kernelspec": {
   "display_name": "Python 3",
   "language": "python",
   "name": "python3"
  },
  "language_info": {
   "codemirror_mode": {
    "name": "ipython",
    "version": 3
   },
   "file_extension": ".py",
   "mimetype": "text/x-python",
   "name": "python",
   "nbconvert_exporter": "python",
   "pygments_lexer": "ipython3",
   "version": "3.7.1"
  }
 },
 "nbformat": 4,
 "nbformat_minor": 4
}
